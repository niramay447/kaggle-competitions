{
 "cells": [
  {
   "cell_type": "code",
   "execution_count": 1,
   "id": "9f4b18e6",
   "metadata": {
    "_cell_guid": "b1076dfc-b9ad-4769-8c92-a6c4dae69d19",
    "_uuid": "8f2839f25d086af736a60e9eeb907d3b93b6e0e5",
    "execution": {
     "iopub.execute_input": "2022-10-05T19:14:40.183893Z",
     "iopub.status.busy": "2022-10-05T19:14:40.183471Z",
     "iopub.status.idle": "2022-10-05T19:14:41.514849Z",
     "shell.execute_reply": "2022-10-05T19:14:41.513644Z"
    },
    "papermill": {
     "duration": 1.343643,
     "end_time": "2022-10-05T19:14:41.518026",
     "exception": false,
     "start_time": "2022-10-05T19:14:40.174383",
     "status": "completed"
    },
    "tags": []
   },
   "outputs": [
    {
     "name": "stdout",
     "output_type": "stream",
     "text": [
      "/kaggle/input/house-prices-advanced-regression-techniques/sample_submission.csv\n",
      "/kaggle/input/house-prices-advanced-regression-techniques/data_description.txt\n",
      "/kaggle/input/house-prices-advanced-regression-techniques/train.csv\n",
      "/kaggle/input/house-prices-advanced-regression-techniques/test.csv\n"
     ]
    }
   ],
   "source": [
    "import numpy as np \n",
    "import pandas as pd \n",
    "import math\n",
    "\n",
    "import warnings\n",
    "warnings.filterwarnings(\"ignore\")\n",
    "\n",
    "from sklearn.preprocessing import LabelEncoder\n",
    "from sklearn.preprocessing import MinMaxScaler\n",
    "from sklearn.preprocessing import StandardScaler\n",
    "\n",
    "from sklearn.linear_model import Lasso\n",
    "\n",
    "from sklearn.model_selection import train_test_split\n",
    "from sklearn.model_selection import GridSearchCV\n",
    "\n",
    "\n",
    "from sklearn.ensemble import GradientBoostingRegressor\n",
    "\n",
    "from sklearn.metrics import mean_squared_error\n",
    "\n",
    "\n",
    "import xgboost as xgb\n",
    "import os\n",
    "for dirname, _, filenames in os.walk('/kaggle/input'):\n",
    "    for filename in filenames:\n",
    "        print(os.path.join(dirname, filename))\n"
   ]
  },
  {
   "cell_type": "code",
   "execution_count": 2,
   "id": "5a3bb82b",
   "metadata": {
    "execution": {
     "iopub.execute_input": "2022-10-05T19:14:41.531996Z",
     "iopub.status.busy": "2022-10-05T19:14:41.531585Z",
     "iopub.status.idle": "2022-10-05T19:14:41.610149Z",
     "shell.execute_reply": "2022-10-05T19:14:41.608868Z"
    },
    "papermill": {
     "duration": 0.088407,
     "end_time": "2022-10-05T19:14:41.612967",
     "exception": false,
     "start_time": "2022-10-05T19:14:41.524560",
     "status": "completed"
    },
    "tags": []
   },
   "outputs": [],
   "source": [
    "train = pd.read_csv('../input/house-prices-advanced-regression-techniques/train.csv')\n",
    "test = pd.read_csv('/kaggle/input/house-prices-advanced-regression-techniques/test.csv')"
   ]
  },
  {
   "cell_type": "code",
   "execution_count": 3,
   "id": "3ca6e748",
   "metadata": {
    "execution": {
     "iopub.execute_input": "2022-10-05T19:14:41.626703Z",
     "iopub.status.busy": "2022-10-05T19:14:41.626001Z",
     "iopub.status.idle": "2022-10-05T19:14:41.663051Z",
     "shell.execute_reply": "2022-10-05T19:14:41.661806Z"
    },
    "papermill": {
     "duration": 0.046465,
     "end_time": "2022-10-05T19:14:41.665536",
     "exception": false,
     "start_time": "2022-10-05T19:14:41.619071",
     "status": "completed"
    },
    "tags": []
   },
   "outputs": [
    {
     "data": {
      "text/html": [
       "<div>\n",
       "<style scoped>\n",
       "    .dataframe tbody tr th:only-of-type {\n",
       "        vertical-align: middle;\n",
       "    }\n",
       "\n",
       "    .dataframe tbody tr th {\n",
       "        vertical-align: top;\n",
       "    }\n",
       "\n",
       "    .dataframe thead th {\n",
       "        text-align: right;\n",
       "    }\n",
       "</style>\n",
       "<table border=\"1\" class=\"dataframe\">\n",
       "  <thead>\n",
       "    <tr style=\"text-align: right;\">\n",
       "      <th></th>\n",
       "      <th>Id</th>\n",
       "      <th>MSSubClass</th>\n",
       "      <th>MSZoning</th>\n",
       "      <th>LotFrontage</th>\n",
       "      <th>LotArea</th>\n",
       "      <th>Street</th>\n",
       "      <th>Alley</th>\n",
       "      <th>LotShape</th>\n",
       "      <th>LandContour</th>\n",
       "      <th>Utilities</th>\n",
       "      <th>...</th>\n",
       "      <th>PoolArea</th>\n",
       "      <th>PoolQC</th>\n",
       "      <th>Fence</th>\n",
       "      <th>MiscFeature</th>\n",
       "      <th>MiscVal</th>\n",
       "      <th>MoSold</th>\n",
       "      <th>YrSold</th>\n",
       "      <th>SaleType</th>\n",
       "      <th>SaleCondition</th>\n",
       "      <th>SalePrice</th>\n",
       "    </tr>\n",
       "  </thead>\n",
       "  <tbody>\n",
       "    <tr>\n",
       "      <th>0</th>\n",
       "      <td>1</td>\n",
       "      <td>60</td>\n",
       "      <td>RL</td>\n",
       "      <td>65.0</td>\n",
       "      <td>8450</td>\n",
       "      <td>Pave</td>\n",
       "      <td>NaN</td>\n",
       "      <td>Reg</td>\n",
       "      <td>Lvl</td>\n",
       "      <td>AllPub</td>\n",
       "      <td>...</td>\n",
       "      <td>0</td>\n",
       "      <td>NaN</td>\n",
       "      <td>NaN</td>\n",
       "      <td>NaN</td>\n",
       "      <td>0</td>\n",
       "      <td>2</td>\n",
       "      <td>2008</td>\n",
       "      <td>WD</td>\n",
       "      <td>Normal</td>\n",
       "      <td>208500</td>\n",
       "    </tr>\n",
       "    <tr>\n",
       "      <th>1</th>\n",
       "      <td>2</td>\n",
       "      <td>20</td>\n",
       "      <td>RL</td>\n",
       "      <td>80.0</td>\n",
       "      <td>9600</td>\n",
       "      <td>Pave</td>\n",
       "      <td>NaN</td>\n",
       "      <td>Reg</td>\n",
       "      <td>Lvl</td>\n",
       "      <td>AllPub</td>\n",
       "      <td>...</td>\n",
       "      <td>0</td>\n",
       "      <td>NaN</td>\n",
       "      <td>NaN</td>\n",
       "      <td>NaN</td>\n",
       "      <td>0</td>\n",
       "      <td>5</td>\n",
       "      <td>2007</td>\n",
       "      <td>WD</td>\n",
       "      <td>Normal</td>\n",
       "      <td>181500</td>\n",
       "    </tr>\n",
       "    <tr>\n",
       "      <th>2</th>\n",
       "      <td>3</td>\n",
       "      <td>60</td>\n",
       "      <td>RL</td>\n",
       "      <td>68.0</td>\n",
       "      <td>11250</td>\n",
       "      <td>Pave</td>\n",
       "      <td>NaN</td>\n",
       "      <td>IR1</td>\n",
       "      <td>Lvl</td>\n",
       "      <td>AllPub</td>\n",
       "      <td>...</td>\n",
       "      <td>0</td>\n",
       "      <td>NaN</td>\n",
       "      <td>NaN</td>\n",
       "      <td>NaN</td>\n",
       "      <td>0</td>\n",
       "      <td>9</td>\n",
       "      <td>2008</td>\n",
       "      <td>WD</td>\n",
       "      <td>Normal</td>\n",
       "      <td>223500</td>\n",
       "    </tr>\n",
       "    <tr>\n",
       "      <th>3</th>\n",
       "      <td>4</td>\n",
       "      <td>70</td>\n",
       "      <td>RL</td>\n",
       "      <td>60.0</td>\n",
       "      <td>9550</td>\n",
       "      <td>Pave</td>\n",
       "      <td>NaN</td>\n",
       "      <td>IR1</td>\n",
       "      <td>Lvl</td>\n",
       "      <td>AllPub</td>\n",
       "      <td>...</td>\n",
       "      <td>0</td>\n",
       "      <td>NaN</td>\n",
       "      <td>NaN</td>\n",
       "      <td>NaN</td>\n",
       "      <td>0</td>\n",
       "      <td>2</td>\n",
       "      <td>2006</td>\n",
       "      <td>WD</td>\n",
       "      <td>Abnorml</td>\n",
       "      <td>140000</td>\n",
       "    </tr>\n",
       "    <tr>\n",
       "      <th>4</th>\n",
       "      <td>5</td>\n",
       "      <td>60</td>\n",
       "      <td>RL</td>\n",
       "      <td>84.0</td>\n",
       "      <td>14260</td>\n",
       "      <td>Pave</td>\n",
       "      <td>NaN</td>\n",
       "      <td>IR1</td>\n",
       "      <td>Lvl</td>\n",
       "      <td>AllPub</td>\n",
       "      <td>...</td>\n",
       "      <td>0</td>\n",
       "      <td>NaN</td>\n",
       "      <td>NaN</td>\n",
       "      <td>NaN</td>\n",
       "      <td>0</td>\n",
       "      <td>12</td>\n",
       "      <td>2008</td>\n",
       "      <td>WD</td>\n",
       "      <td>Normal</td>\n",
       "      <td>250000</td>\n",
       "    </tr>\n",
       "  </tbody>\n",
       "</table>\n",
       "<p>5 rows × 81 columns</p>\n",
       "</div>"
      ],
      "text/plain": [
       "   Id  MSSubClass MSZoning  LotFrontage  LotArea Street Alley LotShape  \\\n",
       "0   1          60       RL         65.0     8450   Pave   NaN      Reg   \n",
       "1   2          20       RL         80.0     9600   Pave   NaN      Reg   \n",
       "2   3          60       RL         68.0    11250   Pave   NaN      IR1   \n",
       "3   4          70       RL         60.0     9550   Pave   NaN      IR1   \n",
       "4   5          60       RL         84.0    14260   Pave   NaN      IR1   \n",
       "\n",
       "  LandContour Utilities  ... PoolArea PoolQC Fence MiscFeature MiscVal MoSold  \\\n",
       "0         Lvl    AllPub  ...        0    NaN   NaN         NaN       0      2   \n",
       "1         Lvl    AllPub  ...        0    NaN   NaN         NaN       0      5   \n",
       "2         Lvl    AllPub  ...        0    NaN   NaN         NaN       0      9   \n",
       "3         Lvl    AllPub  ...        0    NaN   NaN         NaN       0      2   \n",
       "4         Lvl    AllPub  ...        0    NaN   NaN         NaN       0     12   \n",
       "\n",
       "  YrSold  SaleType  SaleCondition  SalePrice  \n",
       "0   2008        WD         Normal     208500  \n",
       "1   2007        WD         Normal     181500  \n",
       "2   2008        WD         Normal     223500  \n",
       "3   2006        WD        Abnorml     140000  \n",
       "4   2008        WD         Normal     250000  \n",
       "\n",
       "[5 rows x 81 columns]"
      ]
     },
     "execution_count": 3,
     "metadata": {},
     "output_type": "execute_result"
    }
   ],
   "source": [
    "train.head()"
   ]
  },
  {
   "cell_type": "code",
   "execution_count": 4,
   "id": "d48f2ff9",
   "metadata": {
    "execution": {
     "iopub.execute_input": "2022-10-05T19:14:41.679877Z",
     "iopub.status.busy": "2022-10-05T19:14:41.679502Z",
     "iopub.status.idle": "2022-10-05T19:14:41.702184Z",
     "shell.execute_reply": "2022-10-05T19:14:41.700995Z"
    },
    "papermill": {
     "duration": 0.033071,
     "end_time": "2022-10-05T19:14:41.705001",
     "exception": false,
     "start_time": "2022-10-05T19:14:41.671930",
     "status": "completed"
    },
    "tags": []
   },
   "outputs": [
    {
     "data": {
      "text/plain": [
       "SalePrice        1.000000\n",
       "OverallQual      0.790982\n",
       "GrLivArea        0.708624\n",
       "GarageCars       0.640409\n",
       "GarageArea       0.623431\n",
       "TotalBsmtSF      0.613581\n",
       "1stFlrSF         0.605852\n",
       "FullBath         0.560664\n",
       "TotRmsAbvGrd     0.533723\n",
       "YearBuilt        0.522897\n",
       "YearRemodAdd     0.507101\n",
       "GarageYrBlt      0.486362\n",
       "MasVnrArea       0.477493\n",
       "Fireplaces       0.466929\n",
       "BsmtFinSF1       0.386420\n",
       "LotFrontage      0.351799\n",
       "WoodDeckSF       0.324413\n",
       "2ndFlrSF         0.319334\n",
       "OpenPorchSF      0.315856\n",
       "HalfBath         0.284108\n",
       "LotArea          0.263843\n",
       "BsmtFullBath     0.227122\n",
       "BsmtUnfSF        0.214479\n",
       "BedroomAbvGr     0.168213\n",
       "ScreenPorch      0.111447\n",
       "PoolArea         0.092404\n",
       "MoSold           0.046432\n",
       "3SsnPorch        0.044584\n",
       "BsmtFinSF2      -0.011378\n",
       "BsmtHalfBath    -0.016844\n",
       "MiscVal         -0.021190\n",
       "Id              -0.021917\n",
       "LowQualFinSF    -0.025606\n",
       "YrSold          -0.028923\n",
       "OverallCond     -0.077856\n",
       "MSSubClass      -0.084284\n",
       "EnclosedPorch   -0.128578\n",
       "KitchenAbvGr    -0.135907\n",
       "Name: SalePrice, dtype: float64"
      ]
     },
     "execution_count": 4,
     "metadata": {},
     "output_type": "execute_result"
    }
   ],
   "source": [
    "train.corr()[\"SalePrice\"].sort_values(ascending=False)"
   ]
  },
  {
   "cell_type": "code",
   "execution_count": 5,
   "id": "6e7a1fb2",
   "metadata": {
    "execution": {
     "iopub.execute_input": "2022-10-05T19:14:41.719894Z",
     "iopub.status.busy": "2022-10-05T19:14:41.719514Z",
     "iopub.status.idle": "2022-10-05T19:14:41.739772Z",
     "shell.execute_reply": "2022-10-05T19:14:41.738490Z"
    },
    "papermill": {
     "duration": 0.031199,
     "end_time": "2022-10-05T19:14:41.742517",
     "exception": false,
     "start_time": "2022-10-05T19:14:41.711318",
     "status": "completed"
    },
    "tags": []
   },
   "outputs": [],
   "source": [
    "all_data = pd.concat([train,test],axis=0,sort=False)"
   ]
  },
  {
   "cell_type": "code",
   "execution_count": 6,
   "id": "9544900c",
   "metadata": {
    "execution": {
     "iopub.execute_input": "2022-10-05T19:14:41.756988Z",
     "iopub.status.busy": "2022-10-05T19:14:41.756597Z",
     "iopub.status.idle": "2022-10-05T19:14:41.781535Z",
     "shell.execute_reply": "2022-10-05T19:14:41.780105Z"
    },
    "papermill": {
     "duration": 0.035521,
     "end_time": "2022-10-05T19:14:41.784543",
     "exception": false,
     "start_time": "2022-10-05T19:14:41.749022",
     "status": "completed"
    },
    "tags": []
   },
   "outputs": [],
   "source": [
    "numericals = list(all_data.drop('SalePrice',axis=1).select_dtypes(include='number'))\n",
    "categoricals = list(all_data.select_dtypes(exclude='number'))"
   ]
  },
  {
   "cell_type": "code",
   "execution_count": 7,
   "id": "4bc1c9b5",
   "metadata": {
    "execution": {
     "iopub.execute_input": "2022-10-05T19:14:41.800189Z",
     "iopub.status.busy": "2022-10-05T19:14:41.799805Z",
     "iopub.status.idle": "2022-10-05T19:14:41.826436Z",
     "shell.execute_reply": "2022-10-05T19:14:41.825484Z"
    },
    "papermill": {
     "duration": 0.037648,
     "end_time": "2022-10-05T19:14:41.829466",
     "exception": false,
     "start_time": "2022-10-05T19:14:41.791818",
     "status": "completed"
    },
    "tags": []
   },
   "outputs": [],
   "source": [
    "all_data[categoricals] = all_data[categoricals].replace(np.nan,'None')"
   ]
  },
  {
   "cell_type": "code",
   "execution_count": 8,
   "id": "17542219",
   "metadata": {
    "execution": {
     "iopub.execute_input": "2022-10-05T19:14:41.848439Z",
     "iopub.status.busy": "2022-10-05T19:14:41.848046Z",
     "iopub.status.idle": "2022-10-05T19:14:41.874291Z",
     "shell.execute_reply": "2022-10-05T19:14:41.873463Z"
    },
    "papermill": {
     "duration": 0.038798,
     "end_time": "2022-10-05T19:14:41.876644",
     "exception": false,
     "start_time": "2022-10-05T19:14:41.837846",
     "status": "completed"
    },
    "tags": []
   },
   "outputs": [],
   "source": [
    "for feature in numericals:\n",
    "    all_data[feature].fillna(all_data[feature].median(), inplace=True)"
   ]
  },
  {
   "cell_type": "code",
   "execution_count": 9,
   "id": "b33c255e",
   "metadata": {
    "execution": {
     "iopub.execute_input": "2022-10-05T19:14:41.893902Z",
     "iopub.status.busy": "2022-10-05T19:14:41.892823Z",
     "iopub.status.idle": "2022-10-05T19:14:41.901080Z",
     "shell.execute_reply": "2022-10-05T19:14:41.899985Z"
    },
    "papermill": {
     "duration": 0.017886,
     "end_time": "2022-10-05T19:14:41.903532",
     "exception": false,
     "start_time": "2022-10-05T19:14:41.885646",
     "status": "completed"
    },
    "tags": []
   },
   "outputs": [],
   "source": [
    "test_ID = all_data[1460:2919][\"Id\"]\n",
    "all_data.drop(\"Id\",axis=1,inplace=True)"
   ]
  },
  {
   "cell_type": "code",
   "execution_count": 10,
   "id": "3a0e577f",
   "metadata": {
    "execution": {
     "iopub.execute_input": "2022-10-05T19:14:41.917892Z",
     "iopub.status.busy": "2022-10-05T19:14:41.916871Z",
     "iopub.status.idle": "2022-10-05T19:14:41.921986Z",
     "shell.execute_reply": "2022-10-05T19:14:41.921262Z"
    },
    "papermill": {
     "duration": 0.01456,
     "end_time": "2022-10-05T19:14:41.924131",
     "exception": false,
     "start_time": "2022-10-05T19:14:41.909571",
     "status": "completed"
    },
    "tags": []
   },
   "outputs": [],
   "source": [
    "numericals.remove('Id')"
   ]
  },
  {
   "cell_type": "code",
   "execution_count": 11,
   "id": "7e0bd998",
   "metadata": {
    "execution": {
     "iopub.execute_input": "2022-10-05T19:14:41.939121Z",
     "iopub.status.busy": "2022-10-05T19:14:41.938524Z",
     "iopub.status.idle": "2022-10-05T19:14:42.010484Z",
     "shell.execute_reply": "2022-10-05T19:14:42.009466Z"
    },
    "papermill": {
     "duration": 0.082955,
     "end_time": "2022-10-05T19:14:42.013073",
     "exception": false,
     "start_time": "2022-10-05T19:14:41.930118",
     "status": "completed"
    },
    "tags": []
   },
   "outputs": [],
   "source": [
    "features = test.drop('Id',axis=1).columns\n",
    "label_encoder = LabelEncoder()\n",
    "\n",
    "for feature in features:\n",
    "    if all_data[feature].dtype == 'O':\n",
    "        all_data[feature] = label_encoder.fit_transform(all_data[feature])\n",
    "        \n",
    "    elif all_data[feature].dtype == 'bool':\n",
    "        all_data[feature] = all_data[feature].astype('int')"
   ]
  },
  {
   "cell_type": "code",
   "execution_count": 12,
   "id": "1b91fffd",
   "metadata": {
    "execution": {
     "iopub.execute_input": "2022-10-05T19:14:42.026913Z",
     "iopub.status.busy": "2022-10-05T19:14:42.026548Z",
     "iopub.status.idle": "2022-10-05T19:14:42.047689Z",
     "shell.execute_reply": "2022-10-05T19:14:42.046642Z"
    },
    "papermill": {
     "duration": 0.031038,
     "end_time": "2022-10-05T19:14:42.050217",
     "exception": false,
     "start_time": "2022-10-05T19:14:42.019179",
     "status": "completed"
    },
    "tags": []
   },
   "outputs": [],
   "source": [
    "std_scaler = StandardScaler()\n",
    "all_data[numericals] = std_scaler.fit_transform(all_data[numericals])"
   ]
  },
  {
   "cell_type": "code",
   "execution_count": 13,
   "id": "5e793ed8",
   "metadata": {
    "execution": {
     "iopub.execute_input": "2022-10-05T19:14:42.063995Z",
     "iopub.status.busy": "2022-10-05T19:14:42.063633Z",
     "iopub.status.idle": "2022-10-05T19:14:42.068866Z",
     "shell.execute_reply": "2022-10-05T19:14:42.067841Z"
    },
    "papermill": {
     "duration": 0.014692,
     "end_time": "2022-10-05T19:14:42.071000",
     "exception": false,
     "start_time": "2022-10-05T19:14:42.056308",
     "status": "completed"
    },
    "tags": []
   },
   "outputs": [],
   "source": [
    "train = all_data[0:1460]\n",
    "test = all_data[1460:2919]"
   ]
  },
  {
   "cell_type": "code",
   "execution_count": 14,
   "id": "d22d8c45",
   "metadata": {
    "execution": {
     "iopub.execute_input": "2022-10-05T19:14:42.084839Z",
     "iopub.status.busy": "2022-10-05T19:14:42.084466Z",
     "iopub.status.idle": "2022-10-05T19:14:42.091088Z",
     "shell.execute_reply": "2022-10-05T19:14:42.090133Z"
    },
    "papermill": {
     "duration": 0.016396,
     "end_time": "2022-10-05T19:14:42.093466",
     "exception": false,
     "start_time": "2022-10-05T19:14:42.077070",
     "status": "completed"
    },
    "tags": []
   },
   "outputs": [],
   "source": [
    "X=train.drop([\"SalePrice\"],axis=1)\n",
    "y=train[\"SalePrice\"]"
   ]
  },
  {
   "cell_type": "code",
   "execution_count": 15,
   "id": "74877012",
   "metadata": {
    "execution": {
     "iopub.execute_input": "2022-10-05T19:14:42.107576Z",
     "iopub.status.busy": "2022-10-05T19:14:42.107214Z",
     "iopub.status.idle": "2022-10-05T19:14:42.113648Z",
     "shell.execute_reply": "2022-10-05T19:14:42.112668Z"
    },
    "papermill": {
     "duration": 0.016034,
     "end_time": "2022-10-05T19:14:42.115880",
     "exception": false,
     "start_time": "2022-10-05T19:14:42.099846",
     "status": "completed"
    },
    "tags": []
   },
   "outputs": [
    {
     "data": {
      "text/plain": [
       "(1460, 79)"
      ]
     },
     "execution_count": 15,
     "metadata": {},
     "output_type": "execute_result"
    }
   ],
   "source": [
    "X.shape"
   ]
  },
  {
   "cell_type": "code",
   "execution_count": 16,
   "id": "a631c17d",
   "metadata": {
    "execution": {
     "iopub.execute_input": "2022-10-05T19:14:42.130382Z",
     "iopub.status.busy": "2022-10-05T19:14:42.130007Z",
     "iopub.status.idle": "2022-10-05T19:19:53.089148Z",
     "shell.execute_reply": "2022-10-05T19:19:53.087538Z"
    },
    "papermill": {
     "duration": 310.978416,
     "end_time": "2022-10-05T19:19:53.100662",
     "exception": false,
     "start_time": "2022-10-05T19:14:42.122246",
     "status": "completed"
    },
    "tags": []
   },
   "outputs": [
    {
     "data": {
      "text/plain": [
       "42"
      ]
     },
     "execution_count": 16,
     "metadata": {},
     "output_type": "execute_result"
    }
   ],
   "source": [
    "ranks = {}\n",
    "\n",
    "points = X.shape[0]\n",
    "for i in range(points):\n",
    "    X_ = X.drop(X.index[i])\n",
    "    y_ = y.drop(y.index[i])\n",
    "\n",
    "    lasso = Lasso(alpha=0.01,selection='random').fit(X_, y_)\n",
    "    \n",
    "    \n",
    "    features_ = np.where(lasso.coef_>0)[0]\n",
    "    for feature in features_:\n",
    "        ranks[feature] = ranks.get(feature,0) + 1\n",
    "        \n",
    "best = {}\n",
    "best = {k:v for k,v in zip(ranks.keys(),ranks.values()) if v > (points/2)}\n",
    "len(best)"
   ]
  },
  {
   "cell_type": "code",
   "execution_count": 17,
   "id": "b9a55c55",
   "metadata": {
    "execution": {
     "iopub.execute_input": "2022-10-05T19:19:53.134723Z",
     "iopub.status.busy": "2022-10-05T19:19:53.134018Z",
     "iopub.status.idle": "2022-10-05T19:19:53.154015Z",
     "shell.execute_reply": "2022-10-05T19:19:53.152316Z"
    },
    "papermill": {
     "duration": 0.042092,
     "end_time": "2022-10-05T19:19:53.158780",
     "exception": false,
     "start_time": "2022-10-05T19:19:53.116688",
     "status": "completed"
    },
    "tags": []
   },
   "outputs": [
    {
     "data": {
      "text/plain": [
       "(1460, 42)"
      ]
     },
     "execution_count": 17,
     "metadata": {},
     "output_type": "execute_result"
    }
   ],
   "source": [
    "X = X.iloc[:,list(best.keys())]\n",
    "X.shape"
   ]
  },
  {
   "cell_type": "code",
   "execution_count": 18,
   "id": "2d16ffab",
   "metadata": {
    "execution": {
     "iopub.execute_input": "2022-10-05T19:19:53.193806Z",
     "iopub.status.busy": "2022-10-05T19:19:53.193434Z",
     "iopub.status.idle": "2022-10-05T19:19:53.200884Z",
     "shell.execute_reply": "2022-10-05T19:19:53.199869Z"
    },
    "papermill": {
     "duration": 0.027266,
     "end_time": "2022-10-05T19:19:53.203464",
     "exception": false,
     "start_time": "2022-10-05T19:19:53.176198",
     "status": "completed"
    },
    "tags": []
   },
   "outputs": [],
   "source": [
    "X_train,X_test,y_train,y_test = train_test_split(X,y,test_size=0.25,random_state=1)"
   ]
  },
  {
   "cell_type": "code",
   "execution_count": 19,
   "id": "3eb2a479",
   "metadata": {
    "execution": {
     "iopub.execute_input": "2022-10-05T19:19:53.217662Z",
     "iopub.status.busy": "2022-10-05T19:19:53.217268Z",
     "iopub.status.idle": "2022-10-05T19:25:16.044646Z",
     "shell.execute_reply": "2022-10-05T19:25:16.043597Z"
    },
    "papermill": {
     "duration": 322.843945,
     "end_time": "2022-10-05T19:25:16.053798",
     "exception": false,
     "start_time": "2022-10-05T19:19:53.209853",
     "status": "completed"
    },
    "tags": []
   },
   "outputs": [
    {
     "data": {
      "text/plain": [
       "GridSearchCV(cv=2,\n",
       "             estimator=XGBRegressor(base_score=None, booster=None,\n",
       "                                    callbacks=None, colsample_bylevel=None,\n",
       "                                    colsample_bynode=None,\n",
       "                                    colsample_bytree=None,\n",
       "                                    early_stopping_rounds=None,\n",
       "                                    enable_categorical=False, eval_metric=None,\n",
       "                                    gamma=None, gpu_id=None, grow_policy=None,\n",
       "                                    importance_type=None,\n",
       "                                    interaction_constraints=None,\n",
       "                                    learning_rate=None, max_bin=None,\n",
       "                                    max_cat..._step=None,\n",
       "                                    max_depth=None, max_leaves=None,\n",
       "                                    min_child_weight=None, missing=nan,\n",
       "                                    monotone_constraints=None, n_estimators=100,\n",
       "                                    n_jobs=None, num_parallel_tree=None,\n",
       "                                    predictor=None, random_state=None,\n",
       "                                    reg_alpha=None, reg_lambda=None, ...),\n",
       "             param_grid={'colsample_bytree': [0.7, 1.0],\n",
       "                         'learning_rate': [0.01, 0.02, 0.05],\n",
       "                         'max_depth': [6, 10, 50],\n",
       "                         'n_estimators': [100, 500, 1000]})"
      ]
     },
     "execution_count": 19,
     "metadata": {},
     "output_type": "execute_result"
    }
   ],
   "source": [
    "param_grid = {'max_depth': [6,10,50], \n",
    "           'learning_rate': [0.01, 0.02, 0.05], \n",
    "           'n_estimators': [100, 500, 1000], \n",
    "           'colsample_bytree': [0.7, 1.0]} \n",
    "\n",
    "XGB = xgb.XGBRegressor(seed=20)\n",
    "\n",
    "gridcv = GridSearchCV(estimator=XGB, param_grid=param_grid, cv=2)\n",
    "gridcv.fit(X_train,y_train)"
   ]
  },
  {
   "cell_type": "code",
   "execution_count": 20,
   "id": "e1f739ef",
   "metadata": {
    "execution": {
     "iopub.execute_input": "2022-10-05T19:25:16.068542Z",
     "iopub.status.busy": "2022-10-05T19:25:16.068158Z",
     "iopub.status.idle": "2022-10-05T19:25:16.086929Z",
     "shell.execute_reply": "2022-10-05T19:25:16.085830Z"
    },
    "papermill": {
     "duration": 0.029178,
     "end_time": "2022-10-05T19:25:16.089376",
     "exception": false,
     "start_time": "2022-10-05T19:25:16.060198",
     "status": "completed"
    },
    "tags": []
   },
   "outputs": [
    {
     "data": {
      "text/plain": [
       "22128.354235994007"
      ]
     },
     "execution_count": 20,
     "metadata": {},
     "output_type": "execute_result"
    }
   ],
   "source": [
    "predictions = gridcv.predict(X_test)\n",
    "\n",
    "RMSE = math.sqrt(mean_squared_error(y_test,predictions))\n",
    "RMSE"
   ]
  },
  {
   "cell_type": "code",
   "execution_count": 21,
   "id": "7f6da7d2",
   "metadata": {
    "execution": {
     "iopub.execute_input": "2022-10-05T19:25:16.106593Z",
     "iopub.status.busy": "2022-10-05T19:25:16.106201Z",
     "iopub.status.idle": "2022-10-05T19:25:16.112219Z",
     "shell.execute_reply": "2022-10-05T19:25:16.111468Z"
    },
    "papermill": {
     "duration": 0.016639,
     "end_time": "2022-10-05T19:25:16.114204",
     "exception": false,
     "start_time": "2022-10-05T19:25:16.097565",
     "status": "completed"
    },
    "tags": []
   },
   "outputs": [],
   "source": [
    "test = test.iloc[:,list(best.keys())]"
   ]
  },
  {
   "cell_type": "code",
   "execution_count": 22,
   "id": "baa27860",
   "metadata": {
    "execution": {
     "iopub.execute_input": "2022-10-05T19:25:16.129970Z",
     "iopub.status.busy": "2022-10-05T19:25:16.129278Z",
     "iopub.status.idle": "2022-10-05T19:25:16.160118Z",
     "shell.execute_reply": "2022-10-05T19:25:16.159226Z"
    },
    "papermill": {
     "duration": 0.041648,
     "end_time": "2022-10-05T19:25:16.162862",
     "exception": false,
     "start_time": "2022-10-05T19:25:16.121214",
     "status": "completed"
    },
    "tags": []
   },
   "outputs": [],
   "source": [
    "submission_df = pd.DataFrame(columns=[\"Id\",\"SalePrice\"])\n",
    "submission_df[\"Id\"] = test_ID\n",
    "submission_df[\"SalePrice\"] = gridcv.predict(test)\n",
    "submission_df[\"Id\"] = submission_df[\"Id\"].astype(int)"
   ]
  },
  {
   "cell_type": "code",
   "execution_count": 23,
   "id": "ace42ecd",
   "metadata": {
    "execution": {
     "iopub.execute_input": "2022-10-05T19:25:16.181096Z",
     "iopub.status.busy": "2022-10-05T19:25:16.180725Z",
     "iopub.status.idle": "2022-10-05T19:25:16.191582Z",
     "shell.execute_reply": "2022-10-05T19:25:16.190644Z"
    },
    "papermill": {
     "duration": 0.022116,
     "end_time": "2022-10-05T19:25:16.194117",
     "exception": false,
     "start_time": "2022-10-05T19:25:16.172001",
     "status": "completed"
    },
    "tags": []
   },
   "outputs": [],
   "source": [
    "submission_df.to_csv('submission.csv',index = False)\n"
   ]
  }
 ],
 "metadata": {
  "kernelspec": {
   "display_name": "Python 3",
   "language": "python",
   "name": "python3"
  },
  "language_info": {
   "codemirror_mode": {
    "name": "ipython",
    "version": 3
   },
   "file_extension": ".py",
   "mimetype": "text/x-python",
   "name": "python",
   "nbconvert_exporter": "python",
   "pygments_lexer": "ipython3",
   "version": "3.7.12"
  },
  "papermill": {
   "default_parameters": {},
   "duration": 645.561024,
   "end_time": "2022-10-05T19:25:16.926175",
   "environment_variables": {},
   "exception": null,
   "input_path": "__notebook__.ipynb",
   "output_path": "__notebook__.ipynb",
   "parameters": {},
   "start_time": "2022-10-05T19:14:31.365151",
   "version": "2.3.4"
  }
 },
 "nbformat": 4,
 "nbformat_minor": 5
}
