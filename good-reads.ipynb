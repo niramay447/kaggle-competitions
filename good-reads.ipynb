{
 "cells": [
  {
   "cell_type": "code",
   "execution_count": 1,
   "id": "4d81b2c7",
   "metadata": {
    "_cell_guid": "b1076dfc-b9ad-4769-8c92-a6c4dae69d19",
    "_uuid": "8f2839f25d086af736a60e9eeb907d3b93b6e0e5",
    "execution": {
     "iopub.execute_input": "2022-08-05T18:18:42.840820Z",
     "iopub.status.busy": "2022-08-05T18:18:42.840468Z",
     "iopub.status.idle": "2022-08-05T18:18:42.859988Z",
     "shell.execute_reply": "2022-08-05T18:18:42.858847Z"
    },
    "papermill": {
     "duration": 0.026954,
     "end_time": "2022-08-05T18:18:42.862321",
     "exception": false,
     "start_time": "2022-08-05T18:18:42.835367",
     "status": "completed"
    },
    "tags": []
   },
   "outputs": [
    {
     "name": "stdout",
     "output_type": "stream",
     "text": [
      "/kaggle/input/goodreadsbooks/books.csv\n"
     ]
    }
   ],
   "source": [
    "# This Python 3 environment comes with many helpful analytics libraries installed\n",
    "# It is defined by the kaggle/python Docker image: https://github.com/kaggle/docker-python\n",
    "# For example, here's several helpful packages to load\n",
    "\n",
    "import numpy as np # linear algebra\n",
    "import pandas as pd # data processing, CSV file I/O (e.g. pd.read_csv)\n",
    "\n",
    "# Input data files are available in the read-only \"../input/\" directory\n",
    "# For example, running this (by clicking run or pressing Shift+Enter) will list all files under the input directory\n",
    "\n",
    "import os\n",
    "for dirname, _, filenames in os.walk('/kaggle/input'):\n",
    "    for filename in filenames:\n",
    "        print(os.path.join(dirname, filename))\n",
    "\n",
    "# You can write up to 20GB to the current directory (/kaggle/working/) that gets preserved as output when you create a version using \"Save & Run All\" \n",
    "# You can also write temporary files to /kaggle/temp/, but they won't be saved outside of the current session"
   ]
  },
  {
   "cell_type": "code",
   "execution_count": 2,
   "id": "6de42434",
   "metadata": {
    "execution": {
     "iopub.execute_input": "2022-08-05T18:18:42.872949Z",
     "iopub.status.busy": "2022-08-05T18:18:42.872526Z",
     "iopub.status.idle": "2022-08-05T18:18:42.967474Z",
     "shell.execute_reply": "2022-08-05T18:18:42.966067Z"
    },
    "papermill": {
     "duration": 0.10148,
     "end_time": "2022-08-05T18:18:42.969380",
     "exception": false,
     "start_time": "2022-08-05T18:18:42.867900",
     "status": "completed"
    },
    "tags": []
   },
   "outputs": [
    {
     "name": "stderr",
     "output_type": "stream",
     "text": [
      "/opt/conda/lib/python3.7/site-packages/IPython/core/interactiveshell.py:3552: FutureWarning: The error_bad_lines argument has been deprecated and will be removed in a future version.\n",
      "\n",
      "\n",
      "  exec(code_obj, self.user_global_ns, self.user_ns)\n",
      "b'Skipping line 3350: expected 12 fields, saw 13\\nSkipping line 4704: expected 12 fields, saw 13\\nSkipping line 5879: expected 12 fields, saw 13\\nSkipping line 8981: expected 12 fields, saw 13\\n'\n"
     ]
    },
    {
     "data": {
      "text/html": [
       "<div>\n",
       "<style scoped>\n",
       "    .dataframe tbody tr th:only-of-type {\n",
       "        vertical-align: middle;\n",
       "    }\n",
       "\n",
       "    .dataframe tbody tr th {\n",
       "        vertical-align: top;\n",
       "    }\n",
       "\n",
       "    .dataframe thead th {\n",
       "        text-align: right;\n",
       "    }\n",
       "</style>\n",
       "<table border=\"1\" class=\"dataframe\">\n",
       "  <thead>\n",
       "    <tr style=\"text-align: right;\">\n",
       "      <th></th>\n",
       "      <th>bookID</th>\n",
       "      <th>title</th>\n",
       "      <th>authors</th>\n",
       "      <th>average_rating</th>\n",
       "      <th>isbn</th>\n",
       "      <th>isbn13</th>\n",
       "      <th>language_code</th>\n",
       "      <th>num_pages</th>\n",
       "      <th>ratings_count</th>\n",
       "      <th>text_reviews_count</th>\n",
       "      <th>publication_date</th>\n",
       "      <th>publisher</th>\n",
       "    </tr>\n",
       "  </thead>\n",
       "  <tbody>\n",
       "    <tr>\n",
       "      <th>0</th>\n",
       "      <td>1</td>\n",
       "      <td>Harry Potter and the Half-Blood Prince (Harry ...</td>\n",
       "      <td>J.K. Rowling/Mary GrandPré</td>\n",
       "      <td>4.57</td>\n",
       "      <td>0439785960</td>\n",
       "      <td>9780439785969</td>\n",
       "      <td>eng</td>\n",
       "      <td>652</td>\n",
       "      <td>2095690</td>\n",
       "      <td>27591</td>\n",
       "      <td>9/16/2006</td>\n",
       "      <td>Scholastic Inc.</td>\n",
       "    </tr>\n",
       "    <tr>\n",
       "      <th>1</th>\n",
       "      <td>2</td>\n",
       "      <td>Harry Potter and the Order of the Phoenix (Har...</td>\n",
       "      <td>J.K. Rowling/Mary GrandPré</td>\n",
       "      <td>4.49</td>\n",
       "      <td>0439358078</td>\n",
       "      <td>9780439358071</td>\n",
       "      <td>eng</td>\n",
       "      <td>870</td>\n",
       "      <td>2153167</td>\n",
       "      <td>29221</td>\n",
       "      <td>9/1/2004</td>\n",
       "      <td>Scholastic Inc.</td>\n",
       "    </tr>\n",
       "    <tr>\n",
       "      <th>2</th>\n",
       "      <td>4</td>\n",
       "      <td>Harry Potter and the Chamber of Secrets (Harry...</td>\n",
       "      <td>J.K. Rowling</td>\n",
       "      <td>4.42</td>\n",
       "      <td>0439554896</td>\n",
       "      <td>9780439554893</td>\n",
       "      <td>eng</td>\n",
       "      <td>352</td>\n",
       "      <td>6333</td>\n",
       "      <td>244</td>\n",
       "      <td>11/1/2003</td>\n",
       "      <td>Scholastic</td>\n",
       "    </tr>\n",
       "    <tr>\n",
       "      <th>3</th>\n",
       "      <td>5</td>\n",
       "      <td>Harry Potter and the Prisoner of Azkaban (Harr...</td>\n",
       "      <td>J.K. Rowling/Mary GrandPré</td>\n",
       "      <td>4.56</td>\n",
       "      <td>043965548X</td>\n",
       "      <td>9780439655484</td>\n",
       "      <td>eng</td>\n",
       "      <td>435</td>\n",
       "      <td>2339585</td>\n",
       "      <td>36325</td>\n",
       "      <td>5/1/2004</td>\n",
       "      <td>Scholastic Inc.</td>\n",
       "    </tr>\n",
       "    <tr>\n",
       "      <th>4</th>\n",
       "      <td>8</td>\n",
       "      <td>Harry Potter Boxed Set  Books 1-5 (Harry Potte...</td>\n",
       "      <td>J.K. Rowling/Mary GrandPré</td>\n",
       "      <td>4.78</td>\n",
       "      <td>0439682584</td>\n",
       "      <td>9780439682589</td>\n",
       "      <td>eng</td>\n",
       "      <td>2690</td>\n",
       "      <td>41428</td>\n",
       "      <td>164</td>\n",
       "      <td>9/13/2004</td>\n",
       "      <td>Scholastic</td>\n",
       "    </tr>\n",
       "  </tbody>\n",
       "</table>\n",
       "</div>"
      ],
      "text/plain": [
       "   bookID                                              title  \\\n",
       "0       1  Harry Potter and the Half-Blood Prince (Harry ...   \n",
       "1       2  Harry Potter and the Order of the Phoenix (Har...   \n",
       "2       4  Harry Potter and the Chamber of Secrets (Harry...   \n",
       "3       5  Harry Potter and the Prisoner of Azkaban (Harr...   \n",
       "4       8  Harry Potter Boxed Set  Books 1-5 (Harry Potte...   \n",
       "\n",
       "                      authors  average_rating        isbn         isbn13  \\\n",
       "0  J.K. Rowling/Mary GrandPré            4.57  0439785960  9780439785969   \n",
       "1  J.K. Rowling/Mary GrandPré            4.49  0439358078  9780439358071   \n",
       "2                J.K. Rowling            4.42  0439554896  9780439554893   \n",
       "3  J.K. Rowling/Mary GrandPré            4.56  043965548X  9780439655484   \n",
       "4  J.K. Rowling/Mary GrandPré            4.78  0439682584  9780439682589   \n",
       "\n",
       "  language_code    num_pages  ratings_count  text_reviews_count  \\\n",
       "0           eng          652        2095690               27591   \n",
       "1           eng          870        2153167               29221   \n",
       "2           eng          352           6333                 244   \n",
       "3           eng          435        2339585               36325   \n",
       "4           eng         2690          41428                 164   \n",
       "\n",
       "  publication_date        publisher  \n",
       "0        9/16/2006  Scholastic Inc.  \n",
       "1         9/1/2004  Scholastic Inc.  \n",
       "2        11/1/2003       Scholastic  \n",
       "3         5/1/2004  Scholastic Inc.  \n",
       "4        9/13/2004       Scholastic  "
      ]
     },
     "execution_count": 2,
     "metadata": {},
     "output_type": "execute_result"
    }
   ],
   "source": [
    "books_dataset = pd.read_csv('/kaggle/input/goodreadsbooks/books.csv',error_bad_lines=False)\n",
    "books_dataset.head()"
   ]
  },
  {
   "cell_type": "code",
   "execution_count": 3,
   "id": "cf161fd3",
   "metadata": {
    "execution": {
     "iopub.execute_input": "2022-08-05T18:18:42.977576Z",
     "iopub.status.busy": "2022-08-05T18:18:42.977254Z",
     "iopub.status.idle": "2022-08-05T18:18:42.984377Z",
     "shell.execute_reply": "2022-08-05T18:18:42.983493Z"
    },
    "papermill": {
     "duration": 0.013225,
     "end_time": "2022-08-05T18:18:42.986059",
     "exception": false,
     "start_time": "2022-08-05T18:18:42.972834",
     "status": "completed"
    },
    "tags": []
   },
   "outputs": [
    {
     "data": {
      "text/plain": [
       "(11123, 12)"
      ]
     },
     "execution_count": 3,
     "metadata": {},
     "output_type": "execute_result"
    }
   ],
   "source": [
    "books_dataset.shape"
   ]
  },
  {
   "cell_type": "code",
   "execution_count": 4,
   "id": "3e973f32",
   "metadata": {
    "execution": {
     "iopub.execute_input": "2022-08-05T18:18:42.994234Z",
     "iopub.status.busy": "2022-08-05T18:18:42.993774Z",
     "iopub.status.idle": "2022-08-05T18:18:43.027911Z",
     "shell.execute_reply": "2022-08-05T18:18:43.027057Z"
    },
    "papermill": {
     "duration": 0.040116,
     "end_time": "2022-08-05T18:18:43.029599",
     "exception": false,
     "start_time": "2022-08-05T18:18:42.989483",
     "status": "completed"
    },
    "tags": []
   },
   "outputs": [
    {
     "data": {
      "text/html": [
       "<div>\n",
       "<style scoped>\n",
       "    .dataframe tbody tr th:only-of-type {\n",
       "        vertical-align: middle;\n",
       "    }\n",
       "\n",
       "    .dataframe tbody tr th {\n",
       "        vertical-align: top;\n",
       "    }\n",
       "\n",
       "    .dataframe thead th {\n",
       "        text-align: right;\n",
       "    }\n",
       "</style>\n",
       "<table border=\"1\" class=\"dataframe\">\n",
       "  <thead>\n",
       "    <tr style=\"text-align: right;\">\n",
       "      <th></th>\n",
       "      <th>bookID</th>\n",
       "      <th>average_rating</th>\n",
       "      <th>isbn13</th>\n",
       "      <th>num_pages</th>\n",
       "      <th>ratings_count</th>\n",
       "      <th>text_reviews_count</th>\n",
       "    </tr>\n",
       "  </thead>\n",
       "  <tbody>\n",
       "    <tr>\n",
       "      <th>count</th>\n",
       "      <td>11123.000000</td>\n",
       "      <td>11123.000000</td>\n",
       "      <td>1.112300e+04</td>\n",
       "      <td>11123.000000</td>\n",
       "      <td>1.112300e+04</td>\n",
       "      <td>11123.000000</td>\n",
       "    </tr>\n",
       "    <tr>\n",
       "      <th>mean</th>\n",
       "      <td>21310.856963</td>\n",
       "      <td>3.934075</td>\n",
       "      <td>9.759880e+12</td>\n",
       "      <td>336.405556</td>\n",
       "      <td>1.794285e+04</td>\n",
       "      <td>542.048099</td>\n",
       "    </tr>\n",
       "    <tr>\n",
       "      <th>std</th>\n",
       "      <td>13094.727252</td>\n",
       "      <td>0.350485</td>\n",
       "      <td>4.429758e+11</td>\n",
       "      <td>241.152626</td>\n",
       "      <td>1.124992e+05</td>\n",
       "      <td>2576.619589</td>\n",
       "    </tr>\n",
       "    <tr>\n",
       "      <th>min</th>\n",
       "      <td>1.000000</td>\n",
       "      <td>0.000000</td>\n",
       "      <td>8.987060e+09</td>\n",
       "      <td>0.000000</td>\n",
       "      <td>0.000000e+00</td>\n",
       "      <td>0.000000</td>\n",
       "    </tr>\n",
       "    <tr>\n",
       "      <th>25%</th>\n",
       "      <td>10277.500000</td>\n",
       "      <td>3.770000</td>\n",
       "      <td>9.780345e+12</td>\n",
       "      <td>192.000000</td>\n",
       "      <td>1.040000e+02</td>\n",
       "      <td>9.000000</td>\n",
       "    </tr>\n",
       "    <tr>\n",
       "      <th>50%</th>\n",
       "      <td>20287.000000</td>\n",
       "      <td>3.960000</td>\n",
       "      <td>9.780582e+12</td>\n",
       "      <td>299.000000</td>\n",
       "      <td>7.450000e+02</td>\n",
       "      <td>47.000000</td>\n",
       "    </tr>\n",
       "    <tr>\n",
       "      <th>75%</th>\n",
       "      <td>32104.500000</td>\n",
       "      <td>4.140000</td>\n",
       "      <td>9.780872e+12</td>\n",
       "      <td>416.000000</td>\n",
       "      <td>5.000500e+03</td>\n",
       "      <td>238.000000</td>\n",
       "    </tr>\n",
       "    <tr>\n",
       "      <th>max</th>\n",
       "      <td>45641.000000</td>\n",
       "      <td>5.000000</td>\n",
       "      <td>9.790008e+12</td>\n",
       "      <td>6576.000000</td>\n",
       "      <td>4.597666e+06</td>\n",
       "      <td>94265.000000</td>\n",
       "    </tr>\n",
       "  </tbody>\n",
       "</table>\n",
       "</div>"
      ],
      "text/plain": [
       "             bookID  average_rating        isbn13     num_pages  \\\n",
       "count  11123.000000    11123.000000  1.112300e+04  11123.000000   \n",
       "mean   21310.856963        3.934075  9.759880e+12    336.405556   \n",
       "std    13094.727252        0.350485  4.429758e+11    241.152626   \n",
       "min        1.000000        0.000000  8.987060e+09      0.000000   \n",
       "25%    10277.500000        3.770000  9.780345e+12    192.000000   \n",
       "50%    20287.000000        3.960000  9.780582e+12    299.000000   \n",
       "75%    32104.500000        4.140000  9.780872e+12    416.000000   \n",
       "max    45641.000000        5.000000  9.790008e+12   6576.000000   \n",
       "\n",
       "       ratings_count  text_reviews_count  \n",
       "count   1.112300e+04        11123.000000  \n",
       "mean    1.794285e+04          542.048099  \n",
       "std     1.124992e+05         2576.619589  \n",
       "min     0.000000e+00            0.000000  \n",
       "25%     1.040000e+02            9.000000  \n",
       "50%     7.450000e+02           47.000000  \n",
       "75%     5.000500e+03          238.000000  \n",
       "max     4.597666e+06        94265.000000  "
      ]
     },
     "execution_count": 4,
     "metadata": {},
     "output_type": "execute_result"
    }
   ],
   "source": [
    "books_dataset.describe()"
   ]
  },
  {
   "cell_type": "code",
   "execution_count": 5,
   "id": "c7d7aa63",
   "metadata": {
    "execution": {
     "iopub.execute_input": "2022-08-05T18:18:43.038319Z",
     "iopub.status.busy": "2022-08-05T18:18:43.038012Z",
     "iopub.status.idle": "2022-08-05T18:18:43.043603Z",
     "shell.execute_reply": "2022-08-05T18:18:43.042761Z"
    },
    "papermill": {
     "duration": 0.012018,
     "end_time": "2022-08-05T18:18:43.045350",
     "exception": false,
     "start_time": "2022-08-05T18:18:43.033332",
     "status": "completed"
    },
    "tags": []
   },
   "outputs": [
    {
     "data": {
      "text/plain": [
       "Index(['bookID', 'title', 'authors', 'average_rating', 'isbn', 'isbn13',\n",
       "       'language_code', '  num_pages', 'ratings_count', 'text_reviews_count',\n",
       "       'publication_date', 'publisher'],\n",
       "      dtype='object')"
      ]
     },
     "execution_count": 5,
     "metadata": {},
     "output_type": "execute_result"
    }
   ],
   "source": [
    "books_dataset.columns"
   ]
  },
  {
   "cell_type": "code",
   "execution_count": 6,
   "id": "e62fbd2a",
   "metadata": {
    "execution": {
     "iopub.execute_input": "2022-08-05T18:18:43.054356Z",
     "iopub.status.busy": "2022-08-05T18:18:43.053974Z",
     "iopub.status.idle": "2022-08-05T18:18:43.227926Z",
     "shell.execute_reply": "2022-08-05T18:18:43.227082Z"
    },
    "papermill": {
     "duration": 0.180676,
     "end_time": "2022-08-05T18:18:43.229816",
     "exception": false,
     "start_time": "2022-08-05T18:18:43.049140",
     "status": "completed"
    },
    "tags": []
   },
   "outputs": [
    {
     "data": {
      "image/png": "[encoded data removed]",
      "text/plain": [
       "<Figure size 432x288 with 1 Axes>"
      ]
     },
     "metadata": {
      "needs_background": "light"
     },
     "output_type": "display_data"
    }
   ],
   "source": [
    "# plotting histograms for numerical variables\n",
    "import matplotlib.pyplot as plt\n",
    "\n",
    "numericals = books_dataset[['average_rating']]\n",
    "\n",
    "for i in numericals.columns:\n",
    "    plt.hist(numericals[i])\n",
    "    plt.title(i)\n",
    "    plt.show()"
   ]
  },
  {
   "cell_type": "code",
   "execution_count": 7,
   "id": "532b0d94",
   "metadata": {
    "execution": {
     "iopub.execute_input": "2022-08-05T18:18:43.239275Z",
     "iopub.status.busy": "2022-08-05T18:18:43.238601Z",
     "iopub.status.idle": "2022-08-05T18:18:43.263368Z",
     "shell.execute_reply": "2022-08-05T18:18:43.262764Z"
    },
    "papermill": {
     "duration": 0.031739,
     "end_time": "2022-08-05T18:18:43.265451",
     "exception": false,
     "start_time": "2022-08-05T18:18:43.233712",
     "status": "completed"
    },
    "tags": []
   },
   "outputs": [
    {
     "data": {
      "text/html": [
       "<div>\n",
       "<style scoped>\n",
       "    .dataframe tbody tr th:only-of-type {\n",
       "        vertical-align: middle;\n",
       "    }\n",
       "\n",
       "    .dataframe tbody tr th {\n",
       "        vertical-align: top;\n",
       "    }\n",
       "\n",
       "    .dataframe thead th {\n",
       "        text-align: right;\n",
       "    }\n",
       "</style>\n",
       "<table border=\"1\" class=\"dataframe\">\n",
       "  <thead>\n",
       "    <tr style=\"text-align: right;\">\n",
       "      <th></th>\n",
       "      <th>average_rating</th>\n",
       "    </tr>\n",
       "    <tr>\n",
       "      <th>authors</th>\n",
       "      <th></th>\n",
       "    </tr>\n",
       "  </thead>\n",
       "  <tbody>\n",
       "    <tr>\n",
       "      <th>A.B. Yehoshua/Hillel Halkin</th>\n",
       "      <td>3.600</td>\n",
       "    </tr>\n",
       "    <tr>\n",
       "      <th>A.D.P. Briggs/Leo Tolstoy/Fyodor Dostoyevsky</th>\n",
       "      <td>3.760</td>\n",
       "    </tr>\n",
       "    <tr>\n",
       "      <th>A.E. Cunningham/Harlan Ellison/Charles F. Miller/Terry Dowling/Paul Rhoads/Jack Vance/Tom Shippey/Gene Wolfe/David Langford/Dan Simmons/David Mathew</th>\n",
       "      <td>4.150</td>\n",
       "    </tr>\n",
       "    <tr>\n",
       "      <th>A.J. Jacobs</th>\n",
       "      <td>3.760</td>\n",
       "    </tr>\n",
       "    <tr>\n",
       "      <th>A.M. Homes</th>\n",
       "      <td>3.280</td>\n",
       "    </tr>\n",
       "    <tr>\n",
       "      <th>...</th>\n",
       "      <td>...</td>\n",
       "    </tr>\n",
       "    <tr>\n",
       "      <th>Émile Zola/Henri Mitterand</th>\n",
       "      <td>4.060</td>\n",
       "    </tr>\n",
       "    <tr>\n",
       "      <th>Émile Zola/Robert Lethbridge/Elinor Dorday</th>\n",
       "      <td>4.010</td>\n",
       "    </tr>\n",
       "    <tr>\n",
       "      <th>Émile Zola/Robin Buss/Brian  Nelson</th>\n",
       "      <td>3.990</td>\n",
       "    </tr>\n",
       "    <tr>\n",
       "      <th>Émile Zola/Roger Pearson</th>\n",
       "      <td>4.045</td>\n",
       "    </tr>\n",
       "    <tr>\n",
       "      <th>Éric-Emmanuel Schmitt</th>\n",
       "      <td>3.820</td>\n",
       "    </tr>\n",
       "  </tbody>\n",
       "</table>\n",
       "<p>6639 rows × 1 columns</p>\n",
       "</div>"
      ],
      "text/plain": [
       "                                                    average_rating\n",
       "authors                                                           \n",
       "A.B. Yehoshua/Hillel Halkin                                  3.600\n",
       "A.D.P. Briggs/Leo Tolstoy/Fyodor Dostoyevsky                 3.760\n",
       "A.E. Cunningham/Harlan Ellison/Charles F. Mille...           4.150\n",
       "A.J. Jacobs                                                  3.760\n",
       "A.M. Homes                                                   3.280\n",
       "...                                                            ...\n",
       "Émile Zola/Henri Mitterand                                   4.060\n",
       "Émile Zola/Robert Lethbridge/Elinor Dorday                   4.010\n",
       "Émile Zola/Robin Buss/Brian  Nelson                          3.990\n",
       "Émile Zola/Roger Pearson                                     4.045\n",
       "Éric-Emmanuel Schmitt                                        3.820\n",
       "\n",
       "[6639 rows x 1 columns]"
      ]
     },
     "execution_count": 7,
     "metadata": {},
     "output_type": "execute_result"
    }
   ],
   "source": [
    "auth_df = books_dataset.groupby(['authors']).mean()[['average_rating']]\n",
    "auth_df"
   ]
  },
  {
   "cell_type": "code",
   "execution_count": 8,
   "id": "1971bbc7",
   "metadata": {
    "execution": {
     "iopub.execute_input": "2022-08-05T18:18:43.276470Z",
     "iopub.status.busy": "2022-08-05T18:18:43.274688Z",
     "iopub.status.idle": "2022-08-05T18:18:43.408215Z",
     "shell.execute_reply": "2022-08-05T18:18:43.407387Z"
    },
    "papermill": {
     "duration": 0.140276,
     "end_time": "2022-08-05T18:18:43.410037",
     "exception": false,
     "start_time": "2022-08-05T18:18:43.269761",
     "status": "completed"
    },
    "tags": []
   },
   "outputs": [
    {
     "data": {
      "image/png": "[encoded data removed]",
      "text/plain": [
       "<Figure size 432x288 with 1 Axes>"
      ]
     },
     "metadata": {
      "needs_background": "light"
     },
     "output_type": "display_data"
    }
   ],
   "source": [
    "plt.hist(auth_df['average_rating'])\n",
    "plt.show()"
   ]
  },
  {
   "cell_type": "code",
   "execution_count": 9,
   "id": "abe49464",
   "metadata": {
    "execution": {
     "iopub.execute_input": "2022-08-05T18:18:43.423809Z",
     "iopub.status.busy": "2022-08-05T18:18:43.422428Z",
     "iopub.status.idle": "2022-08-05T18:18:43.449085Z",
     "shell.execute_reply": "2022-08-05T18:18:43.448085Z"
    },
    "papermill": {
     "duration": 0.035407,
     "end_time": "2022-08-05T18:18:43.451181",
     "exception": false,
     "start_time": "2022-08-05T18:18:43.415774",
     "status": "completed"
    },
    "tags": []
   },
   "outputs": [
    {
     "data": {
      "text/plain": [
       "0                            [J.K. Rowling, Mary GrandPré]\n",
       "1                            [J.K. Rowling, Mary GrandPré]\n",
       "2                                           [J.K. Rowling]\n",
       "3                            [J.K. Rowling, Mary GrandPré]\n",
       "4                            [J.K. Rowling, Mary GrandPré]\n",
       "                               ...                        \n",
       "11118    [William T. Vollmann, Larry McCaffery, Michael...\n",
       "11119                                [William T. Vollmann]\n",
       "11120                                [William T. Vollmann]\n",
       "11121                                [William T. Vollmann]\n",
       "11122                                         [Mark Twain]\n",
       "Name: authors, Length: 11123, dtype: object"
      ]
     },
     "execution_count": 9,
     "metadata": {},
     "output_type": "execute_result"
    }
   ],
   "source": [
    "import re \n",
    "pattern = '/'\n",
    "authors_rating = books_dataset[['authors','average_rating']]\n",
    "\n",
    "def split_auths(str):\n",
    "    strs = re.split('/',str)\n",
    "    return strs \n",
    "authors = authors_rating['authors'].apply(split_auths)\n",
    "authors "
   ]
  },
  {
   "cell_type": "code",
   "execution_count": 10,
   "id": "3bc9bff3",
   "metadata": {
    "execution": {
     "iopub.execute_input": "2022-08-05T18:18:43.461577Z",
     "iopub.status.busy": "2022-08-05T18:18:43.460826Z",
     "iopub.status.idle": "2022-08-05T18:18:43.467104Z",
     "shell.execute_reply": "2022-08-05T18:18:43.466563Z"
    },
    "papermill": {
     "duration": 0.013056,
     "end_time": "2022-08-05T18:18:43.468560",
     "exception": false,
     "start_time": "2022-08-05T18:18:43.455504",
     "status": "completed"
    },
    "tags": []
   },
   "outputs": [
    {
     "data": {
      "text/plain": [
       "0        4.57\n",
       "1        4.49\n",
       "2        4.42\n",
       "3        4.56\n",
       "4        4.78\n",
       "         ... \n",
       "11118    4.06\n",
       "11119    4.08\n",
       "11120    3.96\n",
       "11121    3.72\n",
       "11122    3.91\n",
       "Name: average_rating, Length: 11123, dtype: float64"
      ]
     },
     "execution_count": 10,
     "metadata": {},
     "output_type": "execute_result"
    }
   ],
   "source": [
    "ratings = authors_rating['average_rating']\n",
    "ratings"
   ]
  },
  {
   "cell_type": "code",
   "execution_count": 11,
   "id": "0b1cafef",
   "metadata": {
    "execution": {
     "iopub.execute_input": "2022-08-05T18:18:43.479104Z",
     "iopub.status.busy": "2022-08-05T18:18:43.478385Z",
     "iopub.status.idle": "2022-08-05T18:18:43.489035Z",
     "shell.execute_reply": "2022-08-05T18:18:43.488179Z"
    },
    "papermill": {
     "duration": 0.017892,
     "end_time": "2022-08-05T18:18:43.490964",
     "exception": false,
     "start_time": "2022-08-05T18:18:43.473072",
     "status": "completed"
    },
    "tags": []
   },
   "outputs": [
    {
     "data": {
      "text/plain": [
       "0        2\n",
       "1        2\n",
       "2        1\n",
       "3        2\n",
       "4        2\n",
       "        ..\n",
       "11118    3\n",
       "11119    1\n",
       "11120    1\n",
       "11121    1\n",
       "11122    1\n",
       "Name: authors, Length: 11123, dtype: int64"
      ]
     },
     "execution_count": 11,
     "metadata": {},
     "output_type": "execute_result"
    }
   ],
   "source": [
    "author_numbers = authors.apply(lambda x:len(x))\n",
    "author_numbers"
   ]
  },
  {
   "cell_type": "code",
   "execution_count": null,
   "id": "05379d13",
   "metadata": {
    "papermill": {
     "duration": 0.00429,
     "end_time": "2022-08-05T18:18:43.499810",
     "exception": false,
     "start_time": "2022-08-05T18:18:43.495520",
     "status": "completed"
    },
    "tags": []
   },
   "outputs": [],
   "source": []
  }
 ],
 "metadata": {
  "kernelspec": {
   "display_name": "Python 3",
   "language": "python",
   "name": "python3"
  },
  "language_info": {
   "codemirror_mode": {
    "name": "ipython",
    "version": 3
   },
   "file_extension": ".py",
   "mimetype": "text/x-python",
   "name": "python",
   "nbconvert_exporter": "python",
   "pygments_lexer": "ipython3",
   "version": "3.7.12"
  },
  "papermill": {
   "default_parameters": {},
   "duration": 9.947059,
   "end_time": "2022-08-05T18:18:44.124303",
   "environment_variables": {},
   "exception": null,
   "input_path": "__notebook__.ipynb",
   "output_path": "__notebook__.ipynb",
   "parameters": {},
   "start_time": "2022-08-05T18:18:34.177244",
   "version": "2.3.4"
  }
 },
 "nbformat": 4,
 "nbformat_minor": 5
}
