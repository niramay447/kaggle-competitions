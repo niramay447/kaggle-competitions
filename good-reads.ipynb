{
 "cells": [
  {
   "cell_type": "code",
   "execution_count": 1,
   "id": "3649b1ff",
   "metadata": {
    "_cell_guid": "b1076dfc-b9ad-4769-8c92-a6c4dae69d19",
    "_uuid": "8f2839f25d086af736a60e9eeb907d3b93b6e0e5",
    "execution": {
     "iopub.execute_input": "2022-08-07T18:44:13.262273Z",
     "iopub.status.busy": "2022-08-07T18:44:13.261048Z",
     "iopub.status.idle": "2022-08-07T18:44:13.277447Z",
     "shell.execute_reply": "2022-08-07T18:44:13.276626Z"
    },
    "papermill": {
     "duration": 0.026884,
     "end_time": "2022-08-07T18:44:13.279637",
     "exception": false,
     "start_time": "2022-08-07T18:44:13.252753",
     "status": "completed"
    },
    "tags": []
   },
   "outputs": [
    {
     "name": "stdout",
     "output_type": "stream",
     "text": [
      "/kaggle/input/goodreadsbooks/books.csv\n"
     ]
    }
   ],
   "source": [
    "# This Python 3 environment comes with many helpful analytics libraries installed\n",
    "# It is defined by the kaggle/python Docker image: https://github.com/kaggle/docker-python\n",
    "# For example, here's several helpful packages to load\n",
    "\n",
    "import numpy as np # linear algebra\n",
    "import pandas as pd # data processing, CSV file I/O (e.g. pd.read_csv)\n",
    "\n",
    "# Input data files are available in the read-only \"../input/\" directory\n",
    "# For example, running this (by clicking run or pressing Shift+Enter) will list all files under the input directory\n",
    "\n",
    "import os\n",
    "for dirname, _, filenames in os.walk('/kaggle/input'):\n",
    "    for filename in filenames:\n",
    "        print(os.path.join(dirname, filename))\n",
    "\n",
    "# You can write up to 20GB to the current directory (/kaggle/working/) that gets preserved as output when you create a version using \"Save & Run All\" \n",
    "# You can also write temporary files to /kaggle/temp/, but they won't be saved outside of the current session"
   ]
  },
  {
   "cell_type": "code",
   "execution_count": 2,
   "id": "262f0985",
   "metadata": {
    "execution": {
     "iopub.execute_input": "2022-08-07T18:44:13.294114Z",
     "iopub.status.busy": "2022-08-07T18:44:13.293516Z",
     "iopub.status.idle": "2022-08-07T18:44:13.383455Z",
     "shell.execute_reply": "2022-08-07T18:44:13.382016Z"
    },
    "papermill": {
     "duration": 0.099987,
     "end_time": "2022-08-07T18:44:13.386176",
     "exception": false,
     "start_time": "2022-08-07T18:44:13.286189",
     "status": "completed"
    },
    "tags": []
   },
   "outputs": [
    {
     "name": "stderr",
     "output_type": "stream",
     "text": [
      "/opt/conda/lib/python3.7/site-packages/IPython/core/interactiveshell.py:3552: FutureWarning: The error_bad_lines argument has been deprecated and will be removed in a future version.\n",
      "\n",
      "\n",
      "  exec(code_obj, self.user_global_ns, self.user_ns)\n",
      "b'Skipping line 3350: expected 12 fields, saw 13\\nSkipping line 4704: expected 12 fields, saw 13\\nSkipping line 5879: expected 12 fields, saw 13\\nSkipping line 8981: expected 12 fields, saw 13\\n'\n"
     ]
    },
    {
     "data": {
      "text/html": [
       "<div>\n",
       "<style scoped>\n",
       "    .dataframe tbody tr th:only-of-type {\n",
       "        vertical-align: middle;\n",
       "    }\n",
       "\n",
       "    .dataframe tbody tr th {\n",
       "        vertical-align: top;\n",
       "    }\n",
       "\n",
       "    .dataframe thead th {\n",
       "        text-align: right;\n",
       "    }\n",
       "</style>\n",
       "<table border=\"1\" class=\"dataframe\">\n",
       "  <thead>\n",
       "    <tr style=\"text-align: right;\">\n",
       "      <th></th>\n",
       "      <th>bookID</th>\n",
       "      <th>title</th>\n",
       "      <th>authors</th>\n",
       "      <th>average_rating</th>\n",
       "      <th>isbn</th>\n",
       "      <th>isbn13</th>\n",
       "      <th>language_code</th>\n",
       "      <th>num_pages</th>\n",
       "      <th>ratings_count</th>\n",
       "      <th>text_reviews_count</th>\n",
       "      <th>publication_date</th>\n",
       "      <th>publisher</th>\n",
       "    </tr>\n",
       "  </thead>\n",
       "  <tbody>\n",
       "    <tr>\n",
       "      <th>0</th>\n",
       "      <td>1</td>\n",
       "      <td>Harry Potter and the Half-Blood Prince (Harry ...</td>\n",
       "      <td>J.K. Rowling/Mary GrandPré</td>\n",
       "      <td>4.57</td>\n",
       "      <td>0439785960</td>\n",
       "      <td>9780439785969</td>\n",
       "      <td>eng</td>\n",
       "      <td>652</td>\n",
       "      <td>2095690</td>\n",
       "      <td>27591</td>\n",
       "      <td>9/16/2006</td>\n",
       "      <td>Scholastic Inc.</td>\n",
       "    </tr>\n",
       "    <tr>\n",
       "      <th>1</th>\n",
       "      <td>2</td>\n",
       "      <td>Harry Potter and the Order of the Phoenix (Har...</td>\n",
       "      <td>J.K. Rowling/Mary GrandPré</td>\n",
       "      <td>4.49</td>\n",
       "      <td>0439358078</td>\n",
       "      <td>9780439358071</td>\n",
       "      <td>eng</td>\n",
       "      <td>870</td>\n",
       "      <td>2153167</td>\n",
       "      <td>29221</td>\n",
       "      <td>9/1/2004</td>\n",
       "      <td>Scholastic Inc.</td>\n",
       "    </tr>\n",
       "    <tr>\n",
       "      <th>2</th>\n",
       "      <td>4</td>\n",
       "      <td>Harry Potter and the Chamber of Secrets (Harry...</td>\n",
       "      <td>J.K. Rowling</td>\n",
       "      <td>4.42</td>\n",
       "      <td>0439554896</td>\n",
       "      <td>9780439554893</td>\n",
       "      <td>eng</td>\n",
       "      <td>352</td>\n",
       "      <td>6333</td>\n",
       "      <td>244</td>\n",
       "      <td>11/1/2003</td>\n",
       "      <td>Scholastic</td>\n",
       "    </tr>\n",
       "    <tr>\n",
       "      <th>3</th>\n",
       "      <td>5</td>\n",
       "      <td>Harry Potter and the Prisoner of Azkaban (Harr...</td>\n",
       "      <td>J.K. Rowling/Mary GrandPré</td>\n",
       "      <td>4.56</td>\n",
       "      <td>043965548X</td>\n",
       "      <td>9780439655484</td>\n",
       "      <td>eng</td>\n",
       "      <td>435</td>\n",
       "      <td>2339585</td>\n",
       "      <td>36325</td>\n",
       "      <td>5/1/2004</td>\n",
       "      <td>Scholastic Inc.</td>\n",
       "    </tr>\n",
       "    <tr>\n",
       "      <th>4</th>\n",
       "      <td>8</td>\n",
       "      <td>Harry Potter Boxed Set  Books 1-5 (Harry Potte...</td>\n",
       "      <td>J.K. Rowling/Mary GrandPré</td>\n",
       "      <td>4.78</td>\n",
       "      <td>0439682584</td>\n",
       "      <td>9780439682589</td>\n",
       "      <td>eng</td>\n",
       "      <td>2690</td>\n",
       "      <td>41428</td>\n",
       "      <td>164</td>\n",
       "      <td>9/13/2004</td>\n",
       "      <td>Scholastic</td>\n",
       "    </tr>\n",
       "  </tbody>\n",
       "</table>\n",
       "</div>"
      ],
      "text/plain": [
       "   bookID                                              title  \\\n",
       "0       1  Harry Potter and the Half-Blood Prince (Harry ...   \n",
       "1       2  Harry Potter and the Order of the Phoenix (Har...   \n",
       "2       4  Harry Potter and the Chamber of Secrets (Harry...   \n",
       "3       5  Harry Potter and the Prisoner of Azkaban (Harr...   \n",
       "4       8  Harry Potter Boxed Set  Books 1-5 (Harry Potte...   \n",
       "\n",
       "                      authors  average_rating        isbn         isbn13  \\\n",
       "0  J.K. Rowling/Mary GrandPré            4.57  0439785960  9780439785969   \n",
       "1  J.K. Rowling/Mary GrandPré            4.49  0439358078  9780439358071   \n",
       "2                J.K. Rowling            4.42  0439554896  9780439554893   \n",
       "3  J.K. Rowling/Mary GrandPré            4.56  043965548X  9780439655484   \n",
       "4  J.K. Rowling/Mary GrandPré            4.78  0439682584  9780439682589   \n",
       "\n",
       "  language_code    num_pages  ratings_count  text_reviews_count  \\\n",
       "0           eng          652        2095690               27591   \n",
       "1           eng          870        2153167               29221   \n",
       "2           eng          352           6333                 244   \n",
       "3           eng          435        2339585               36325   \n",
       "4           eng         2690          41428                 164   \n",
       "\n",
       "  publication_date        publisher  \n",
       "0        9/16/2006  Scholastic Inc.  \n",
       "1         9/1/2004  Scholastic Inc.  \n",
       "2        11/1/2003       Scholastic  \n",
       "3         5/1/2004  Scholastic Inc.  \n",
       "4        9/13/2004       Scholastic  "
      ]
     },
     "execution_count": 2,
     "metadata": {},
     "output_type": "execute_result"
    }
   ],
   "source": [
    "books_dataset = pd.read_csv('/kaggle/input/goodreadsbooks/books.csv',error_bad_lines=False)\n",
    "books_dataset.head()"
   ]
  },
  {
   "cell_type": "code",
   "execution_count": 3,
   "id": "4e2e6dfa",
   "metadata": {
    "execution": {
     "iopub.execute_input": "2022-08-07T18:44:13.402014Z",
     "iopub.status.busy": "2022-08-07T18:44:13.401092Z",
     "iopub.status.idle": "2022-08-07T18:44:13.407096Z",
     "shell.execute_reply": "2022-08-07T18:44:13.406356Z"
    },
    "papermill": {
     "duration": 0.015559,
     "end_time": "2022-08-07T18:44:13.408865",
     "exception": false,
     "start_time": "2022-08-07T18:44:13.393306",
     "status": "completed"
    },
    "tags": []
   },
   "outputs": [
    {
     "data": {
      "text/plain": [
       "(11123, 12)"
      ]
     },
     "execution_count": 3,
     "metadata": {},
     "output_type": "execute_result"
    }
   ],
   "source": [
    "books_dataset.shape"
   ]
  },
  {
   "cell_type": "code",
   "execution_count": 4,
   "id": "d4937761",
   "metadata": {
    "execution": {
     "iopub.execute_input": "2022-08-07T18:44:13.423853Z",
     "iopub.status.busy": "2022-08-07T18:44:13.423245Z",
     "iopub.status.idle": "2022-08-07T18:44:13.459570Z",
     "shell.execute_reply": "2022-08-07T18:44:13.458222Z"
    },
    "papermill": {
     "duration": 0.04607,
     "end_time": "2022-08-07T18:44:13.461609",
     "exception": false,
     "start_time": "2022-08-07T18:44:13.415539",
     "status": "completed"
    },
    "tags": []
   },
   "outputs": [
    {
     "data": {
      "text/html": [
       "<div>\n",
       "<style scoped>\n",
       "    .dataframe tbody tr th:only-of-type {\n",
       "        vertical-align: middle;\n",
       "    }\n",
       "\n",
       "    .dataframe tbody tr th {\n",
       "        vertical-align: top;\n",
       "    }\n",
       "\n",
       "    .dataframe thead th {\n",
       "        text-align: right;\n",
       "    }\n",
       "</style>\n",
       "<table border=\"1\" class=\"dataframe\">\n",
       "  <thead>\n",
       "    <tr style=\"text-align: right;\">\n",
       "      <th></th>\n",
       "      <th>bookID</th>\n",
       "      <th>average_rating</th>\n",
       "      <th>isbn13</th>\n",
       "      <th>num_pages</th>\n",
       "      <th>ratings_count</th>\n",
       "      <th>text_reviews_count</th>\n",
       "    </tr>\n",
       "  </thead>\n",
       "  <tbody>\n",
       "    <tr>\n",
       "      <th>count</th>\n",
       "      <td>11123.000000</td>\n",
       "      <td>11123.000000</td>\n",
       "      <td>1.112300e+04</td>\n",
       "      <td>11123.000000</td>\n",
       "      <td>1.112300e+04</td>\n",
       "      <td>11123.000000</td>\n",
       "    </tr>\n",
       "    <tr>\n",
       "      <th>mean</th>\n",
       "      <td>21310.856963</td>\n",
       "      <td>3.934075</td>\n",
       "      <td>9.759880e+12</td>\n",
       "      <td>336.405556</td>\n",
       "      <td>1.794285e+04</td>\n",
       "      <td>542.048099</td>\n",
       "    </tr>\n",
       "    <tr>\n",
       "      <th>std</th>\n",
       "      <td>13094.727252</td>\n",
       "      <td>0.350485</td>\n",
       "      <td>4.429758e+11</td>\n",
       "      <td>241.152626</td>\n",
       "      <td>1.124992e+05</td>\n",
       "      <td>2576.619589</td>\n",
       "    </tr>\n",
       "    <tr>\n",
       "      <th>min</th>\n",
       "      <td>1.000000</td>\n",
       "      <td>0.000000</td>\n",
       "      <td>8.987060e+09</td>\n",
       "      <td>0.000000</td>\n",
       "      <td>0.000000e+00</td>\n",
       "      <td>0.000000</td>\n",
       "    </tr>\n",
       "    <tr>\n",
       "      <th>25%</th>\n",
       "      <td>10277.500000</td>\n",
       "      <td>3.770000</td>\n",
       "      <td>9.780345e+12</td>\n",
       "      <td>192.000000</td>\n",
       "      <td>1.040000e+02</td>\n",
       "      <td>9.000000</td>\n",
       "    </tr>\n",
       "    <tr>\n",
       "      <th>50%</th>\n",
       "      <td>20287.000000</td>\n",
       "      <td>3.960000</td>\n",
       "      <td>9.780582e+12</td>\n",
       "      <td>299.000000</td>\n",
       "      <td>7.450000e+02</td>\n",
       "      <td>47.000000</td>\n",
       "    </tr>\n",
       "    <tr>\n",
       "      <th>75%</th>\n",
       "      <td>32104.500000</td>\n",
       "      <td>4.140000</td>\n",
       "      <td>9.780872e+12</td>\n",
       "      <td>416.000000</td>\n",
       "      <td>5.000500e+03</td>\n",
       "      <td>238.000000</td>\n",
       "    </tr>\n",
       "    <tr>\n",
       "      <th>max</th>\n",
       "      <td>45641.000000</td>\n",
       "      <td>5.000000</td>\n",
       "      <td>9.790008e+12</td>\n",
       "      <td>6576.000000</td>\n",
       "      <td>4.597666e+06</td>\n",
       "      <td>94265.000000</td>\n",
       "    </tr>\n",
       "  </tbody>\n",
       "</table>\n",
       "</div>"
      ],
      "text/plain": [
       "             bookID  average_rating        isbn13     num_pages  \\\n",
       "count  11123.000000    11123.000000  1.112300e+04  11123.000000   \n",
       "mean   21310.856963        3.934075  9.759880e+12    336.405556   \n",
       "std    13094.727252        0.350485  4.429758e+11    241.152626   \n",
       "min        1.000000        0.000000  8.987060e+09      0.000000   \n",
       "25%    10277.500000        3.770000  9.780345e+12    192.000000   \n",
       "50%    20287.000000        3.960000  9.780582e+12    299.000000   \n",
       "75%    32104.500000        4.140000  9.780872e+12    416.000000   \n",
       "max    45641.000000        5.000000  9.790008e+12   6576.000000   \n",
       "\n",
       "       ratings_count  text_reviews_count  \n",
       "count   1.112300e+04        11123.000000  \n",
       "mean    1.794285e+04          542.048099  \n",
       "std     1.124992e+05         2576.619589  \n",
       "min     0.000000e+00            0.000000  \n",
       "25%     1.040000e+02            9.000000  \n",
       "50%     7.450000e+02           47.000000  \n",
       "75%     5.000500e+03          238.000000  \n",
       "max     4.597666e+06        94265.000000  "
      ]
     },
     "execution_count": 4,
     "metadata": {},
     "output_type": "execute_result"
    }
   ],
   "source": [
    "books_dataset.describe()"
   ]
  },
  {
   "cell_type": "code",
   "execution_count": 5,
   "id": "bf2a3e61",
   "metadata": {
    "execution": {
     "iopub.execute_input": "2022-08-07T18:44:13.477597Z",
     "iopub.status.busy": "2022-08-07T18:44:13.476424Z",
     "iopub.status.idle": "2022-08-07T18:44:13.483496Z",
     "shell.execute_reply": "2022-08-07T18:44:13.482603Z"
    },
    "papermill": {
     "duration": 0.016753,
     "end_time": "2022-08-07T18:44:13.485353",
     "exception": false,
     "start_time": "2022-08-07T18:44:13.468600",
     "status": "completed"
    },
    "tags": []
   },
   "outputs": [
    {
     "data": {
      "text/plain": [
       "Index(['bookID', 'title', 'authors', 'average_rating', 'isbn', 'isbn13',\n",
       "       'language_code', '  num_pages', 'ratings_count', 'text_reviews_count',\n",
       "       'publication_date', 'publisher'],\n",
       "      dtype='object')"
      ]
     },
     "execution_count": 5,
     "metadata": {},
     "output_type": "execute_result"
    }
   ],
   "source": [
    "books_dataset.columns"
   ]
  },
  {
   "cell_type": "code",
   "execution_count": 6,
   "id": "79131af2",
   "metadata": {
    "execution": {
     "iopub.execute_input": "2022-08-07T18:44:13.500317Z",
     "iopub.status.busy": "2022-08-07T18:44:13.500010Z",
     "iopub.status.idle": "2022-08-07T18:44:13.664443Z",
     "shell.execute_reply": "2022-08-07T18:44:13.663322Z"
    },
    "papermill": {
     "duration": 0.174102,
     "end_time": "2022-08-07T18:44:13.666468",
     "exception": false,
     "start_time": "2022-08-07T18:44:13.492366",
     "status": "completed"
    },
    "tags": []
   },
   "outputs": [
    {
     "data": {
      "image/png": "[encoded data removed]",
      "text/plain": [
       "<Figure size 432x288 with 1 Axes>"
      ]
     },
     "metadata": {
      "needs_background": "light"
     },
     "output_type": "display_data"
    }
   ],
   "source": [
    "# plotting histograms for numerical variables\n",
    "import matplotlib.pyplot as plt\n",
    "\n",
    "numericals = books_dataset[['average_rating']]\n",
    "\n",
    "for i in numericals.columns:\n",
    "    plt.hist(numericals[i])\n",
    "    plt.title(i)\n",
    "    plt.show()"
   ]
  },
  {
   "cell_type": "code",
   "execution_count": 7,
   "id": "a71f314f",
   "metadata": {
    "execution": {
     "iopub.execute_input": "2022-08-07T18:44:13.682142Z",
     "iopub.status.busy": "2022-08-07T18:44:13.681597Z",
     "iopub.status.idle": "2022-08-07T18:44:13.703045Z",
     "shell.execute_reply": "2022-08-07T18:44:13.701699Z"
    },
    "papermill": {
     "duration": 0.031226,
     "end_time": "2022-08-07T18:44:13.704685",
     "exception": false,
     "start_time": "2022-08-07T18:44:13.673459",
     "status": "completed"
    },
    "tags": []
   },
   "outputs": [
    {
     "data": {
      "text/html": [
       "<div>\n",
       "<style scoped>\n",
       "    .dataframe tbody tr th:only-of-type {\n",
       "        vertical-align: middle;\n",
       "    }\n",
       "\n",
       "    .dataframe tbody tr th {\n",
       "        vertical-align: top;\n",
       "    }\n",
       "\n",
       "    .dataframe thead th {\n",
       "        text-align: right;\n",
       "    }\n",
       "</style>\n",
       "<table border=\"1\" class=\"dataframe\">\n",
       "  <thead>\n",
       "    <tr style=\"text-align: right;\">\n",
       "      <th></th>\n",
       "      <th>average_rating</th>\n",
       "    </tr>\n",
       "    <tr>\n",
       "      <th>authors</th>\n",
       "      <th></th>\n",
       "    </tr>\n",
       "  </thead>\n",
       "  <tbody>\n",
       "    <tr>\n",
       "      <th>A.B. Yehoshua/Hillel Halkin</th>\n",
       "      <td>3.600</td>\n",
       "    </tr>\n",
       "    <tr>\n",
       "      <th>A.D.P. Briggs/Leo Tolstoy/Fyodor Dostoyevsky</th>\n",
       "      <td>3.760</td>\n",
       "    </tr>\n",
       "    <tr>\n",
       "      <th>A.E. Cunningham/Harlan Ellison/Charles F. Miller/Terry Dowling/Paul Rhoads/Jack Vance/Tom Shippey/Gene Wolfe/David Langford/Dan Simmons/David Mathew</th>\n",
       "      <td>4.150</td>\n",
       "    </tr>\n",
       "    <tr>\n",
       "      <th>A.J. Jacobs</th>\n",
       "      <td>3.760</td>\n",
       "    </tr>\n",
       "    <tr>\n",
       "      <th>A.M. Homes</th>\n",
       "      <td>3.280</td>\n",
       "    </tr>\n",
       "    <tr>\n",
       "      <th>...</th>\n",
       "      <td>...</td>\n",
       "    </tr>\n",
       "    <tr>\n",
       "      <th>Émile Zola/Henri Mitterand</th>\n",
       "      <td>4.060</td>\n",
       "    </tr>\n",
       "    <tr>\n",
       "      <th>Émile Zola/Robert Lethbridge/Elinor Dorday</th>\n",
       "      <td>4.010</td>\n",
       "    </tr>\n",
       "    <tr>\n",
       "      <th>Émile Zola/Robin Buss/Brian  Nelson</th>\n",
       "      <td>3.990</td>\n",
       "    </tr>\n",
       "    <tr>\n",
       "      <th>Émile Zola/Roger Pearson</th>\n",
       "      <td>4.045</td>\n",
       "    </tr>\n",
       "    <tr>\n",
       "      <th>Éric-Emmanuel Schmitt</th>\n",
       "      <td>3.820</td>\n",
       "    </tr>\n",
       "  </tbody>\n",
       "</table>\n",
       "<p>6639 rows × 1 columns</p>\n",
       "</div>"
      ],
      "text/plain": [
       "                                                    average_rating\n",
       "authors                                                           \n",
       "A.B. Yehoshua/Hillel Halkin                                  3.600\n",
       "A.D.P. Briggs/Leo Tolstoy/Fyodor Dostoyevsky                 3.760\n",
       "A.E. Cunningham/Harlan Ellison/Charles F. Mille...           4.150\n",
       "A.J. Jacobs                                                  3.760\n",
       "A.M. Homes                                                   3.280\n",
       "...                                                            ...\n",
       "Émile Zola/Henri Mitterand                                   4.060\n",
       "Émile Zola/Robert Lethbridge/Elinor Dorday                   4.010\n",
       "Émile Zola/Robin Buss/Brian  Nelson                          3.990\n",
       "Émile Zola/Roger Pearson                                     4.045\n",
       "Éric-Emmanuel Schmitt                                        3.820\n",
       "\n",
       "[6639 rows x 1 columns]"
      ]
     },
     "execution_count": 7,
     "metadata": {},
     "output_type": "execute_result"
    }
   ],
   "source": [
    "auth_df = books_dataset.groupby(['authors']).mean()[['average_rating']]\n",
    "auth_df"
   ]
  },
  {
   "cell_type": "code",
   "execution_count": 8,
   "id": "fb296d24",
   "metadata": {
    "execution": {
     "iopub.execute_input": "2022-08-07T18:44:13.720473Z",
     "iopub.status.busy": "2022-08-07T18:44:13.719773Z",
     "iopub.status.idle": "2022-08-07T18:44:13.846361Z",
     "shell.execute_reply": "2022-08-07T18:44:13.845650Z"
    },
    "papermill": {
     "duration": 0.136376,
     "end_time": "2022-08-07T18:44:13.848370",
     "exception": false,
     "start_time": "2022-08-07T18:44:13.711994",
     "status": "completed"
    },
    "tags": []
   },
   "outputs": [
    {
     "data": {
      "image/png": "[encoded data removed]",
      "text/plain": [
       "<Figure size 432x288 with 1 Axes>"
      ]
     },
     "metadata": {
      "needs_background": "light"
     },
     "output_type": "display_data"
    }
   ],
   "source": [
    "plt.hist(auth_df['average_rating'])\n",
    "plt.show()"
   ]
  },
  {
   "cell_type": "code",
   "execution_count": 9,
   "id": "e9e3527c",
   "metadata": {
    "execution": {
     "iopub.execute_input": "2022-08-07T18:44:13.868862Z",
     "iopub.status.busy": "2022-08-07T18:44:13.868368Z",
     "iopub.status.idle": "2022-08-07T18:44:13.890574Z",
     "shell.execute_reply": "2022-08-07T18:44:13.890012Z"
    },
    "papermill": {
     "duration": 0.03373,
     "end_time": "2022-08-07T18:44:13.892021",
     "exception": false,
     "start_time": "2022-08-07T18:44:13.858291",
     "status": "completed"
    },
    "tags": []
   },
   "outputs": [
    {
     "data": {
      "text/plain": [
       "0                            [J.K. Rowling, Mary GrandPré]\n",
       "1                            [J.K. Rowling, Mary GrandPré]\n",
       "2                                           [J.K. Rowling]\n",
       "3                            [J.K. Rowling, Mary GrandPré]\n",
       "4                            [J.K. Rowling, Mary GrandPré]\n",
       "                               ...                        \n",
       "11118    [William T. Vollmann, Larry McCaffery, Michael...\n",
       "11119                                [William T. Vollmann]\n",
       "11120                                [William T. Vollmann]\n",
       "11121                                [William T. Vollmann]\n",
       "11122                                         [Mark Twain]\n",
       "Name: authors, Length: 11123, dtype: object"
      ]
     },
     "execution_count": 9,
     "metadata": {},
     "output_type": "execute_result"
    }
   ],
   "source": [
    "import re \n",
    "pattern = '/'\n",
    "authors_rating = books_dataset[['authors','average_rating']]\n",
    "\n",
    "def split_auths(str):\n",
    "    strs = re.split('/',str)\n",
    "    return strs \n",
    "authors = authors_rating['authors'].apply(split_auths)\n",
    "authors "
   ]
  },
  {
   "cell_type": "code",
   "execution_count": 10,
   "id": "2cbf9cb5",
   "metadata": {
    "execution": {
     "iopub.execute_input": "2022-08-07T18:44:13.908363Z",
     "iopub.status.busy": "2022-08-07T18:44:13.907850Z",
     "iopub.status.idle": "2022-08-07T18:44:13.913984Z",
     "shell.execute_reply": "2022-08-07T18:44:13.913374Z"
    },
    "papermill": {
     "duration": 0.016182,
     "end_time": "2022-08-07T18:44:13.915509",
     "exception": false,
     "start_time": "2022-08-07T18:44:13.899327",
     "status": "completed"
    },
    "tags": []
   },
   "outputs": [
    {
     "data": {
      "text/plain": [
       "0        4.57\n",
       "1        4.49\n",
       "2        4.42\n",
       "3        4.56\n",
       "4        4.78\n",
       "         ... \n",
       "11118    4.06\n",
       "11119    4.08\n",
       "11120    3.96\n",
       "11121    3.72\n",
       "11122    3.91\n",
       "Name: average_rating, Length: 11123, dtype: float64"
      ]
     },
     "execution_count": 10,
     "metadata": {},
     "output_type": "execute_result"
    }
   ],
   "source": [
    "ratings = authors_rating['average_rating']\n",
    "ratings"
   ]
  },
  {
   "cell_type": "code",
   "execution_count": 11,
   "id": "a308819a",
   "metadata": {
    "execution": {
     "iopub.execute_input": "2022-08-07T18:44:13.932906Z",
     "iopub.status.busy": "2022-08-07T18:44:13.932393Z",
     "iopub.status.idle": "2022-08-07T18:44:13.943398Z",
     "shell.execute_reply": "2022-08-07T18:44:13.942742Z"
    },
    "papermill": {
     "duration": 0.022177,
     "end_time": "2022-08-07T18:44:13.945406",
     "exception": false,
     "start_time": "2022-08-07T18:44:13.923229",
     "status": "completed"
    },
    "tags": []
   },
   "outputs": [
    {
     "data": {
      "text/plain": [
       "0        2\n",
       "1        2\n",
       "2        1\n",
       "3        2\n",
       "4        2\n",
       "        ..\n",
       "11118    3\n",
       "11119    1\n",
       "11120    1\n",
       "11121    1\n",
       "11122    1\n",
       "Name: authors, Length: 11123, dtype: int64"
      ]
     },
     "execution_count": 11,
     "metadata": {},
     "output_type": "execute_result"
    }
   ],
   "source": [
    "author_numbers = authors.apply(lambda x:len(x))\n",
    "author_numbers"
   ]
  },
  {
   "cell_type": "code",
   "execution_count": 12,
   "id": "7a925585",
   "metadata": {
    "execution": {
     "iopub.execute_input": "2022-08-07T18:44:13.963016Z",
     "iopub.status.busy": "2022-08-07T18:44:13.962487Z",
     "iopub.status.idle": "2022-08-07T18:44:14.072609Z",
     "shell.execute_reply": "2022-08-07T18:44:14.071651Z"
    },
    "papermill": {
     "duration": 0.121274,
     "end_time": "2022-08-07T18:44:14.074628",
     "exception": false,
     "start_time": "2022-08-07T18:44:13.953354",
     "status": "completed"
    },
    "tags": []
   },
   "outputs": [
    {
     "name": "stdout",
     "output_type": "stream",
     "text": [
      "19237 19237\n"
     ]
    }
   ],
   "source": [
    "import itertools \n",
    "ratings_with_duplis = []\n",
    "for i in range(len(ratings)):\n",
    "    for j in range(author_numbers[i]):\n",
    "        ratings_with_duplis.append(ratings[i])\n",
    "\n",
    "authors_with_duplis = list(itertools.chain.from_iterable(authors))\n",
    "\n",
    "print(len(authors_with_duplis), len(ratings_with_duplis))"
   ]
  },
  {
   "cell_type": "code",
   "execution_count": 13,
   "id": "160dea65",
   "metadata": {
    "execution": {
     "iopub.execute_input": "2022-08-07T18:44:14.091099Z",
     "iopub.status.busy": "2022-08-07T18:44:14.090790Z",
     "iopub.status.idle": "2022-08-07T18:44:14.197209Z",
     "shell.execute_reply": "2022-08-07T18:44:14.196273Z"
    },
    "papermill": {
     "duration": 0.116788,
     "end_time": "2022-08-07T18:44:14.199077",
     "exception": false,
     "start_time": "2022-08-07T18:44:14.082289",
     "status": "completed"
    },
    "tags": []
   },
   "outputs": [
    {
     "data": {
      "text/html": [
       "<div>\n",
       "<style scoped>\n",
       "    .dataframe tbody tr th:only-of-type {\n",
       "        vertical-align: middle;\n",
       "    }\n",
       "\n",
       "    .dataframe tbody tr th {\n",
       "        vertical-align: top;\n",
       "    }\n",
       "\n",
       "    .dataframe thead th {\n",
       "        text-align: right;\n",
       "    }\n",
       "</style>\n",
       "<table border=\"1\" class=\"dataframe\">\n",
       "  <thead>\n",
       "    <tr style=\"text-align: right;\">\n",
       "      <th></th>\n",
       "      <th>author</th>\n",
       "      <th>rating</th>\n",
       "    </tr>\n",
       "  </thead>\n",
       "  <tbody>\n",
       "    <tr>\n",
       "      <th>0</th>\n",
       "      <td>J.K. Rowling</td>\n",
       "      <td>4.57</td>\n",
       "    </tr>\n",
       "    <tr>\n",
       "      <th>1</th>\n",
       "      <td>Mary GrandPré</td>\n",
       "      <td>4.57</td>\n",
       "    </tr>\n",
       "    <tr>\n",
       "      <th>2</th>\n",
       "      <td>J.K. Rowling</td>\n",
       "      <td>4.49</td>\n",
       "    </tr>\n",
       "    <tr>\n",
       "      <th>3</th>\n",
       "      <td>Mary GrandPré</td>\n",
       "      <td>4.49</td>\n",
       "    </tr>\n",
       "    <tr>\n",
       "      <th>4</th>\n",
       "      <td>J.K. Rowling</td>\n",
       "      <td>4.42</td>\n",
       "    </tr>\n",
       "    <tr>\n",
       "      <th>...</th>\n",
       "      <td>...</td>\n",
       "      <td>...</td>\n",
       "    </tr>\n",
       "    <tr>\n",
       "      <th>19232</th>\n",
       "      <td>Michael Hemmingson</td>\n",
       "      <td>4.06</td>\n",
       "    </tr>\n",
       "    <tr>\n",
       "      <th>19233</th>\n",
       "      <td>William T. Vollmann</td>\n",
       "      <td>4.08</td>\n",
       "    </tr>\n",
       "    <tr>\n",
       "      <th>19234</th>\n",
       "      <td>William T. Vollmann</td>\n",
       "      <td>3.96</td>\n",
       "    </tr>\n",
       "    <tr>\n",
       "      <th>19235</th>\n",
       "      <td>William T. Vollmann</td>\n",
       "      <td>3.72</td>\n",
       "    </tr>\n",
       "    <tr>\n",
       "      <th>19236</th>\n",
       "      <td>Mark Twain</td>\n",
       "      <td>3.91</td>\n",
       "    </tr>\n",
       "  </tbody>\n",
       "</table>\n",
       "<p>19237 rows × 2 columns</p>\n",
       "</div>"
      ],
      "text/plain": [
       "                    author  rating\n",
       "0             J.K. Rowling    4.57\n",
       "1            Mary GrandPré    4.57\n",
       "2             J.K. Rowling    4.49\n",
       "3            Mary GrandPré    4.49\n",
       "4             J.K. Rowling    4.42\n",
       "...                    ...     ...\n",
       "19232   Michael Hemmingson    4.06\n",
       "19233  William T. Vollmann    4.08\n",
       "19234  William T. Vollmann    3.96\n",
       "19235  William T. Vollmann    3.72\n",
       "19236           Mark Twain    3.91\n",
       "\n",
       "[19237 rows x 2 columns]"
      ]
     },
     "execution_count": 13,
     "metadata": {},
     "output_type": "execute_result"
    }
   ],
   "source": [
    "book_wise_auth = pd.DataFrame(list(zip(authors_with_duplis, ratings_with_duplis)), columns=['author','rating'])\n",
    "book_wise_auth"
   ]
  },
  {
   "cell_type": "code",
   "execution_count": 14,
   "id": "8e72d79d",
   "metadata": {
    "execution": {
     "iopub.execute_input": "2022-08-07T18:44:14.217103Z",
     "iopub.status.busy": "2022-08-07T18:44:14.216729Z",
     "iopub.status.idle": "2022-08-07T18:44:14.236764Z",
     "shell.execute_reply": "2022-08-07T18:44:14.235705Z"
    },
    "papermill": {
     "duration": 0.031601,
     "end_time": "2022-08-07T18:44:14.238872",
     "exception": false,
     "start_time": "2022-08-07T18:44:14.207271",
     "status": "completed"
    },
    "tags": []
   },
   "outputs": [
    {
     "data": {
      "text/html": [
       "<div>\n",
       "<style scoped>\n",
       "    .dataframe tbody tr th:only-of-type {\n",
       "        vertical-align: middle;\n",
       "    }\n",
       "\n",
       "    .dataframe tbody tr th {\n",
       "        vertical-align: top;\n",
       "    }\n",
       "\n",
       "    .dataframe thead th {\n",
       "        text-align: right;\n",
       "    }\n",
       "</style>\n",
       "<table border=\"1\" class=\"dataframe\">\n",
       "  <thead>\n",
       "    <tr style=\"text-align: right;\">\n",
       "      <th></th>\n",
       "      <th>rating</th>\n",
       "    </tr>\n",
       "    <tr>\n",
       "      <th>author</th>\n",
       "      <th></th>\n",
       "    </tr>\n",
       "  </thead>\n",
       "  <tbody>\n",
       "    <tr>\n",
       "      <th>A. Bartlett Giamatti</th>\n",
       "      <td>4.240000</td>\n",
       "    </tr>\n",
       "    <tr>\n",
       "      <th>A. Elizabeth Delany</th>\n",
       "      <td>4.020000</td>\n",
       "    </tr>\n",
       "    <tr>\n",
       "      <th>A. Merritt</th>\n",
       "      <td>3.930000</td>\n",
       "    </tr>\n",
       "    <tr>\n",
       "      <th>A. Roger Merrill</th>\n",
       "      <td>4.100000</td>\n",
       "    </tr>\n",
       "    <tr>\n",
       "      <th>A. Walton Litz</th>\n",
       "      <td>3.850000</td>\n",
       "    </tr>\n",
       "    <tr>\n",
       "      <th>...</th>\n",
       "      <td>...</td>\n",
       "    </tr>\n",
       "    <tr>\n",
       "      <th>橋口 たかし</th>\n",
       "      <td>3.980000</td>\n",
       "    </tr>\n",
       "    <tr>\n",
       "      <th>皇冠編譯組</th>\n",
       "      <td>4.570000</td>\n",
       "    </tr>\n",
       "    <tr>\n",
       "      <th>神尾葉子</th>\n",
       "      <td>4.116667</td>\n",
       "    </tr>\n",
       "    <tr>\n",
       "      <th>荒川弘</th>\n",
       "      <td>4.556250</td>\n",
       "    </tr>\n",
       "    <tr>\n",
       "      <th>趙丕慧</th>\n",
       "      <td>4.570000</td>\n",
       "    </tr>\n",
       "  </tbody>\n",
       "</table>\n",
       "<p>9231 rows × 1 columns</p>\n",
       "</div>"
      ],
      "text/plain": [
       "                        rating\n",
       "author                        \n",
       "A. Bartlett Giamatti  4.240000\n",
       "A. Elizabeth Delany   4.020000\n",
       "A. Merritt            3.930000\n",
       "A. Roger Merrill      4.100000\n",
       "A. Walton Litz        3.850000\n",
       "...                        ...\n",
       "橋口 たかし                3.980000\n",
       "皇冠編譯組                 4.570000\n",
       "神尾葉子                  4.116667\n",
       "荒川弘                   4.556250\n",
       "趙丕慧                   4.570000\n",
       "\n",
       "[9231 rows x 1 columns]"
      ]
     },
     "execution_count": 14,
     "metadata": {},
     "output_type": "execute_result"
    }
   ],
   "source": [
    "author_overall_rating = book_wise_auth.groupby(['author']).mean()\n",
    "author_overall_rating"
   ]
  },
  {
   "cell_type": "markdown",
   "id": "dad7b24b",
   "metadata": {
    "papermill": {
     "duration": 0.007992,
     "end_time": "2022-08-07T18:44:14.255245",
     "exception": false,
     "start_time": "2022-08-07T18:44:14.247253",
     "status": "completed"
    },
    "tags": []
   },
   "source": [
    "Now that we have extracted an average rating for each of the individual authors that appear across the dataset, we can find the highest rated and lowest rated authors. \n",
    "\n",
    "If a particular book is co-authored by 2 people, that rating is considered for each of them(towards their individual rating)"
   ]
  },
  {
   "cell_type": "code",
   "execution_count": 15,
   "id": "0e9cbc2b",
   "metadata": {
    "execution": {
     "iopub.execute_input": "2022-08-07T18:44:14.274163Z",
     "iopub.status.busy": "2022-08-07T18:44:14.272657Z",
     "iopub.status.idle": "2022-08-07T18:44:14.285717Z",
     "shell.execute_reply": "2022-08-07T18:44:14.284765Z"
    },
    "papermill": {
     "duration": 0.024028,
     "end_time": "2022-08-07T18:44:14.287402",
     "exception": false,
     "start_time": "2022-08-07T18:44:14.263374",
     "status": "completed"
    },
    "tags": []
   },
   "outputs": [
    {
     "data": {
      "text/html": [
       "<div>\n",
       "<style scoped>\n",
       "    .dataframe tbody tr th:only-of-type {\n",
       "        vertical-align: middle;\n",
       "    }\n",
       "\n",
       "    .dataframe tbody tr th {\n",
       "        vertical-align: top;\n",
       "    }\n",
       "\n",
       "    .dataframe thead th {\n",
       "        text-align: right;\n",
       "    }\n",
       "</style>\n",
       "<table border=\"1\" class=\"dataframe\">\n",
       "  <thead>\n",
       "    <tr style=\"text-align: right;\">\n",
       "      <th></th>\n",
       "      <th>rating</th>\n",
       "    </tr>\n",
       "    <tr>\n",
       "      <th>author</th>\n",
       "      <th></th>\n",
       "    </tr>\n",
       "  </thead>\n",
       "  <tbody>\n",
       "    <tr>\n",
       "      <th>Alisa Klayman-Grodsky</th>\n",
       "      <td>5.0</td>\n",
       "    </tr>\n",
       "    <tr>\n",
       "      <th>Chris    Green</th>\n",
       "      <td>5.0</td>\n",
       "    </tr>\n",
       "    <tr>\n",
       "      <th>Chris Wright</th>\n",
       "      <td>5.0</td>\n",
       "    </tr>\n",
       "    <tr>\n",
       "      <th>David Sylvester</th>\n",
       "      <td>5.0</td>\n",
       "    </tr>\n",
       "    <tr>\n",
       "      <th>Dennis Adler</th>\n",
       "      <td>5.0</td>\n",
       "    </tr>\n",
       "    <tr>\n",
       "      <th>Elena N. Mahlow</th>\n",
       "      <td>5.0</td>\n",
       "    </tr>\n",
       "    <tr>\n",
       "      <th>Eric     Weiner</th>\n",
       "      <td>5.0</td>\n",
       "    </tr>\n",
       "    <tr>\n",
       "      <th>F.W. Hall</th>\n",
       "      <td>5.0</td>\n",
       "    </tr>\n",
       "    <tr>\n",
       "      <th>Ian        Martin</th>\n",
       "      <td>5.0</td>\n",
       "    </tr>\n",
       "    <tr>\n",
       "      <th>James E. Campbell</th>\n",
       "      <td>5.0</td>\n",
       "    </tr>\n",
       "    <tr>\n",
       "      <th>John  Diamond</th>\n",
       "      <td>5.0</td>\n",
       "    </tr>\n",
       "    <tr>\n",
       "      <th>Julie Sylvester</th>\n",
       "      <td>5.0</td>\n",
       "    </tr>\n",
       "    <tr>\n",
       "      <th>Katie Elliott</th>\n",
       "      <td>5.0</td>\n",
       "    </tr>\n",
       "    <tr>\n",
       "      <th>Keith Donohue</th>\n",
       "      <td>5.0</td>\n",
       "    </tr>\n",
       "    <tr>\n",
       "      <th>Marc Frey</th>\n",
       "      <td>5.0</td>\n",
       "    </tr>\n",
       "    <tr>\n",
       "      <th>Middlesex Borough Heritage Committee</th>\n",
       "      <td>5.0</td>\n",
       "    </tr>\n",
       "    <tr>\n",
       "      <th>Nicholas    Evans</th>\n",
       "      <td>5.0</td>\n",
       "    </tr>\n",
       "    <tr>\n",
       "      <th>Paul Douglas Gardner</th>\n",
       "      <td>5.0</td>\n",
       "    </tr>\n",
       "    <tr>\n",
       "      <th>R. McL. Wilson</th>\n",
       "      <td>5.0</td>\n",
       "    </tr>\n",
       "    <tr>\n",
       "      <th>R.L. Wilson</th>\n",
       "      <td>5.0</td>\n",
       "    </tr>\n",
       "    <tr>\n",
       "      <th>Rhonda  Evans</th>\n",
       "      <td>5.0</td>\n",
       "    </tr>\n",
       "    <tr>\n",
       "      <th>Ross Garnaut</th>\n",
       "      <td>5.0</td>\n",
       "    </tr>\n",
       "    <tr>\n",
       "      <th>Sara Barton-Wood</th>\n",
       "      <td>5.0</td>\n",
       "    </tr>\n",
       "    <tr>\n",
       "      <th>Sheri Rose Shepherd</th>\n",
       "      <td>5.0</td>\n",
       "    </tr>\n",
       "    <tr>\n",
       "      <th>Todd Davis</th>\n",
       "      <td>5.0</td>\n",
       "    </tr>\n",
       "    <tr>\n",
       "      <th>W.M. Geldart</th>\n",
       "      <td>5.0</td>\n",
       "    </tr>\n",
       "    <tr>\n",
       "      <th>William C. Dowling</th>\n",
       "      <td>5.0</td>\n",
       "    </tr>\n",
       "  </tbody>\n",
       "</table>\n",
       "</div>"
      ],
      "text/plain": [
       "                                      rating\n",
       "author                                      \n",
       "Alisa Klayman-Grodsky                    5.0\n",
       "Chris    Green                           5.0\n",
       "Chris Wright                             5.0\n",
       "David Sylvester                          5.0\n",
       "Dennis Adler                             5.0\n",
       "Elena N. Mahlow                          5.0\n",
       "Eric     Weiner                          5.0\n",
       "F.W. Hall                                5.0\n",
       "Ian        Martin                        5.0\n",
       "James E. Campbell                        5.0\n",
       "John  Diamond                            5.0\n",
       "Julie Sylvester                          5.0\n",
       "Katie Elliott                            5.0\n",
       "Keith Donohue                            5.0\n",
       "Marc Frey                                5.0\n",
       "Middlesex Borough Heritage Committee     5.0\n",
       "Nicholas    Evans                        5.0\n",
       "Paul Douglas Gardner                     5.0\n",
       "R. McL. Wilson                           5.0\n",
       "R.L. Wilson                              5.0\n",
       "Rhonda  Evans                            5.0\n",
       "Ross Garnaut                             5.0\n",
       "Sara Barton-Wood                         5.0\n",
       "Sheri Rose Shepherd                      5.0\n",
       "Todd Davis                               5.0\n",
       "W.M. Geldart                             5.0\n",
       "William C. Dowling                       5.0"
      ]
     },
     "execution_count": 15,
     "metadata": {},
     "output_type": "execute_result"
    }
   ],
   "source": [
    "five_star_rated_authors = author_overall_rating.where(author_overall_rating['rating']==np.max(author_overall_rating['rating'])).dropna()\n",
    "five_star_rated_authors"
   ]
  },
  {
   "cell_type": "markdown",
   "id": "bb3ec97d",
   "metadata": {
    "papermill": {
     "duration": 0.007799,
     "end_time": "2022-08-07T18:44:14.303490",
     "exception": false,
     "start_time": "2022-08-07T18:44:14.295691",
     "status": "completed"
    },
    "tags": []
   },
   "source": [
    "There are a lot of auhtors who have ALL BOOKS rated 5 star, which means that there are some authors who have written only one book and might not be an indication of an \"overall rating\" for the authors, so lets filter out authors who have written atleast 2 books. "
   ]
  },
  {
   "cell_type": "code",
   "execution_count": 16,
   "id": "a2549466",
   "metadata": {
    "execution": {
     "iopub.execute_input": "2022-08-07T18:44:14.324185Z",
     "iopub.status.busy": "2022-08-07T18:44:14.322681Z",
     "iopub.status.idle": "2022-08-07T18:44:14.343396Z",
     "shell.execute_reply": "2022-08-07T18:44:14.342546Z"
    },
    "papermill": {
     "duration": 0.032281,
     "end_time": "2022-08-07T18:44:14.345123",
     "exception": false,
     "start_time": "2022-08-07T18:44:14.312842",
     "status": "completed"
    },
    "tags": []
   },
   "outputs": [
    {
     "data": {
      "text/html": [
       "<div>\n",
       "<style scoped>\n",
       "    .dataframe tbody tr th:only-of-type {\n",
       "        vertical-align: middle;\n",
       "    }\n",
       "\n",
       "    .dataframe tbody tr th {\n",
       "        vertical-align: top;\n",
       "    }\n",
       "\n",
       "    .dataframe thead th {\n",
       "        text-align: right;\n",
       "    }\n",
       "</style>\n",
       "<table border=\"1\" class=\"dataframe\">\n",
       "  <thead>\n",
       "    <tr style=\"text-align: right;\">\n",
       "      <th></th>\n",
       "      <th>count</th>\n",
       "    </tr>\n",
       "    <tr>\n",
       "      <th>author</th>\n",
       "      <th></th>\n",
       "    </tr>\n",
       "  </thead>\n",
       "  <tbody>\n",
       "    <tr>\n",
       "      <th>A. Bartlett Giamatti</th>\n",
       "      <td>1</td>\n",
       "    </tr>\n",
       "    <tr>\n",
       "      <th>A. Elizabeth Delany</th>\n",
       "      <td>1</td>\n",
       "    </tr>\n",
       "    <tr>\n",
       "      <th>A. Merritt</th>\n",
       "      <td>1</td>\n",
       "    </tr>\n",
       "    <tr>\n",
       "      <th>A. Roger Merrill</th>\n",
       "      <td>1</td>\n",
       "    </tr>\n",
       "    <tr>\n",
       "      <th>A. Walton Litz</th>\n",
       "      <td>1</td>\n",
       "    </tr>\n",
       "    <tr>\n",
       "      <th>...</th>\n",
       "      <td>...</td>\n",
       "    </tr>\n",
       "    <tr>\n",
       "      <th>橋口 たかし</th>\n",
       "      <td>2</td>\n",
       "    </tr>\n",
       "    <tr>\n",
       "      <th>皇冠編譯組</th>\n",
       "      <td>1</td>\n",
       "    </tr>\n",
       "    <tr>\n",
       "      <th>神尾葉子</th>\n",
       "      <td>3</td>\n",
       "    </tr>\n",
       "    <tr>\n",
       "      <th>荒川弘</th>\n",
       "      <td>8</td>\n",
       "    </tr>\n",
       "    <tr>\n",
       "      <th>趙丕慧</th>\n",
       "      <td>1</td>\n",
       "    </tr>\n",
       "  </tbody>\n",
       "</table>\n",
       "<p>9231 rows × 1 columns</p>\n",
       "</div>"
      ],
      "text/plain": [
       "                      count\n",
       "author                     \n",
       "A. Bartlett Giamatti      1\n",
       "A. Elizabeth Delany       1\n",
       "A. Merritt                1\n",
       "A. Roger Merrill          1\n",
       "A. Walton Litz            1\n",
       "...                     ...\n",
       "橋口 たかし                    2\n",
       "皇冠編譯組                     1\n",
       "神尾葉子                      3\n",
       "荒川弘                       8\n",
       "趙丕慧                       1\n",
       "\n",
       "[9231 rows x 1 columns]"
      ]
     },
     "execution_count": 16,
     "metadata": {},
     "output_type": "execute_result"
    }
   ],
   "source": [
    "book_counts = book_wise_auth.groupby(['author']).count()\n",
    "book_counts.rename(columns={'rating':'count'},inplace=True)\n",
    "book_counts"
   ]
  },
  {
   "cell_type": "code",
   "execution_count": 17,
   "id": "4ff52786",
   "metadata": {
    "execution": {
     "iopub.execute_input": "2022-08-07T18:44:14.364285Z",
     "iopub.status.busy": "2022-08-07T18:44:14.363495Z",
     "iopub.status.idle": "2022-08-07T18:44:14.374841Z",
     "shell.execute_reply": "2022-08-07T18:44:14.373713Z"
    },
    "papermill": {
     "duration": 0.022895,
     "end_time": "2022-08-07T18:44:14.376507",
     "exception": false,
     "start_time": "2022-08-07T18:44:14.353612",
     "status": "completed"
    },
    "tags": []
   },
   "outputs": [
    {
     "data": {
      "text/html": [
       "<div>\n",
       "<style scoped>\n",
       "    .dataframe tbody tr th:only-of-type {\n",
       "        vertical-align: middle;\n",
       "    }\n",
       "\n",
       "    .dataframe tbody tr th {\n",
       "        vertical-align: top;\n",
       "    }\n",
       "\n",
       "    .dataframe thead th {\n",
       "        text-align: right;\n",
       "    }\n",
       "</style>\n",
       "<table border=\"1\" class=\"dataframe\">\n",
       "  <thead>\n",
       "    <tr style=\"text-align: right;\">\n",
       "      <th></th>\n",
       "      <th>count</th>\n",
       "    </tr>\n",
       "  </thead>\n",
       "  <tbody>\n",
       "    <tr>\n",
       "      <th>count</th>\n",
       "      <td>9231.000000</td>\n",
       "    </tr>\n",
       "    <tr>\n",
       "      <th>mean</th>\n",
       "      <td>2.083956</td>\n",
       "    </tr>\n",
       "    <tr>\n",
       "      <th>std</th>\n",
       "      <td>3.555015</td>\n",
       "    </tr>\n",
       "    <tr>\n",
       "      <th>min</th>\n",
       "      <td>1.000000</td>\n",
       "    </tr>\n",
       "    <tr>\n",
       "      <th>25%</th>\n",
       "      <td>1.000000</td>\n",
       "    </tr>\n",
       "    <tr>\n",
       "      <th>50%</th>\n",
       "      <td>1.000000</td>\n",
       "    </tr>\n",
       "    <tr>\n",
       "      <th>75%</th>\n",
       "      <td>2.000000</td>\n",
       "    </tr>\n",
       "    <tr>\n",
       "      <th>max</th>\n",
       "      <td>99.000000</td>\n",
       "    </tr>\n",
       "  </tbody>\n",
       "</table>\n",
       "</div>"
      ],
      "text/plain": [
       "             count\n",
       "count  9231.000000\n",
       "mean      2.083956\n",
       "std       3.555015\n",
       "min       1.000000\n",
       "25%       1.000000\n",
       "50%       1.000000\n",
       "75%       2.000000\n",
       "max      99.000000"
      ]
     },
     "execution_count": 17,
     "metadata": {},
     "output_type": "execute_result"
    }
   ],
   "source": [
    "book_counts.describe()"
   ]
  },
  {
   "cell_type": "markdown",
   "id": "dbfbb398",
   "metadata": {
    "papermill": {
     "duration": 0.00826,
     "end_time": "2022-08-07T18:44:14.393383",
     "exception": false,
     "start_time": "2022-08-07T18:44:14.385123",
     "status": "completed"
    },
    "tags": []
   },
   "source": [
    "Looks like most of the authors have written only 1 book, 75th percentile is 2 so, we should consider atleast 2 books written."
   ]
  },
  {
   "cell_type": "code",
   "execution_count": 18,
   "id": "b9f569b5",
   "metadata": {
    "execution": {
     "iopub.execute_input": "2022-08-07T18:44:14.412627Z",
     "iopub.status.busy": "2022-08-07T18:44:14.411581Z",
     "iopub.status.idle": "2022-08-07T18:44:14.421925Z",
     "shell.execute_reply": "2022-08-07T18:44:14.421242Z"
    },
    "papermill": {
     "duration": 0.021805,
     "end_time": "2022-08-07T18:44:14.423613",
     "exception": false,
     "start_time": "2022-08-07T18:44:14.401808",
     "status": "completed"
    },
    "tags": []
   },
   "outputs": [
    {
     "data": {
      "text/plain": [
       "array(['A.B. Yehoshua', 'A.J. Ayer', 'A.N. Roquelaure', ..., '橋口 たかし',\n",
       "       '神尾葉子', '荒川弘'], dtype=object)"
      ]
     },
     "execution_count": 18,
     "metadata": {},
     "output_type": "execute_result"
    }
   ],
   "source": [
    "multiple_books_auth=np.array(book_counts.where(book_counts['count'] > 1).dropna().index.values)\n",
    "multiple_books_auth"
   ]
  },
  {
   "cell_type": "code",
   "execution_count": 19,
   "id": "ad0c7148",
   "metadata": {
    "execution": {
     "iopub.execute_input": "2022-08-07T18:44:14.442983Z",
     "iopub.status.busy": "2022-08-07T18:44:14.442500Z",
     "iopub.status.idle": "2022-08-07T18:44:14.448282Z",
     "shell.execute_reply": "2022-08-07T18:44:14.446799Z"
    },
    "papermill": {
     "duration": 0.018382,
     "end_time": "2022-08-07T18:44:14.450778",
     "exception": false,
     "start_time": "2022-08-07T18:44:14.432396",
     "status": "completed"
    },
    "tags": []
   },
   "outputs": [],
   "source": [
    "author_overall_rating = author_overall_rating.reset_index()"
   ]
  },
  {
   "cell_type": "code",
   "execution_count": 20,
   "id": "d387aaff",
   "metadata": {
    "execution": {
     "iopub.execute_input": "2022-08-07T18:44:14.470473Z",
     "iopub.status.busy": "2022-08-07T18:44:14.470179Z",
     "iopub.status.idle": "2022-08-07T18:44:14.484414Z",
     "shell.execute_reply": "2022-08-07T18:44:14.483542Z"
    },
    "papermill": {
     "duration": 0.026263,
     "end_time": "2022-08-07T18:44:14.486145",
     "exception": false,
     "start_time": "2022-08-07T18:44:14.459882",
     "status": "completed"
    },
    "tags": []
   },
   "outputs": [
    {
     "data": {
      "text/html": [
       "<div>\n",
       "<style scoped>\n",
       "    .dataframe tbody tr th:only-of-type {\n",
       "        vertical-align: middle;\n",
       "    }\n",
       "\n",
       "    .dataframe tbody tr th {\n",
       "        vertical-align: top;\n",
       "    }\n",
       "\n",
       "    .dataframe thead th {\n",
       "        text-align: right;\n",
       "    }\n",
       "</style>\n",
       "<table border=\"1\" class=\"dataframe\">\n",
       "  <thead>\n",
       "    <tr style=\"text-align: right;\">\n",
       "      <th></th>\n",
       "      <th>author</th>\n",
       "      <th>rating</th>\n",
       "    </tr>\n",
       "  </thead>\n",
       "  <tbody>\n",
       "    <tr>\n",
       "      <th>817</th>\n",
       "      <td>Bill Watterson</td>\n",
       "      <td>4.708571</td>\n",
       "    </tr>\n",
       "    <tr>\n",
       "      <th>9133</th>\n",
       "      <td>Xavier de C.</td>\n",
       "      <td>4.670000</td>\n",
       "    </tr>\n",
       "    <tr>\n",
       "      <th>5886</th>\n",
       "      <td>Matt Thorn</td>\n",
       "      <td>4.613333</td>\n",
       "    </tr>\n",
       "    <tr>\n",
       "      <th>4718</th>\n",
       "      <td>Kaori Inoue</td>\n",
       "      <td>4.607500</td>\n",
       "    </tr>\n",
       "    <tr>\n",
       "      <th>4183</th>\n",
       "      <td>Joe Yamazaki</td>\n",
       "      <td>4.607500</td>\n",
       "    </tr>\n",
       "    <tr>\n",
       "      <th>...</th>\n",
       "      <td>...</td>\n",
       "      <td>...</td>\n",
       "    </tr>\n",
       "    <tr>\n",
       "      <th>1614</th>\n",
       "      <td>Daniel Pinchbeck</td>\n",
       "      <td>2.493333</td>\n",
       "    </tr>\n",
       "    <tr>\n",
       "      <th>1683</th>\n",
       "      <td>David   Ward</td>\n",
       "      <td>2.180000</td>\n",
       "    </tr>\n",
       "    <tr>\n",
       "      <th>493</th>\n",
       "      <td>Anthony E. Wolf</td>\n",
       "      <td>1.980000</td>\n",
       "    </tr>\n",
       "    <tr>\n",
       "      <th>772</th>\n",
       "      <td>Better Homes and Gardens</td>\n",
       "      <td>1.915000</td>\n",
       "    </tr>\n",
       "    <tr>\n",
       "      <th>2751</th>\n",
       "      <td>Frederick P. Lenz</td>\n",
       "      <td>0.000000</td>\n",
       "    </tr>\n",
       "  </tbody>\n",
       "</table>\n",
       "<p>2589 rows × 2 columns</p>\n",
       "</div>"
      ],
      "text/plain": [
       "                        author    rating\n",
       "817             Bill Watterson  4.708571\n",
       "9133              Xavier de C.  4.670000\n",
       "5886                Matt Thorn  4.613333\n",
       "4718               Kaori Inoue  4.607500\n",
       "4183              Joe Yamazaki  4.607500\n",
       "...                        ...       ...\n",
       "1614          Daniel Pinchbeck  2.493333\n",
       "1683              David   Ward  2.180000\n",
       "493            Anthony E. Wolf  1.980000\n",
       "772   Better Homes and Gardens  1.915000\n",
       "2751         Frederick P. Lenz  0.000000\n",
       "\n",
       "[2589 rows x 2 columns]"
      ]
     },
     "execution_count": 20,
     "metadata": {},
     "output_type": "execute_result"
    }
   ],
   "source": [
    "best_rated_auths = author_overall_rating[author_overall_rating['author'].isin(multiple_books_auth)].sort_values('rating',ascending=False)\n",
    "best_rated_auths"
   ]
  },
  {
   "cell_type": "code",
   "execution_count": 21,
   "id": "12fef510",
   "metadata": {
    "execution": {
     "iopub.execute_input": "2022-08-07T18:44:14.506331Z",
     "iopub.status.busy": "2022-08-07T18:44:14.505614Z",
     "iopub.status.idle": "2022-08-07T18:44:14.511795Z",
     "shell.execute_reply": "2022-08-07T18:44:14.511021Z"
    },
    "papermill": {
     "duration": 0.018311,
     "end_time": "2022-08-07T18:44:14.513596",
     "exception": false,
     "start_time": "2022-08-07T18:44:14.495285",
     "status": "completed"
    },
    "tags": []
   },
   "outputs": [
    {
     "name": "stdout",
     "output_type": "stream",
     "text": [
      "The topmost rated author is 817    Bill Watterson\n",
      "Name: author, dtype: object with a rating of 817    4.708571\n",
      "Name: rating, dtype: float64\n"
     ]
    }
   ],
   "source": [
    "top_rated_author=best_rated_auths.head(1)\n",
    "print(f\"The topmost rated author is {top_rated_author['author']} with a rating of {top_rated_author['rating']}\")"
   ]
  },
  {
   "cell_type": "code",
   "execution_count": 22,
   "id": "a6ffd3a1",
   "metadata": {
    "execution": {
     "iopub.execute_input": "2022-08-07T18:44:14.534162Z",
     "iopub.status.busy": "2022-08-07T18:44:14.533836Z",
     "iopub.status.idle": "2022-08-07T18:44:14.542166Z",
     "shell.execute_reply": "2022-08-07T18:44:14.541013Z"
    },
    "papermill": {
     "duration": 0.021641,
     "end_time": "2022-08-07T18:44:14.544202",
     "exception": false,
     "start_time": "2022-08-07T18:44:14.522561",
     "status": "completed"
    },
    "tags": []
   },
   "outputs": [
    {
     "data": {
      "text/plain": [
       "eng      8908\n",
       "en-US    1408\n",
       "spa       218\n",
       "en-GB     214\n",
       "fre       144\n",
       "ger        99\n",
       "jpn        46\n",
       "mul        19\n",
       "zho        14\n",
       "grc        11\n",
       "por        10\n",
       "en-CA       7\n",
       "ita         5\n",
       "enm         3\n",
       "lat         3\n",
       "swe         2\n",
       "rus         2\n",
       "srp         1\n",
       "nl          1\n",
       "msa         1\n",
       "glg         1\n",
       "wel         1\n",
       "ara         1\n",
       "nor         1\n",
       "tur         1\n",
       "gla         1\n",
       "ale         1\n",
       "Name: language_code, dtype: int64"
      ]
     },
     "execution_count": 22,
     "metadata": {},
     "output_type": "execute_result"
    }
   ],
   "source": [
    "books_dataset['language_code'].value_counts()"
   ]
  },
  {
   "cell_type": "code",
   "execution_count": 23,
   "id": "9860875e",
   "metadata": {
    "execution": {
     "iopub.execute_input": "2022-08-07T18:44:14.564180Z",
     "iopub.status.busy": "2022-08-07T18:44:14.563870Z",
     "iopub.status.idle": "2022-08-07T18:44:14.582538Z",
     "shell.execute_reply": "2022-08-07T18:44:14.581440Z"
    },
    "papermill": {
     "duration": 0.030715,
     "end_time": "2022-08-07T18:44:14.584244",
     "exception": false,
     "start_time": "2022-08-07T18:44:14.553529",
     "status": "completed"
    },
    "tags": []
   },
   "outputs": [
    {
     "data": {
      "text/html": [
       "<div>\n",
       "<style scoped>\n",
       "    .dataframe tbody tr th:only-of-type {\n",
       "        vertical-align: middle;\n",
       "    }\n",
       "\n",
       "    .dataframe tbody tr th {\n",
       "        vertical-align: top;\n",
       "    }\n",
       "\n",
       "    .dataframe thead th {\n",
       "        text-align: right;\n",
       "    }\n",
       "</style>\n",
       "<table border=\"1\" class=\"dataframe\">\n",
       "  <thead>\n",
       "    <tr style=\"text-align: right;\">\n",
       "      <th></th>\n",
       "      <th>bookID</th>\n",
       "      <th>title</th>\n",
       "      <th>authors</th>\n",
       "      <th>average_rating</th>\n",
       "      <th>isbn</th>\n",
       "      <th>isbn13</th>\n",
       "      <th>language_code</th>\n",
       "      <th>num_pages</th>\n",
       "      <th>ratings_count</th>\n",
       "      <th>text_reviews_count</th>\n",
       "      <th>publication_date</th>\n",
       "      <th>publisher</th>\n",
       "    </tr>\n",
       "  </thead>\n",
       "  <tbody>\n",
       "    <tr>\n",
       "      <th>0</th>\n",
       "      <td>1</td>\n",
       "      <td>Harry Potter and the Half-Blood Prince (Harry ...</td>\n",
       "      <td>J.K. Rowling/Mary GrandPré</td>\n",
       "      <td>4.57</td>\n",
       "      <td>0439785960</td>\n",
       "      <td>9780439785969</td>\n",
       "      <td>eng</td>\n",
       "      <td>652</td>\n",
       "      <td>2095690</td>\n",
       "      <td>27591</td>\n",
       "      <td>9/16/2006</td>\n",
       "      <td>Scholastic Inc.</td>\n",
       "    </tr>\n",
       "    <tr>\n",
       "      <th>1</th>\n",
       "      <td>2</td>\n",
       "      <td>Harry Potter and the Order of the Phoenix (Har...</td>\n",
       "      <td>J.K. Rowling/Mary GrandPré</td>\n",
       "      <td>4.49</td>\n",
       "      <td>0439358078</td>\n",
       "      <td>9780439358071</td>\n",
       "      <td>eng</td>\n",
       "      <td>870</td>\n",
       "      <td>2153167</td>\n",
       "      <td>29221</td>\n",
       "      <td>9/1/2004</td>\n",
       "      <td>Scholastic Inc.</td>\n",
       "    </tr>\n",
       "    <tr>\n",
       "      <th>2</th>\n",
       "      <td>4</td>\n",
       "      <td>Harry Potter and the Chamber of Secrets (Harry...</td>\n",
       "      <td>J.K. Rowling</td>\n",
       "      <td>4.42</td>\n",
       "      <td>0439554896</td>\n",
       "      <td>9780439554893</td>\n",
       "      <td>eng</td>\n",
       "      <td>352</td>\n",
       "      <td>6333</td>\n",
       "      <td>244</td>\n",
       "      <td>11/1/2003</td>\n",
       "      <td>Scholastic</td>\n",
       "    </tr>\n",
       "    <tr>\n",
       "      <th>3</th>\n",
       "      <td>5</td>\n",
       "      <td>Harry Potter and the Prisoner of Azkaban (Harr...</td>\n",
       "      <td>J.K. Rowling/Mary GrandPré</td>\n",
       "      <td>4.56</td>\n",
       "      <td>043965548X</td>\n",
       "      <td>9780439655484</td>\n",
       "      <td>eng</td>\n",
       "      <td>435</td>\n",
       "      <td>2339585</td>\n",
       "      <td>36325</td>\n",
       "      <td>5/1/2004</td>\n",
       "      <td>Scholastic Inc.</td>\n",
       "    </tr>\n",
       "    <tr>\n",
       "      <th>4</th>\n",
       "      <td>8</td>\n",
       "      <td>Harry Potter Boxed Set  Books 1-5 (Harry Potte...</td>\n",
       "      <td>J.K. Rowling/Mary GrandPré</td>\n",
       "      <td>4.78</td>\n",
       "      <td>0439682584</td>\n",
       "      <td>9780439682589</td>\n",
       "      <td>eng</td>\n",
       "      <td>2690</td>\n",
       "      <td>41428</td>\n",
       "      <td>164</td>\n",
       "      <td>9/13/2004</td>\n",
       "      <td>Scholastic</td>\n",
       "    </tr>\n",
       "    <tr>\n",
       "      <th>...</th>\n",
       "      <td>...</td>\n",
       "      <td>...</td>\n",
       "      <td>...</td>\n",
       "      <td>...</td>\n",
       "      <td>...</td>\n",
       "      <td>...</td>\n",
       "      <td>...</td>\n",
       "      <td>...</td>\n",
       "      <td>...</td>\n",
       "      <td>...</td>\n",
       "      <td>...</td>\n",
       "      <td>...</td>\n",
       "    </tr>\n",
       "    <tr>\n",
       "      <th>11118</th>\n",
       "      <td>45631</td>\n",
       "      <td>Expelled from Eden: A William T. Vollmann Reader</td>\n",
       "      <td>William T. Vollmann/Larry McCaffery/Michael He...</td>\n",
       "      <td>4.06</td>\n",
       "      <td>1560254416</td>\n",
       "      <td>9781560254416</td>\n",
       "      <td>eng</td>\n",
       "      <td>512</td>\n",
       "      <td>156</td>\n",
       "      <td>20</td>\n",
       "      <td>12/21/2004</td>\n",
       "      <td>Da Capo Press</td>\n",
       "    </tr>\n",
       "    <tr>\n",
       "      <th>11119</th>\n",
       "      <td>45633</td>\n",
       "      <td>You Bright and Risen Angels</td>\n",
       "      <td>William T. Vollmann</td>\n",
       "      <td>4.08</td>\n",
       "      <td>0140110879</td>\n",
       "      <td>9780140110876</td>\n",
       "      <td>eng</td>\n",
       "      <td>635</td>\n",
       "      <td>783</td>\n",
       "      <td>56</td>\n",
       "      <td>12/1/1988</td>\n",
       "      <td>Penguin Books</td>\n",
       "    </tr>\n",
       "    <tr>\n",
       "      <th>11120</th>\n",
       "      <td>45634</td>\n",
       "      <td>The Ice-Shirt (Seven Dreams #1)</td>\n",
       "      <td>William T. Vollmann</td>\n",
       "      <td>3.96</td>\n",
       "      <td>0140131965</td>\n",
       "      <td>9780140131963</td>\n",
       "      <td>eng</td>\n",
       "      <td>415</td>\n",
       "      <td>820</td>\n",
       "      <td>95</td>\n",
       "      <td>8/1/1993</td>\n",
       "      <td>Penguin Books</td>\n",
       "    </tr>\n",
       "    <tr>\n",
       "      <th>11121</th>\n",
       "      <td>45639</td>\n",
       "      <td>Poor People</td>\n",
       "      <td>William T. Vollmann</td>\n",
       "      <td>3.72</td>\n",
       "      <td>0060878827</td>\n",
       "      <td>9780060878825</td>\n",
       "      <td>eng</td>\n",
       "      <td>434</td>\n",
       "      <td>769</td>\n",
       "      <td>139</td>\n",
       "      <td>2/27/2007</td>\n",
       "      <td>Ecco</td>\n",
       "    </tr>\n",
       "    <tr>\n",
       "      <th>11122</th>\n",
       "      <td>45641</td>\n",
       "      <td>Las aventuras de Tom Sawyer</td>\n",
       "      <td>Mark Twain</td>\n",
       "      <td>3.91</td>\n",
       "      <td>8497646983</td>\n",
       "      <td>9788497646987</td>\n",
       "      <td>spa</td>\n",
       "      <td>272</td>\n",
       "      <td>113</td>\n",
       "      <td>12</td>\n",
       "      <td>5/28/2006</td>\n",
       "      <td>Edimat Libros</td>\n",
       "    </tr>\n",
       "  </tbody>\n",
       "</table>\n",
       "<p>11123 rows × 12 columns</p>\n",
       "</div>"
      ],
      "text/plain": [
       "       bookID                                              title  \\\n",
       "0           1  Harry Potter and the Half-Blood Prince (Harry ...   \n",
       "1           2  Harry Potter and the Order of the Phoenix (Har...   \n",
       "2           4  Harry Potter and the Chamber of Secrets (Harry...   \n",
       "3           5  Harry Potter and the Prisoner of Azkaban (Harr...   \n",
       "4           8  Harry Potter Boxed Set  Books 1-5 (Harry Potte...   \n",
       "...       ...                                                ...   \n",
       "11118   45631   Expelled from Eden: A William T. Vollmann Reader   \n",
       "11119   45633                        You Bright and Risen Angels   \n",
       "11120   45634                    The Ice-Shirt (Seven Dreams #1)   \n",
       "11121   45639                                        Poor People   \n",
       "11122   45641                        Las aventuras de Tom Sawyer   \n",
       "\n",
       "                                                 authors  average_rating  \\\n",
       "0                             J.K. Rowling/Mary GrandPré            4.57   \n",
       "1                             J.K. Rowling/Mary GrandPré            4.49   \n",
       "2                                           J.K. Rowling            4.42   \n",
       "3                             J.K. Rowling/Mary GrandPré            4.56   \n",
       "4                             J.K. Rowling/Mary GrandPré            4.78   \n",
       "...                                                  ...             ...   \n",
       "11118  William T. Vollmann/Larry McCaffery/Michael He...            4.06   \n",
       "11119                                William T. Vollmann            4.08   \n",
       "11120                                William T. Vollmann            3.96   \n",
       "11121                                William T. Vollmann            3.72   \n",
       "11122                                         Mark Twain            3.91   \n",
       "\n",
       "             isbn         isbn13 language_code    num_pages  ratings_count  \\\n",
       "0      0439785960  9780439785969           eng          652        2095690   \n",
       "1      0439358078  9780439358071           eng          870        2153167   \n",
       "2      0439554896  9780439554893           eng          352           6333   \n",
       "3      043965548X  9780439655484           eng          435        2339585   \n",
       "4      0439682584  9780439682589           eng         2690          41428   \n",
       "...           ...            ...           ...          ...            ...   \n",
       "11118  1560254416  9781560254416           eng          512            156   \n",
       "11119  0140110879  9780140110876           eng          635            783   \n",
       "11120  0140131965  9780140131963           eng          415            820   \n",
       "11121  0060878827  9780060878825           eng          434            769   \n",
       "11122  8497646983  9788497646987           spa          272            113   \n",
       "\n",
       "       text_reviews_count publication_date        publisher  \n",
       "0                   27591        9/16/2006  Scholastic Inc.  \n",
       "1                   29221         9/1/2004  Scholastic Inc.  \n",
       "2                     244        11/1/2003       Scholastic  \n",
       "3                   36325         5/1/2004  Scholastic Inc.  \n",
       "4                     164        9/13/2004       Scholastic  \n",
       "...                   ...              ...              ...  \n",
       "11118                  20       12/21/2004    Da Capo Press  \n",
       "11119                  56        12/1/1988    Penguin Books  \n",
       "11120                  95         8/1/1993    Penguin Books  \n",
       "11121                 139        2/27/2007             Ecco  \n",
       "11122                  12        5/28/2006    Edimat Libros  \n",
       "\n",
       "[11123 rows x 12 columns]"
      ]
     },
     "execution_count": 23,
     "metadata": {},
     "output_type": "execute_result"
    }
   ],
   "source": [
    "books_dataset"
   ]
  },
  {
   "cell_type": "markdown",
   "id": "2b5363a8",
   "metadata": {
    "papermill": {
     "duration": 0.008797,
     "end_time": "2022-08-07T18:44:14.602398",
     "exception": false,
     "start_time": "2022-08-07T18:44:14.593601",
     "status": "completed"
    },
    "tags": []
   },
   "source": [
    "Lets try to see if the publication date has any correlation to the rating; as in are the reviews higher or lower for earlier publicated books. "
   ]
  },
  {
   "cell_type": "code",
   "execution_count": 24,
   "id": "70917d0e",
   "metadata": {
    "execution": {
     "iopub.execute_input": "2022-08-07T18:44:14.622845Z",
     "iopub.status.busy": "2022-08-07T18:44:14.622339Z",
     "iopub.status.idle": "2022-08-07T18:44:14.643989Z",
     "shell.execute_reply": "2022-08-07T18:44:14.643310Z"
    },
    "papermill": {
     "duration": 0.034365,
     "end_time": "2022-08-07T18:44:14.646054",
     "exception": false,
     "start_time": "2022-08-07T18:44:14.611689",
     "status": "completed"
    },
    "tags": []
   },
   "outputs": [],
   "source": [
    "dates = pd.to_datetime(books_dataset['publication_date'],format=\"%m/%d/%Y\",errors='ignore')"
   ]
  },
  {
   "cell_type": "code",
   "execution_count": 25,
   "id": "ef5ff8e3",
   "metadata": {
    "execution": {
     "iopub.execute_input": "2022-08-07T18:44:14.667765Z",
     "iopub.status.busy": "2022-08-07T18:44:14.667318Z",
     "iopub.status.idle": "2022-08-07T18:44:14.812468Z",
     "shell.execute_reply": "2022-08-07T18:44:14.811512Z"
    },
    "papermill": {
     "duration": 0.158311,
     "end_time": "2022-08-07T18:44:14.814059",
     "exception": false,
     "start_time": "2022-08-07T18:44:14.655748",
     "status": "completed"
    },
    "tags": []
   },
   "outputs": [
    {
     "data": {
      "text/html": [
       "<div>\n",
       "<style scoped>\n",
       "    .dataframe tbody tr th:only-of-type {\n",
       "        vertical-align: middle;\n",
       "    }\n",
       "\n",
       "    .dataframe tbody tr th {\n",
       "        vertical-align: top;\n",
       "    }\n",
       "\n",
       "    .dataframe thead th {\n",
       "        text-align: right;\n",
       "    }\n",
       "</style>\n",
       "<table border=\"1\" class=\"dataframe\">\n",
       "  <thead>\n",
       "    <tr style=\"text-align: right;\">\n",
       "      <th></th>\n",
       "      <th>year</th>\n",
       "      <th>rating</th>\n",
       "    </tr>\n",
       "  </thead>\n",
       "  <tbody>\n",
       "    <tr>\n",
       "      <th>0</th>\n",
       "      <td>1900.0</td>\n",
       "      <td>3.880000</td>\n",
       "    </tr>\n",
       "    <tr>\n",
       "      <th>1</th>\n",
       "      <td>1913.0</td>\n",
       "      <td>3.960000</td>\n",
       "    </tr>\n",
       "    <tr>\n",
       "      <th>2</th>\n",
       "      <td>1914.0</td>\n",
       "      <td>3.950000</td>\n",
       "    </tr>\n",
       "    <tr>\n",
       "      <th>3</th>\n",
       "      <td>1919.0</td>\n",
       "      <td>4.320000</td>\n",
       "    </tr>\n",
       "    <tr>\n",
       "      <th>4</th>\n",
       "      <td>1921.0</td>\n",
       "      <td>4.140000</td>\n",
       "    </tr>\n",
       "    <tr>\n",
       "      <th>...</th>\n",
       "      <td>...</td>\n",
       "      <td>...</td>\n",
       "    </tr>\n",
       "    <tr>\n",
       "      <th>82</th>\n",
       "      <td>2016.0</td>\n",
       "      <td>3.903333</td>\n",
       "    </tr>\n",
       "    <tr>\n",
       "      <th>83</th>\n",
       "      <td>2017.0</td>\n",
       "      <td>3.867143</td>\n",
       "    </tr>\n",
       "    <tr>\n",
       "      <th>84</th>\n",
       "      <td>2018.0</td>\n",
       "      <td>4.014000</td>\n",
       "    </tr>\n",
       "    <tr>\n",
       "      <th>85</th>\n",
       "      <td>2019.0</td>\n",
       "      <td>3.918333</td>\n",
       "    </tr>\n",
       "    <tr>\n",
       "      <th>86</th>\n",
       "      <td>2020.0</td>\n",
       "      <td>3.910000</td>\n",
       "    </tr>\n",
       "  </tbody>\n",
       "</table>\n",
       "<p>87 rows × 2 columns</p>\n",
       "</div>"
      ],
      "text/plain": [
       "      year    rating\n",
       "0   1900.0  3.880000\n",
       "1   1913.0  3.960000\n",
       "2   1914.0  3.950000\n",
       "3   1919.0  4.320000\n",
       "4   1921.0  4.140000\n",
       "..     ...       ...\n",
       "82  2016.0  3.903333\n",
       "83  2017.0  3.867143\n",
       "84  2018.0  4.014000\n",
       "85  2019.0  3.918333\n",
       "86  2020.0  3.910000\n",
       "\n",
       "[87 rows x 2 columns]"
      ]
     },
     "execution_count": 25,
     "metadata": {},
     "output_type": "execute_result"
    }
   ],
   "source": [
    "import re \n",
    "\n",
    "def get_year(str):\n",
    "    strs = re.split('/',str)\n",
    "    return strs[2]\n",
    "\n",
    "years=books_dataset['publication_date'].apply(get_year)\n",
    "years=years.apply(lambda x: int(x))\n",
    "rating_and_year = pd.DataFrame(data=[books_dataset['average_rating'], years]).T\n",
    "rating_and_year.columns = ['rating','year']\n",
    "year_wise_rating = rating_and_year.groupby('year').mean().reset_index()\n",
    "year_wise_rating"
   ]
  },
  {
   "cell_type": "code",
   "execution_count": 26,
   "id": "40a5e72c",
   "metadata": {
    "execution": {
     "iopub.execute_input": "2022-08-07T18:44:14.835206Z",
     "iopub.status.busy": "2022-08-07T18:44:14.834128Z",
     "iopub.status.idle": "2022-08-07T18:44:14.987741Z",
     "shell.execute_reply": "2022-08-07T18:44:14.986791Z"
    },
    "papermill": {
     "duration": 0.165915,
     "end_time": "2022-08-07T18:44:14.989518",
     "exception": false,
     "start_time": "2022-08-07T18:44:14.823603",
     "status": "completed"
    },
    "tags": []
   },
   "outputs": [
    {
     "data": {
      "text/plain": [
       "<AxesSubplot:xlabel='year'>"
      ]
     },
     "execution_count": 26,
     "metadata": {},
     "output_type": "execute_result"
    },
    {
     "data": {
      "image/png": "[encoded data removed]",
      "text/plain": [
       "<Figure size 432x288 with 1 Axes>"
      ]
     },
     "metadata": {
      "needs_background": "light"
     },
     "output_type": "display_data"
    }
   ],
   "source": [
    "year_wise_rating.plot('year','rating')"
   ]
  },
  {
   "cell_type": "markdown",
   "id": "7f74ae22",
   "metadata": {
    "papermill": {
     "duration": 0.00977,
     "end_time": "2022-08-07T18:44:15.009240",
     "exception": false,
     "start_time": "2022-08-07T18:44:14.999470",
     "status": "completed"
    },
    "tags": []
   },
   "source": []
  },
  {
   "cell_type": "code",
   "execution_count": null,
   "id": "cf9f3456",
   "metadata": {
    "papermill": {
     "duration": 0.009891,
     "end_time": "2022-08-07T18:44:15.029193",
     "exception": false,
     "start_time": "2022-08-07T18:44:15.019302",
     "status": "completed"
    },
    "tags": []
   },
   "outputs": [],
   "source": []
  }
 ],
 "metadata": {
  "kernelspec": {
   "display_name": "Python 3",
   "language": "python",
   "name": "python3"
  },
  "language_info": {
   "codemirror_mode": {
    "name": "ipython",
    "version": 3
   },
   "file_extension": ".py",
   "mimetype": "text/x-python",
   "name": "python",
   "nbconvert_exporter": "python",
   "pygments_lexer": "ipython3",
   "version": "3.7.12"
  },
  "papermill": {
   "default_parameters": {},
   "duration": 10.185603,
   "end_time": "2022-08-07T18:44:15.559140",
   "environment_variables": {},
   "exception": null,
   "input_path": "__notebook__.ipynb",
   "output_path": "__notebook__.ipynb",
   "parameters": {},
   "start_time": "2022-08-07T18:44:05.373537",
   "version": "2.3.4"
  }
 },
 "nbformat": 4,
 "nbformat_minor": 5
}
