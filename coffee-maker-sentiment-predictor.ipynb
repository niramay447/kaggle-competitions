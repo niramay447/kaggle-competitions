{
 "cells": [
  {
   "cell_type": "code",
   "execution_count": 1,
   "id": "2f01b2b3",
   "metadata": {
    "_cell_guid": "b1076dfc-b9ad-4769-8c92-a6c4dae69d19",
    "_uuid": "8f2839f25d086af736a60e9eeb907d3b93b6e0e5",
    "execution": {
     "iopub.execute_input": "2022-11-10T19:07:29.826322Z",
     "iopub.status.busy": "2022-11-10T19:07:29.825828Z",
     "iopub.status.idle": "2022-11-10T19:07:29.843021Z",
     "shell.execute_reply": "2022-11-10T19:07:29.841959Z"
    },
    "papermill": {
     "duration": 0.023566,
     "end_time": "2022-11-10T19:07:29.845341",
     "exception": false,
     "start_time": "2022-11-10T19:07:29.821775",
     "status": "completed"
    },
    "tags": []
   },
   "outputs": [
    {
     "name": "stdout",
     "output_type": "stream",
     "text": [
      "/kaggle/input/-coffeemakerclassification/coffee_maker.csv\n"
     ]
    }
   ],
   "source": [
    "import numpy as np \n",
    "import pandas as pd \n",
    "\n",
    "\n",
    "import os\n",
    "for dirname, _, filenames in os.walk('/kaggle/input'):\n",
    "    for filename in filenames:\n",
    "        print(os.path.join(dirname, filename))"
   ]
  },
  {
   "cell_type": "code",
   "execution_count": null,
   "id": "83da528c",
   "metadata": {
    "papermill": {
     "duration": 0.001127,
     "end_time": "2022-11-10T19:07:29.848176",
     "exception": false,
     "start_time": "2022-11-10T19:07:29.847049",
     "status": "completed"
    },
    "tags": []
   },
   "outputs": [],
   "source": []
  }
 ],
 "metadata": {
  "kernelspec": {
   "display_name": "Python 3",
   "language": "python",
   "name": "python3"
  },
  "language_info": {
   "codemirror_mode": {
    "name": "ipython",
    "version": 3
   },
   "file_extension": ".py",
   "mimetype": "text/x-python",
   "name": "python",
   "nbconvert_exporter": "python",
   "pygments_lexer": "ipython3",
   "version": "3.7.12"
  },
  "papermill": {
   "default_parameters": {},
   "duration": 8.332382,
   "end_time": "2022-11-10T19:07:30.469656",
   "environment_variables": {},
   "exception": null,
   "input_path": "__notebook__.ipynb",
   "output_path": "__notebook__.ipynb",
   "parameters": {},
   "start_time": "2022-11-10T19:07:22.137274",
   "version": "2.3.4"
  }
 },
 "nbformat": 4,
 "nbformat_minor": 5
}
