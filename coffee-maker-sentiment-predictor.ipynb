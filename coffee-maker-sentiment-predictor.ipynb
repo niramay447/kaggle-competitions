{
 "cells": [
  {
   "cell_type": "code",
   "execution_count": 1,
   "id": "e2a3b8ac",
   "metadata": {
    "_cell_guid": "b1076dfc-b9ad-4769-8c92-a6c4dae69d19",
    "_uuid": "8f2839f25d086af736a60e9eeb907d3b93b6e0e5",
    "execution": {
     "iopub.execute_input": "2022-11-10T19:25:38.261564Z",
     "iopub.status.busy": "2022-11-10T19:25:38.261007Z",
     "iopub.status.idle": "2022-11-10T19:25:38.290151Z",
     "shell.execute_reply": "2022-11-10T19:25:38.288301Z"
    },
    "papermill": {
     "duration": 0.040563,
     "end_time": "2022-11-10T19:25:38.295724",
     "exception": false,
     "start_time": "2022-11-10T19:25:38.255161",
     "status": "completed"
    },
    "tags": []
   },
   "outputs": [
    {
     "name": "stdout",
     "output_type": "stream",
     "text": [
      "/kaggle/input/-coffeemakerclassification/coffee_maker.csv\n"
     ]
    }
   ],
   "source": [
    "import numpy as np \n",
    "import pandas as pd \n",
    "import matplotlib.pyplot as plt\n",
    "\n",
    "import os\n",
    "for dirname, _, filenames in os.walk('/kaggle/input'):\n",
    "    for filename in filenames:\n",
    "        print(os.path.join(dirname, filename))"
   ]
  },
  {
   "cell_type": "markdown",
   "id": "f26c1ab0",
   "metadata": {
    "papermill": {
     "duration": 0.002594,
     "end_time": "2022-11-10T19:25:38.302066",
     "exception": false,
     "start_time": "2022-11-10T19:25:38.299472",
     "status": "completed"
    },
    "tags": []
   },
   "source": [
    "# **Loading the dataset**"
   ]
  },
  {
   "cell_type": "code",
   "execution_count": 2,
   "id": "ba95d6d7",
   "metadata": {
    "execution": {
     "iopub.execute_input": "2022-11-10T19:25:38.312353Z",
     "iopub.status.busy": "2022-11-10T19:25:38.311626Z",
     "iopub.status.idle": "2022-11-10T19:25:38.425522Z",
     "shell.execute_reply": "2022-11-10T19:25:38.424336Z"
    },
    "papermill": {
     "duration": 0.122498,
     "end_time": "2022-11-10T19:25:38.427855",
     "exception": false,
     "start_time": "2022-11-10T19:25:38.305357",
     "status": "completed"
    },
    "tags": []
   },
   "outputs": [
    {
     "data": {
      "text/html": [
       "<div>\n",
       "<style scoped>\n",
       "    .dataframe tbody tr th:only-of-type {\n",
       "        vertical-align: middle;\n",
       "    }\n",
       "\n",
       "    .dataframe tbody tr th {\n",
       "        vertical-align: top;\n",
       "    }\n",
       "\n",
       "    .dataframe thead th {\n",
       "        text-align: right;\n",
       "    }\n",
       "</style>\n",
       "<table border=\"1\" class=\"dataframe\">\n",
       "  <thead>\n",
       "    <tr style=\"text-align: right;\">\n",
       "      <th></th>\n",
       "      <th>review_date</th>\n",
       "      <th>handle</th>\n",
       "      <th>rating</th>\n",
       "      <th>helpfulness_rating</th>\n",
       "      <th>review</th>\n",
       "    </tr>\n",
       "  </thead>\n",
       "  <tbody>\n",
       "    <tr>\n",
       "      <th>0</th>\n",
       "      <td>April 14, 2018</td>\n",
       "      <td>The Dolphin</td>\n",
       "      <td>2.0</td>\n",
       "      <td>513</td>\n",
       "      <td>Delightful coffee maker if you’re only looking...</td>\n",
       "    </tr>\n",
       "    <tr>\n",
       "      <th>1</th>\n",
       "      <td>February 7, 2019</td>\n",
       "      <td>Karen Kaffenberger</td>\n",
       "      <td>1.0</td>\n",
       "      <td>122</td>\n",
       "      <td>UPDATE: Bought this 10-21-18 and I finally ret...</td>\n",
       "    </tr>\n",
       "    <tr>\n",
       "      <th>2</th>\n",
       "      <td>December 23, 2017</td>\n",
       "      <td>C1C3C11</td>\n",
       "      <td>4.0</td>\n",
       "      <td>185</td>\n",
       "      <td>The big reason I ordered this was because I wa...</td>\n",
       "    </tr>\n",
       "    <tr>\n",
       "      <th>3</th>\n",
       "      <td>November 26, 2016</td>\n",
       "      <td>Paul Roberts</td>\n",
       "      <td>5.0</td>\n",
       "      <td>224</td>\n",
       "      <td>I've owned several of their older brewstation ...</td>\n",
       "    </tr>\n",
       "    <tr>\n",
       "      <th>4</th>\n",
       "      <td>November 28, 2017</td>\n",
       "      <td>JennyD</td>\n",
       "      <td>3.0</td>\n",
       "      <td>116</td>\n",
       "      <td>I agonized over which coffee maker to purchase...</td>\n",
       "    </tr>\n",
       "  </tbody>\n",
       "</table>\n",
       "</div>"
      ],
      "text/plain": [
       "         review_date              handle  rating helpfulness_rating  \\\n",
       "0     April 14, 2018         The Dolphin     2.0                513   \n",
       "1   February 7, 2019  Karen Kaffenberger     1.0                122   \n",
       "2  December 23, 2017             C1C3C11     4.0                185   \n",
       "3  November 26, 2016        Paul Roberts     5.0                224   \n",
       "4  November 28, 2017              JennyD     3.0                116   \n",
       "\n",
       "                                              review  \n",
       "0  Delightful coffee maker if you’re only looking...  \n",
       "1  UPDATE: Bought this 10-21-18 and I finally ret...  \n",
       "2  The big reason I ordered this was because I wa...  \n",
       "3  I've owned several of their older brewstation ...  \n",
       "4  I agonized over which coffee maker to purchase...  "
      ]
     },
     "execution_count": 2,
     "metadata": {},
     "output_type": "execute_result"
    }
   ],
   "source": [
    "all_data = pd.read_csv('/kaggle/input/-coffeemakerclassification/coffee_maker.csv')\n",
    "all_data.head()"
   ]
  },
  {
   "cell_type": "markdown",
   "id": "f5f7549c",
   "metadata": {
    "papermill": {
     "duration": 0.00291,
     "end_time": "2022-11-10T19:25:38.434132",
     "exception": false,
     "start_time": "2022-11-10T19:25:38.431222",
     "status": "completed"
    },
    "tags": []
   },
   "source": [
    "# **Preprocessing**"
   ]
  },
  {
   "cell_type": "code",
   "execution_count": 3,
   "id": "9bd28d38",
   "metadata": {
    "execution": {
     "iopub.execute_input": "2022-11-10T19:25:38.442772Z",
     "iopub.status.busy": "2022-11-10T19:25:38.442094Z",
     "iopub.status.idle": "2022-11-10T19:25:38.542055Z",
     "shell.execute_reply": "2022-11-10T19:25:38.540851Z"
    },
    "papermill": {
     "duration": 0.107312,
     "end_time": "2022-11-10T19:25:38.544727",
     "exception": false,
     "start_time": "2022-11-10T19:25:38.437415",
     "status": "completed"
    },
    "tags": []
   },
   "outputs": [
    {
     "data": {
      "text/html": [
       "<div>\n",
       "<style scoped>\n",
       "    .dataframe tbody tr th:only-of-type {\n",
       "        vertical-align: middle;\n",
       "    }\n",
       "\n",
       "    .dataframe tbody tr th {\n",
       "        vertical-align: top;\n",
       "    }\n",
       "\n",
       "    .dataframe thead th {\n",
       "        text-align: right;\n",
       "    }\n",
       "</style>\n",
       "<table border=\"1\" class=\"dataframe\">\n",
       "  <thead>\n",
       "    <tr style=\"text-align: right;\">\n",
       "      <th></th>\n",
       "      <th>review_date</th>\n",
       "      <th>handle</th>\n",
       "      <th>rating</th>\n",
       "      <th>helpfulness_rating</th>\n",
       "      <th>review</th>\n",
       "      <th>label</th>\n",
       "    </tr>\n",
       "  </thead>\n",
       "  <tbody>\n",
       "    <tr>\n",
       "      <th>0</th>\n",
       "      <td>April 14, 2018</td>\n",
       "      <td>The Dolphin</td>\n",
       "      <td>2.0</td>\n",
       "      <td>513</td>\n",
       "      <td>Delightful coffee maker if you’re only looking...</td>\n",
       "      <td>0</td>\n",
       "    </tr>\n",
       "    <tr>\n",
       "      <th>1</th>\n",
       "      <td>February 7, 2019</td>\n",
       "      <td>Karen Kaffenberger</td>\n",
       "      <td>1.0</td>\n",
       "      <td>122</td>\n",
       "      <td>UPDATE: Bought this 10-21-18 and I finally ret...</td>\n",
       "      <td>0</td>\n",
       "    </tr>\n",
       "    <tr>\n",
       "      <th>2</th>\n",
       "      <td>December 23, 2017</td>\n",
       "      <td>C1C3C11</td>\n",
       "      <td>4.0</td>\n",
       "      <td>185</td>\n",
       "      <td>The big reason I ordered this was because I wa...</td>\n",
       "      <td>1</td>\n",
       "    </tr>\n",
       "    <tr>\n",
       "      <th>3</th>\n",
       "      <td>November 26, 2016</td>\n",
       "      <td>Paul Roberts</td>\n",
       "      <td>5.0</td>\n",
       "      <td>224</td>\n",
       "      <td>I've owned several of their older brewstation ...</td>\n",
       "      <td>1</td>\n",
       "    </tr>\n",
       "    <tr>\n",
       "      <th>4</th>\n",
       "      <td>November 28, 2017</td>\n",
       "      <td>JennyD</td>\n",
       "      <td>3.0</td>\n",
       "      <td>116</td>\n",
       "      <td>I agonized over which coffee maker to purchase...</td>\n",
       "      <td>0</td>\n",
       "    </tr>\n",
       "    <tr>\n",
       "      <th>...</th>\n",
       "      <td>...</td>\n",
       "      <td>...</td>\n",
       "      <td>...</td>\n",
       "      <td>...</td>\n",
       "      <td>...</td>\n",
       "      <td>...</td>\n",
       "    </tr>\n",
       "    <tr>\n",
       "      <th>4995</th>\n",
       "      <td>February 4, 2014</td>\n",
       "      <td>shashi</td>\n",
       "      <td>5.0</td>\n",
       "      <td>NaN</td>\n",
       "      <td>Our Mr. Coffee machine stopped working one day...</td>\n",
       "      <td>1</td>\n",
       "    </tr>\n",
       "    <tr>\n",
       "      <th>4996</th>\n",
       "      <td>May 2, 2019</td>\n",
       "      <td>Connie Krusi</td>\n",
       "      <td>1.0</td>\n",
       "      <td>NaN</td>\n",
       "      <td>This is the second generation of this product ...</td>\n",
       "      <td>0</td>\n",
       "    </tr>\n",
       "    <tr>\n",
       "      <th>4997</th>\n",
       "      <td>August 28, 2014</td>\n",
       "      <td>KL</td>\n",
       "      <td>5.0</td>\n",
       "      <td>NaN</td>\n",
       "      <td>Wow works great and bought it for a bargain wi...</td>\n",
       "      <td>1</td>\n",
       "    </tr>\n",
       "    <tr>\n",
       "      <th>4998</th>\n",
       "      <td>December 16, 2019</td>\n",
       "      <td>Nancy</td>\n",
       "      <td>2.0</td>\n",
       "      <td>NaN</td>\n",
       "      <td>Doesn’t brew correctly need to start to get al...</td>\n",
       "      <td>0</td>\n",
       "    </tr>\n",
       "    <tr>\n",
       "      <th>4999</th>\n",
       "      <td>July 15, 2016</td>\n",
       "      <td>Roxanna Norman</td>\n",
       "      <td>5.0</td>\n",
       "      <td>NaN</td>\n",
       "      <td>Love my new coffee pot easy to use and keeps m...</td>\n",
       "      <td>1</td>\n",
       "    </tr>\n",
       "  </tbody>\n",
       "</table>\n",
       "<p>5000 rows × 6 columns</p>\n",
       "</div>"
      ],
      "text/plain": [
       "            review_date              handle  rating helpfulness_rating  \\\n",
       "0        April 14, 2018         The Dolphin     2.0                513   \n",
       "1      February 7, 2019  Karen Kaffenberger     1.0                122   \n",
       "2     December 23, 2017             C1C3C11     4.0                185   \n",
       "3     November 26, 2016        Paul Roberts     5.0                224   \n",
       "4     November 28, 2017              JennyD     3.0                116   \n",
       "...                 ...                 ...     ...                ...   \n",
       "4995   February 4, 2014              shashi     5.0                NaN   \n",
       "4996        May 2, 2019        Connie Krusi     1.0                NaN   \n",
       "4997    August 28, 2014                  KL     5.0                NaN   \n",
       "4998  December 16, 2019               Nancy     2.0                NaN   \n",
       "4999      July 15, 2016      Roxanna Norman     5.0                NaN   \n",
       "\n",
       "                                                 review  label  \n",
       "0     Delightful coffee maker if you’re only looking...      0  \n",
       "1     UPDATE: Bought this 10-21-18 and I finally ret...      0  \n",
       "2     The big reason I ordered this was because I wa...      1  \n",
       "3     I've owned several of their older brewstation ...      1  \n",
       "4     I agonized over which coffee maker to purchase...      0  \n",
       "...                                                 ...    ...  \n",
       "4995  Our Mr. Coffee machine stopped working one day...      1  \n",
       "4996  This is the second generation of this product ...      0  \n",
       "4997  Wow works great and bought it for a bargain wi...      1  \n",
       "4998  Doesn’t brew correctly need to start to get al...      0  \n",
       "4999  Love my new coffee pot easy to use and keeps m...      1  \n",
       "\n",
       "[5000 rows x 6 columns]"
      ]
     },
     "execution_count": 3,
     "metadata": {},
     "output_type": "execute_result"
    }
   ],
   "source": [
    "# creating a label column based on the product ratings. \n",
    "# Negative sentiment is the outcome of interest. \n",
    "# Ratings 1-3 -> negative sentiment. Ratings 4-5 -> positive sentiment\n",
    "\n",
    "all_data['label'] = all_data.apply(lambda row: row.rating>3.0,axis=1)\n",
    "all_data['label'] = all_data['label'].astype(int)\n",
    "all_data"
   ]
  },
  {
   "cell_type": "code",
   "execution_count": 4,
   "id": "1e4e89f1",
   "metadata": {
    "execution": {
     "iopub.execute_input": "2022-11-10T19:25:38.553943Z",
     "iopub.status.busy": "2022-11-10T19:25:38.552944Z",
     "iopub.status.idle": "2022-11-10T19:25:38.751887Z",
     "shell.execute_reply": "2022-11-10T19:25:38.750507Z"
    },
    "papermill": {
     "duration": 0.206586,
     "end_time": "2022-11-10T19:25:38.754790",
     "exception": false,
     "start_time": "2022-11-10T19:25:38.548204",
     "status": "completed"
    },
    "tags": []
   },
   "outputs": [
    {
     "data": {
      "image/png": "[encoded data removed]",
      "text/plain": [
       "<Figure size 432x288 with 1 Axes>"
      ]
     },
     "metadata": {
      "needs_background": "light"
     },
     "output_type": "display_data"
    }
   ],
   "source": [
    "# Assessing label class distribution\n",
    "\n",
    "plt.hist(all_data['label'])\n",
    "plt.gca().set(title = 'Frequency Distribution of label',ylabel='Frequency',xlabel='label')\n",
    "plt.show()"
   ]
  },
  {
   "cell_type": "markdown",
   "id": "aa12e42f",
   "metadata": {
    "papermill": {
     "duration": 0.003527,
     "end_time": "2022-11-10T19:25:38.762151",
     "exception": false,
     "start_time": "2022-11-10T19:25:38.758624",
     "status": "completed"
    },
    "tags": []
   },
   "source": [
    "As seen from the above histogram, we do not have any class imbalance problem here and this is good distribution of the target variable."
   ]
  },
  {
   "cell_type": "code",
   "execution_count": null,
   "id": "34cf406c",
   "metadata": {
    "papermill": {
     "duration": 0.003383,
     "end_time": "2022-11-10T19:25:38.769408",
     "exception": false,
     "start_time": "2022-11-10T19:25:38.766025",
     "status": "completed"
    },
    "tags": []
   },
   "outputs": [],
   "source": []
  }
 ],
 "metadata": {
  "kernelspec": {
   "display_name": "Python 3",
   "language": "python",
   "name": "python3"
  },
  "language_info": {
   "codemirror_mode": {
    "name": "ipython",
    "version": 3
   },
   "file_extension": ".py",
   "mimetype": "text/x-python",
   "name": "python",
   "nbconvert_exporter": "python",
   "pygments_lexer": "ipython3",
   "version": "3.7.12"
  },
  "papermill": {
   "default_parameters": {},
   "duration": 10.597445,
   "end_time": "2022-11-10T19:25:39.495796",
   "environment_variables": {},
   "exception": null,
   "input_path": "__notebook__.ipynb",
   "output_path": "__notebook__.ipynb",
   "parameters": {},
   "start_time": "2022-11-10T19:25:28.898351",
   "version": "2.3.4"
  }
 },
 "nbformat": 4,
 "nbformat_minor": 5
}
