{
 "cells": [
  {
   "cell_type": "code",
   "execution_count": 1,
   "id": "03399b52",
   "metadata": {
    "_cell_guid": "b1076dfc-b9ad-4769-8c92-a6c4dae69d19",
    "_uuid": "8f2839f25d086af736a60e9eeb907d3b93b6e0e5",
    "execution": {
     "iopub.execute_input": "2022-10-02T10:08:15.580536Z",
     "iopub.status.busy": "2022-10-02T10:08:15.580130Z",
     "iopub.status.idle": "2022-10-02T10:08:16.767624Z",
     "shell.execute_reply": "2022-10-02T10:08:16.766348Z"
    },
    "papermill": {
     "duration": 1.196609,
     "end_time": "2022-10-02T10:08:16.770250",
     "exception": false,
     "start_time": "2022-10-02T10:08:15.573641",
     "status": "completed"
    },
    "tags": []
   },
   "outputs": [
    {
     "name": "stdout",
     "output_type": "stream",
     "text": [
      "/kaggle/input/bank-loan-classification/UniversalBank.csv\n"
     ]
    }
   ],
   "source": [
    "import numpy as np \n",
    "import pandas as pd \n",
    "import matplotlib.pyplot as plt \n",
    "import seaborn as sns\n",
    "from sklearn.preprocessing import StandardScaler\n",
    "from sklearn.model_selection import train_test_split\n",
    "from sklearn.neural_network import MLPClassifier\n",
    "from sklearn.metrics import confusion_matrix\n",
    "from sklearn.metrics import classification_report\n",
    "from sklearn.preprocessing import MinMaxScaler\n",
    "\n",
    "import os\n",
    "for dirname, _, filenames in os.walk('/kaggle/input'):\n",
    "    for filename in filenames:\n",
    "        print(os.path.join(dirname, filename))"
   ]
  },
  {
   "cell_type": "code",
   "execution_count": 2,
   "id": "fff4daa9",
   "metadata": {
    "execution": {
     "iopub.execute_input": "2022-10-02T10:08:16.780761Z",
     "iopub.status.busy": "2022-10-02T10:08:16.780426Z",
     "iopub.status.idle": "2022-10-02T10:08:16.835862Z",
     "shell.execute_reply": "2022-10-02T10:08:16.834258Z"
    },
    "papermill": {
     "duration": 0.063433,
     "end_time": "2022-10-02T10:08:16.838107",
     "exception": false,
     "start_time": "2022-10-02T10:08:16.774674",
     "status": "completed"
    },
    "tags": []
   },
   "outputs": [
    {
     "data": {
      "text/html": [
       "<div>\n",
       "<style scoped>\n",
       "    .dataframe tbody tr th:only-of-type {\n",
       "        vertical-align: middle;\n",
       "    }\n",
       "\n",
       "    .dataframe tbody tr th {\n",
       "        vertical-align: top;\n",
       "    }\n",
       "\n",
       "    .dataframe thead th {\n",
       "        text-align: right;\n",
       "    }\n",
       "</style>\n",
       "<table border=\"1\" class=\"dataframe\">\n",
       "  <thead>\n",
       "    <tr style=\"text-align: right;\">\n",
       "      <th></th>\n",
       "      <th>ID</th>\n",
       "      <th>Age</th>\n",
       "      <th>Experience</th>\n",
       "      <th>Income</th>\n",
       "      <th>ZIP Code</th>\n",
       "      <th>Family</th>\n",
       "      <th>CCAvg</th>\n",
       "      <th>Education</th>\n",
       "      <th>Mortgage</th>\n",
       "      <th>Personal Loan</th>\n",
       "      <th>Securities Account</th>\n",
       "      <th>CD Account</th>\n",
       "      <th>Online</th>\n",
       "      <th>CreditCard</th>\n",
       "    </tr>\n",
       "  </thead>\n",
       "  <tbody>\n",
       "    <tr>\n",
       "      <th>0</th>\n",
       "      <td>1</td>\n",
       "      <td>25</td>\n",
       "      <td>1</td>\n",
       "      <td>49</td>\n",
       "      <td>91107</td>\n",
       "      <td>4</td>\n",
       "      <td>1.6</td>\n",
       "      <td>1</td>\n",
       "      <td>0</td>\n",
       "      <td>0</td>\n",
       "      <td>1</td>\n",
       "      <td>0</td>\n",
       "      <td>0</td>\n",
       "      <td>0</td>\n",
       "    </tr>\n",
       "    <tr>\n",
       "      <th>1</th>\n",
       "      <td>2</td>\n",
       "      <td>45</td>\n",
       "      <td>19</td>\n",
       "      <td>34</td>\n",
       "      <td>90089</td>\n",
       "      <td>3</td>\n",
       "      <td>1.5</td>\n",
       "      <td>1</td>\n",
       "      <td>0</td>\n",
       "      <td>0</td>\n",
       "      <td>1</td>\n",
       "      <td>0</td>\n",
       "      <td>0</td>\n",
       "      <td>0</td>\n",
       "    </tr>\n",
       "    <tr>\n",
       "      <th>2</th>\n",
       "      <td>3</td>\n",
       "      <td>39</td>\n",
       "      <td>15</td>\n",
       "      <td>11</td>\n",
       "      <td>94720</td>\n",
       "      <td>1</td>\n",
       "      <td>1.0</td>\n",
       "      <td>1</td>\n",
       "      <td>0</td>\n",
       "      <td>0</td>\n",
       "      <td>0</td>\n",
       "      <td>0</td>\n",
       "      <td>0</td>\n",
       "      <td>0</td>\n",
       "    </tr>\n",
       "    <tr>\n",
       "      <th>3</th>\n",
       "      <td>4</td>\n",
       "      <td>35</td>\n",
       "      <td>9</td>\n",
       "      <td>100</td>\n",
       "      <td>94112</td>\n",
       "      <td>1</td>\n",
       "      <td>2.7</td>\n",
       "      <td>2</td>\n",
       "      <td>0</td>\n",
       "      <td>0</td>\n",
       "      <td>0</td>\n",
       "      <td>0</td>\n",
       "      <td>0</td>\n",
       "      <td>0</td>\n",
       "    </tr>\n",
       "    <tr>\n",
       "      <th>4</th>\n",
       "      <td>5</td>\n",
       "      <td>35</td>\n",
       "      <td>8</td>\n",
       "      <td>45</td>\n",
       "      <td>91330</td>\n",
       "      <td>4</td>\n",
       "      <td>1.0</td>\n",
       "      <td>2</td>\n",
       "      <td>0</td>\n",
       "      <td>0</td>\n",
       "      <td>0</td>\n",
       "      <td>0</td>\n",
       "      <td>0</td>\n",
       "      <td>1</td>\n",
       "    </tr>\n",
       "    <tr>\n",
       "      <th>...</th>\n",
       "      <td>...</td>\n",
       "      <td>...</td>\n",
       "      <td>...</td>\n",
       "      <td>...</td>\n",
       "      <td>...</td>\n",
       "      <td>...</td>\n",
       "      <td>...</td>\n",
       "      <td>...</td>\n",
       "      <td>...</td>\n",
       "      <td>...</td>\n",
       "      <td>...</td>\n",
       "      <td>...</td>\n",
       "      <td>...</td>\n",
       "      <td>...</td>\n",
       "    </tr>\n",
       "    <tr>\n",
       "      <th>4995</th>\n",
       "      <td>4996</td>\n",
       "      <td>29</td>\n",
       "      <td>3</td>\n",
       "      <td>40</td>\n",
       "      <td>92697</td>\n",
       "      <td>1</td>\n",
       "      <td>1.9</td>\n",
       "      <td>3</td>\n",
       "      <td>0</td>\n",
       "      <td>0</td>\n",
       "      <td>0</td>\n",
       "      <td>0</td>\n",
       "      <td>1</td>\n",
       "      <td>0</td>\n",
       "    </tr>\n",
       "    <tr>\n",
       "      <th>4996</th>\n",
       "      <td>4997</td>\n",
       "      <td>30</td>\n",
       "      <td>4</td>\n",
       "      <td>15</td>\n",
       "      <td>92037</td>\n",
       "      <td>4</td>\n",
       "      <td>0.4</td>\n",
       "      <td>1</td>\n",
       "      <td>85</td>\n",
       "      <td>0</td>\n",
       "      <td>0</td>\n",
       "      <td>0</td>\n",
       "      <td>1</td>\n",
       "      <td>0</td>\n",
       "    </tr>\n",
       "    <tr>\n",
       "      <th>4997</th>\n",
       "      <td>4998</td>\n",
       "      <td>63</td>\n",
       "      <td>39</td>\n",
       "      <td>24</td>\n",
       "      <td>93023</td>\n",
       "      <td>2</td>\n",
       "      <td>0.3</td>\n",
       "      <td>3</td>\n",
       "      <td>0</td>\n",
       "      <td>0</td>\n",
       "      <td>0</td>\n",
       "      <td>0</td>\n",
       "      <td>0</td>\n",
       "      <td>0</td>\n",
       "    </tr>\n",
       "    <tr>\n",
       "      <th>4998</th>\n",
       "      <td>4999</td>\n",
       "      <td>65</td>\n",
       "      <td>40</td>\n",
       "      <td>49</td>\n",
       "      <td>90034</td>\n",
       "      <td>3</td>\n",
       "      <td>0.5</td>\n",
       "      <td>2</td>\n",
       "      <td>0</td>\n",
       "      <td>0</td>\n",
       "      <td>0</td>\n",
       "      <td>0</td>\n",
       "      <td>1</td>\n",
       "      <td>0</td>\n",
       "    </tr>\n",
       "    <tr>\n",
       "      <th>4999</th>\n",
       "      <td>5000</td>\n",
       "      <td>28</td>\n",
       "      <td>4</td>\n",
       "      <td>83</td>\n",
       "      <td>92612</td>\n",
       "      <td>3</td>\n",
       "      <td>0.8</td>\n",
       "      <td>1</td>\n",
       "      <td>0</td>\n",
       "      <td>0</td>\n",
       "      <td>0</td>\n",
       "      <td>0</td>\n",
       "      <td>1</td>\n",
       "      <td>1</td>\n",
       "    </tr>\n",
       "  </tbody>\n",
       "</table>\n",
       "<p>5000 rows × 14 columns</p>\n",
       "</div>"
      ],
      "text/plain": [
       "        ID  Age  Experience  Income  ZIP Code  Family  CCAvg  Education  \\\n",
       "0        1   25           1      49     91107       4    1.6          1   \n",
       "1        2   45          19      34     90089       3    1.5          1   \n",
       "2        3   39          15      11     94720       1    1.0          1   \n",
       "3        4   35           9     100     94112       1    2.7          2   \n",
       "4        5   35           8      45     91330       4    1.0          2   \n",
       "...    ...  ...         ...     ...       ...     ...    ...        ...   \n",
       "4995  4996   29           3      40     92697       1    1.9          3   \n",
       "4996  4997   30           4      15     92037       4    0.4          1   \n",
       "4997  4998   63          39      24     93023       2    0.3          3   \n",
       "4998  4999   65          40      49     90034       3    0.5          2   \n",
       "4999  5000   28           4      83     92612       3    0.8          1   \n",
       "\n",
       "      Mortgage  Personal Loan  Securities Account  CD Account  Online  \\\n",
       "0            0              0                   1           0       0   \n",
       "1            0              0                   1           0       0   \n",
       "2            0              0                   0           0       0   \n",
       "3            0              0                   0           0       0   \n",
       "4            0              0                   0           0       0   \n",
       "...        ...            ...                 ...         ...     ...   \n",
       "4995         0              0                   0           0       1   \n",
       "4996        85              0                   0           0       1   \n",
       "4997         0              0                   0           0       0   \n",
       "4998         0              0                   0           0       1   \n",
       "4999         0              0                   0           0       1   \n",
       "\n",
       "      CreditCard  \n",
       "0              0  \n",
       "1              0  \n",
       "2              0  \n",
       "3              0  \n",
       "4              1  \n",
       "...          ...  \n",
       "4995           0  \n",
       "4996           0  \n",
       "4997           0  \n",
       "4998           0  \n",
       "4999           1  \n",
       "\n",
       "[5000 rows x 14 columns]"
      ]
     },
     "execution_count": 2,
     "metadata": {},
     "output_type": "execute_result"
    }
   ],
   "source": [
    "all_data = pd.read_csv('/kaggle/input/bank-loan-classification/UniversalBank.csv')\n",
    "all_data"
   ]
  },
  {
   "cell_type": "markdown",
   "id": "d6252804",
   "metadata": {
    "papermill": {
     "duration": 0.003984,
     "end_time": "2022-10-02T10:08:16.846576",
     "exception": false,
     "start_time": "2022-10-02T10:08:16.842592",
     "status": "completed"
    },
    "tags": []
   },
   "source": [
    "categorical features that need to be preprocessed:\n",
    "zipcode, education(ordinal)\n",
    "\n",
    "\n",
    "target variable:\n",
    "Personal Loan \n",
    "\n",
    "\n",
    "continuous variable:\n",
    "experiencet"
   ]
  },
  {
   "cell_type": "code",
   "execution_count": 3,
   "id": "ca84fc77",
   "metadata": {
    "execution": {
     "iopub.execute_input": "2022-10-02T10:08:16.856889Z",
     "iopub.status.busy": "2022-10-02T10:08:16.856523Z",
     "iopub.status.idle": "2022-10-02T10:08:16.866499Z",
     "shell.execute_reply": "2022-10-02T10:08:16.864886Z"
    },
    "papermill": {
     "duration": 0.017332,
     "end_time": "2022-10-02T10:08:16.868253",
     "exception": false,
     "start_time": "2022-10-02T10:08:16.850921",
     "status": "completed"
    },
    "tags": []
   },
   "outputs": [
    {
     "data": {
      "text/plain": [
       "ID                    0\n",
       "Age                   0\n",
       "Experience            0\n",
       "Income                0\n",
       "ZIP Code              0\n",
       "Family                0\n",
       "CCAvg                 0\n",
       "Education             0\n",
       "Mortgage              0\n",
       "Personal Loan         0\n",
       "Securities Account    0\n",
       "CD Account            0\n",
       "Online                0\n",
       "CreditCard            0\n",
       "dtype: int64"
      ]
     },
     "execution_count": 3,
     "metadata": {},
     "output_type": "execute_result"
    }
   ],
   "source": [
    "# Examine missing values\n",
    "\n",
    "all_data.isna().sum()"
   ]
  },
  {
   "cell_type": "markdown",
   "id": "5211e70d",
   "metadata": {
    "papermill": {
     "duration": 0.003743,
     "end_time": "2022-10-02T10:08:16.876218",
     "exception": false,
     "start_time": "2022-10-02T10:08:16.872475",
     "status": "completed"
    },
    "tags": []
   },
   "source": [
    "There are no missing values in the data "
   ]
  },
  {
   "cell_type": "code",
   "execution_count": 4,
   "id": "238098d8",
   "metadata": {
    "execution": {
     "iopub.execute_input": "2022-10-02T10:08:16.885511Z",
     "iopub.status.busy": "2022-10-02T10:08:16.885208Z",
     "iopub.status.idle": "2022-10-02T10:08:16.896928Z",
     "shell.execute_reply": "2022-10-02T10:08:16.895880Z"
    },
    "papermill": {
     "duration": 0.018211,
     "end_time": "2022-10-02T10:08:16.898409",
     "exception": false,
     "start_time": "2022-10-02T10:08:16.880198",
     "status": "completed"
    },
    "tags": []
   },
   "outputs": [
    {
     "data": {
      "text/plain": [
       "0    4520\n",
       "1     480\n",
       "Name: Personal Loan, dtype: int64"
      ]
     },
     "execution_count": 4,
     "metadata": {},
     "output_type": "execute_result"
    }
   ],
   "source": [
    "all_data['Personal Loan'].value_counts()"
   ]
  },
  {
   "cell_type": "markdown",
   "id": "7ffc58ab",
   "metadata": {
    "papermill": {
     "duration": 0.004087,
     "end_time": "2022-10-02T10:08:16.906783",
     "exception": false,
     "start_time": "2022-10-02T10:08:16.902696",
     "status": "completed"
    },
    "tags": []
   },
   "source": [
    "Since the minority class is about 1% of the total data, handling "
   ]
  },
  {
   "cell_type": "code",
   "execution_count": 5,
   "id": "44abe2f7",
   "metadata": {
    "execution": {
     "iopub.execute_input": "2022-10-02T10:08:16.916504Z",
     "iopub.status.busy": "2022-10-02T10:08:16.916159Z",
     "iopub.status.idle": "2022-10-02T10:08:17.073916Z",
     "shell.execute_reply": "2022-10-02T10:08:17.073105Z"
    },
    "papermill": {
     "duration": 0.165189,
     "end_time": "2022-10-02T10:08:17.075899",
     "exception": false,
     "start_time": "2022-10-02T10:08:16.910710",
     "status": "completed"
    },
    "tags": []
   },
   "outputs": [
    {
     "name": "stderr",
     "output_type": "stream",
     "text": [
      "/opt/conda/lib/python3.7/site-packages/seaborn/_decorators.py:43: FutureWarning: Pass the following variable as a keyword arg: x. From version 0.12, the only valid positional argument will be `data`, and passing other arguments without an explicit keyword will result in an error or misinterpretation.\n",
      "  FutureWarning\n"
     ]
    },
    {
     "data": {
      "image/png": "[encoded data removed]",
      "text/plain": [
       "<Figure size 720x432 with 1 Axes>"
      ]
     },
     "metadata": {
      "needs_background": "light"
     },
     "output_type": "display_data"
    }
   ],
   "source": [
    "plt.figure(figsize = (10,6))\n",
    "sns.countplot('Personal Loan',data=all_data).set_title('Distribution of Target Variable')\n",
    "plt.show()"
   ]
  },
  {
   "cell_type": "code",
   "execution_count": 6,
   "id": "61aa7ca2",
   "metadata": {
    "execution": {
     "iopub.execute_input": "2022-10-02T10:08:17.087448Z",
     "iopub.status.busy": "2022-10-02T10:08:17.087161Z",
     "iopub.status.idle": "2022-10-02T10:08:17.095490Z",
     "shell.execute_reply": "2022-10-02T10:08:17.094194Z"
    },
    "papermill": {
     "duration": 0.015542,
     "end_time": "2022-10-02T10:08:17.097307",
     "exception": false,
     "start_time": "2022-10-02T10:08:17.081765",
     "status": "completed"
    },
    "tags": []
   },
   "outputs": [
    {
     "data": {
      "text/plain": [
       "1    2096\n",
       "3    1501\n",
       "2    1403\n",
       "Name: Education, dtype: int64"
      ]
     },
     "execution_count": 6,
     "metadata": {},
     "output_type": "execute_result"
    }
   ],
   "source": [
    "all_data['Education'].value_counts()"
   ]
  },
  {
   "cell_type": "code",
   "execution_count": 7,
   "id": "f9a39d82",
   "metadata": {
    "execution": {
     "iopub.execute_input": "2022-10-02T10:08:17.107822Z",
     "iopub.status.busy": "2022-10-02T10:08:17.107485Z",
     "iopub.status.idle": "2022-10-02T10:08:17.147560Z",
     "shell.execute_reply": "2022-10-02T10:08:17.146815Z"
    },
    "papermill": {
     "duration": 0.047417,
     "end_time": "2022-10-02T10:08:17.149172",
     "exception": false,
     "start_time": "2022-10-02T10:08:17.101755",
     "status": "completed"
    },
    "tags": []
   },
   "outputs": [
    {
     "data": {
      "text/html": [
       "<div>\n",
       "<style scoped>\n",
       "    .dataframe tbody tr th:only-of-type {\n",
       "        vertical-align: middle;\n",
       "    }\n",
       "\n",
       "    .dataframe tbody tr th {\n",
       "        vertical-align: top;\n",
       "    }\n",
       "\n",
       "    .dataframe thead th {\n",
       "        text-align: right;\n",
       "    }\n",
       "</style>\n",
       "<table border=\"1\" class=\"dataframe\">\n",
       "  <thead>\n",
       "    <tr style=\"text-align: right;\">\n",
       "      <th></th>\n",
       "      <th>ID</th>\n",
       "      <th>Age</th>\n",
       "      <th>Experience</th>\n",
       "      <th>Income</th>\n",
       "      <th>Family</th>\n",
       "      <th>CCAvg</th>\n",
       "      <th>Mortgage</th>\n",
       "      <th>Personal Loan</th>\n",
       "      <th>Securities Account</th>\n",
       "      <th>CD Account</th>\n",
       "      <th>...</th>\n",
       "      <th>ZIP Code_95973</th>\n",
       "      <th>ZIP Code_96001</th>\n",
       "      <th>ZIP Code_96003</th>\n",
       "      <th>ZIP Code_96008</th>\n",
       "      <th>ZIP Code_96064</th>\n",
       "      <th>ZIP Code_96091</th>\n",
       "      <th>ZIP Code_96094</th>\n",
       "      <th>ZIP Code_96145</th>\n",
       "      <th>ZIP Code_96150</th>\n",
       "      <th>ZIP Code_96651</th>\n",
       "    </tr>\n",
       "  </thead>\n",
       "  <tbody>\n",
       "    <tr>\n",
       "      <th>0</th>\n",
       "      <td>1</td>\n",
       "      <td>25</td>\n",
       "      <td>1</td>\n",
       "      <td>49</td>\n",
       "      <td>4</td>\n",
       "      <td>1.6</td>\n",
       "      <td>0</td>\n",
       "      <td>0</td>\n",
       "      <td>1</td>\n",
       "      <td>0</td>\n",
       "      <td>...</td>\n",
       "      <td>0</td>\n",
       "      <td>0</td>\n",
       "      <td>0</td>\n",
       "      <td>0</td>\n",
       "      <td>0</td>\n",
       "      <td>0</td>\n",
       "      <td>0</td>\n",
       "      <td>0</td>\n",
       "      <td>0</td>\n",
       "      <td>0</td>\n",
       "    </tr>\n",
       "    <tr>\n",
       "      <th>1</th>\n",
       "      <td>2</td>\n",
       "      <td>45</td>\n",
       "      <td>19</td>\n",
       "      <td>34</td>\n",
       "      <td>3</td>\n",
       "      <td>1.5</td>\n",
       "      <td>0</td>\n",
       "      <td>0</td>\n",
       "      <td>1</td>\n",
       "      <td>0</td>\n",
       "      <td>...</td>\n",
       "      <td>0</td>\n",
       "      <td>0</td>\n",
       "      <td>0</td>\n",
       "      <td>0</td>\n",
       "      <td>0</td>\n",
       "      <td>0</td>\n",
       "      <td>0</td>\n",
       "      <td>0</td>\n",
       "      <td>0</td>\n",
       "      <td>0</td>\n",
       "    </tr>\n",
       "    <tr>\n",
       "      <th>2</th>\n",
       "      <td>3</td>\n",
       "      <td>39</td>\n",
       "      <td>15</td>\n",
       "      <td>11</td>\n",
       "      <td>1</td>\n",
       "      <td>1.0</td>\n",
       "      <td>0</td>\n",
       "      <td>0</td>\n",
       "      <td>0</td>\n",
       "      <td>0</td>\n",
       "      <td>...</td>\n",
       "      <td>0</td>\n",
       "      <td>0</td>\n",
       "      <td>0</td>\n",
       "      <td>0</td>\n",
       "      <td>0</td>\n",
       "      <td>0</td>\n",
       "      <td>0</td>\n",
       "      <td>0</td>\n",
       "      <td>0</td>\n",
       "      <td>0</td>\n",
       "    </tr>\n",
       "    <tr>\n",
       "      <th>3</th>\n",
       "      <td>4</td>\n",
       "      <td>35</td>\n",
       "      <td>9</td>\n",
       "      <td>100</td>\n",
       "      <td>1</td>\n",
       "      <td>2.7</td>\n",
       "      <td>0</td>\n",
       "      <td>0</td>\n",
       "      <td>0</td>\n",
       "      <td>0</td>\n",
       "      <td>...</td>\n",
       "      <td>0</td>\n",
       "      <td>0</td>\n",
       "      <td>0</td>\n",
       "      <td>0</td>\n",
       "      <td>0</td>\n",
       "      <td>0</td>\n",
       "      <td>0</td>\n",
       "      <td>0</td>\n",
       "      <td>0</td>\n",
       "      <td>0</td>\n",
       "    </tr>\n",
       "    <tr>\n",
       "      <th>4</th>\n",
       "      <td>5</td>\n",
       "      <td>35</td>\n",
       "      <td>8</td>\n",
       "      <td>45</td>\n",
       "      <td>4</td>\n",
       "      <td>1.0</td>\n",
       "      <td>0</td>\n",
       "      <td>0</td>\n",
       "      <td>0</td>\n",
       "      <td>0</td>\n",
       "      <td>...</td>\n",
       "      <td>0</td>\n",
       "      <td>0</td>\n",
       "      <td>0</td>\n",
       "      <td>0</td>\n",
       "      <td>0</td>\n",
       "      <td>0</td>\n",
       "      <td>0</td>\n",
       "      <td>0</td>\n",
       "      <td>0</td>\n",
       "      <td>0</td>\n",
       "    </tr>\n",
       "    <tr>\n",
       "      <th>...</th>\n",
       "      <td>...</td>\n",
       "      <td>...</td>\n",
       "      <td>...</td>\n",
       "      <td>...</td>\n",
       "      <td>...</td>\n",
       "      <td>...</td>\n",
       "      <td>...</td>\n",
       "      <td>...</td>\n",
       "      <td>...</td>\n",
       "      <td>...</td>\n",
       "      <td>...</td>\n",
       "      <td>...</td>\n",
       "      <td>...</td>\n",
       "      <td>...</td>\n",
       "      <td>...</td>\n",
       "      <td>...</td>\n",
       "      <td>...</td>\n",
       "      <td>...</td>\n",
       "      <td>...</td>\n",
       "      <td>...</td>\n",
       "      <td>...</td>\n",
       "    </tr>\n",
       "    <tr>\n",
       "      <th>4995</th>\n",
       "      <td>4996</td>\n",
       "      <td>29</td>\n",
       "      <td>3</td>\n",
       "      <td>40</td>\n",
       "      <td>1</td>\n",
       "      <td>1.9</td>\n",
       "      <td>0</td>\n",
       "      <td>0</td>\n",
       "      <td>0</td>\n",
       "      <td>0</td>\n",
       "      <td>...</td>\n",
       "      <td>0</td>\n",
       "      <td>0</td>\n",
       "      <td>0</td>\n",
       "      <td>0</td>\n",
       "      <td>0</td>\n",
       "      <td>0</td>\n",
       "      <td>0</td>\n",
       "      <td>0</td>\n",
       "      <td>0</td>\n",
       "      <td>0</td>\n",
       "    </tr>\n",
       "    <tr>\n",
       "      <th>4996</th>\n",
       "      <td>4997</td>\n",
       "      <td>30</td>\n",
       "      <td>4</td>\n",
       "      <td>15</td>\n",
       "      <td>4</td>\n",
       "      <td>0.4</td>\n",
       "      <td>85</td>\n",
       "      <td>0</td>\n",
       "      <td>0</td>\n",
       "      <td>0</td>\n",
       "      <td>...</td>\n",
       "      <td>0</td>\n",
       "      <td>0</td>\n",
       "      <td>0</td>\n",
       "      <td>0</td>\n",
       "      <td>0</td>\n",
       "      <td>0</td>\n",
       "      <td>0</td>\n",
       "      <td>0</td>\n",
       "      <td>0</td>\n",
       "      <td>0</td>\n",
       "    </tr>\n",
       "    <tr>\n",
       "      <th>4997</th>\n",
       "      <td>4998</td>\n",
       "      <td>63</td>\n",
       "      <td>39</td>\n",
       "      <td>24</td>\n",
       "      <td>2</td>\n",
       "      <td>0.3</td>\n",
       "      <td>0</td>\n",
       "      <td>0</td>\n",
       "      <td>0</td>\n",
       "      <td>0</td>\n",
       "      <td>...</td>\n",
       "      <td>0</td>\n",
       "      <td>0</td>\n",
       "      <td>0</td>\n",
       "      <td>0</td>\n",
       "      <td>0</td>\n",
       "      <td>0</td>\n",
       "      <td>0</td>\n",
       "      <td>0</td>\n",
       "      <td>0</td>\n",
       "      <td>0</td>\n",
       "    </tr>\n",
       "    <tr>\n",
       "      <th>4998</th>\n",
       "      <td>4999</td>\n",
       "      <td>65</td>\n",
       "      <td>40</td>\n",
       "      <td>49</td>\n",
       "      <td>3</td>\n",
       "      <td>0.5</td>\n",
       "      <td>0</td>\n",
       "      <td>0</td>\n",
       "      <td>0</td>\n",
       "      <td>0</td>\n",
       "      <td>...</td>\n",
       "      <td>0</td>\n",
       "      <td>0</td>\n",
       "      <td>0</td>\n",
       "      <td>0</td>\n",
       "      <td>0</td>\n",
       "      <td>0</td>\n",
       "      <td>0</td>\n",
       "      <td>0</td>\n",
       "      <td>0</td>\n",
       "      <td>0</td>\n",
       "    </tr>\n",
       "    <tr>\n",
       "      <th>4999</th>\n",
       "      <td>5000</td>\n",
       "      <td>28</td>\n",
       "      <td>4</td>\n",
       "      <td>83</td>\n",
       "      <td>3</td>\n",
       "      <td>0.8</td>\n",
       "      <td>0</td>\n",
       "      <td>0</td>\n",
       "      <td>0</td>\n",
       "      <td>0</td>\n",
       "      <td>...</td>\n",
       "      <td>0</td>\n",
       "      <td>0</td>\n",
       "      <td>0</td>\n",
       "      <td>0</td>\n",
       "      <td>0</td>\n",
       "      <td>0</td>\n",
       "      <td>0</td>\n",
       "      <td>0</td>\n",
       "      <td>0</td>\n",
       "      <td>0</td>\n",
       "    </tr>\n",
       "  </tbody>\n",
       "</table>\n",
       "<p>5000 rows × 482 columns</p>\n",
       "</div>"
      ],
      "text/plain": [
       "        ID  Age  Experience  Income  Family  CCAvg  Mortgage  Personal Loan  \\\n",
       "0        1   25           1      49       4    1.6         0              0   \n",
       "1        2   45          19      34       3    1.5         0              0   \n",
       "2        3   39          15      11       1    1.0         0              0   \n",
       "3        4   35           9     100       1    2.7         0              0   \n",
       "4        5   35           8      45       4    1.0         0              0   \n",
       "...    ...  ...         ...     ...     ...    ...       ...            ...   \n",
       "4995  4996   29           3      40       1    1.9         0              0   \n",
       "4996  4997   30           4      15       4    0.4        85              0   \n",
       "4997  4998   63          39      24       2    0.3         0              0   \n",
       "4998  4999   65          40      49       3    0.5         0              0   \n",
       "4999  5000   28           4      83       3    0.8         0              0   \n",
       "\n",
       "      Securities Account  CD Account  ...  ZIP Code_95973  ZIP Code_96001  \\\n",
       "0                      1           0  ...               0               0   \n",
       "1                      1           0  ...               0               0   \n",
       "2                      0           0  ...               0               0   \n",
       "3                      0           0  ...               0               0   \n",
       "4                      0           0  ...               0               0   \n",
       "...                  ...         ...  ...             ...             ...   \n",
       "4995                   0           0  ...               0               0   \n",
       "4996                   0           0  ...               0               0   \n",
       "4997                   0           0  ...               0               0   \n",
       "4998                   0           0  ...               0               0   \n",
       "4999                   0           0  ...               0               0   \n",
       "\n",
       "      ZIP Code_96003  ZIP Code_96008  ZIP Code_96064  ZIP Code_96091  \\\n",
       "0                  0               0               0               0   \n",
       "1                  0               0               0               0   \n",
       "2                  0               0               0               0   \n",
       "3                  0               0               0               0   \n",
       "4                  0               0               0               0   \n",
       "...              ...             ...             ...             ...   \n",
       "4995               0               0               0               0   \n",
       "4996               0               0               0               0   \n",
       "4997               0               0               0               0   \n",
       "4998               0               0               0               0   \n",
       "4999               0               0               0               0   \n",
       "\n",
       "      ZIP Code_96094  ZIP Code_96145  ZIP Code_96150  ZIP Code_96651  \n",
       "0                  0               0               0               0  \n",
       "1                  0               0               0               0  \n",
       "2                  0               0               0               0  \n",
       "3                  0               0               0               0  \n",
       "4                  0               0               0               0  \n",
       "...              ...             ...             ...             ...  \n",
       "4995               0               0               0               0  \n",
       "4996               0               0               0               0  \n",
       "4997               0               0               0               0  \n",
       "4998               0               0               0               0  \n",
       "4999               0               0               0               0  \n",
       "\n",
       "[5000 rows x 482 columns]"
      ]
     },
     "execution_count": 7,
     "metadata": {},
     "output_type": "execute_result"
    }
   ],
   "source": [
    "one_hot_encoded_data = pd.get_dummies(all_data, columns = ['Education','ZIP Code'])\n",
    "one_hot_encoded_data"
   ]
  },
  {
   "cell_type": "code",
   "execution_count": 8,
   "id": "95c6a551",
   "metadata": {
    "execution": {
     "iopub.execute_input": "2022-10-02T10:08:17.160224Z",
     "iopub.status.busy": "2022-10-02T10:08:17.159925Z",
     "iopub.status.idle": "2022-10-02T10:08:17.170025Z",
     "shell.execute_reply": "2022-10-02T10:08:17.168284Z"
    },
    "papermill": {
     "duration": 0.018272,
     "end_time": "2022-10-02T10:08:17.172275",
     "exception": false,
     "start_time": "2022-10-02T10:08:17.154003",
     "status": "completed"
    },
    "tags": []
   },
   "outputs": [],
   "source": [
    "one_hot_encoded_data = one_hot_encoded_data.drop('ID',axis=1)"
   ]
  },
  {
   "cell_type": "code",
   "execution_count": 9,
   "id": "69c8e68d",
   "metadata": {
    "execution": {
     "iopub.execute_input": "2022-10-02T10:08:17.183980Z",
     "iopub.status.busy": "2022-10-02T10:08:17.183646Z",
     "iopub.status.idle": "2022-10-02T10:08:17.188664Z",
     "shell.execute_reply": "2022-10-02T10:08:17.187071Z"
    },
    "papermill": {
     "duration": 0.013897,
     "end_time": "2022-10-02T10:08:17.191249",
     "exception": false,
     "start_time": "2022-10-02T10:08:17.177352",
     "status": "completed"
    },
    "tags": []
   },
   "outputs": [],
   "source": [
    "# X = one_hot_encoded_data.drop('Personal Loan',axis=1)\n",
    "# scaler = StandardScaler()\n",
    "\n",
    "# columns = np.array(one_hot_encoded_data.keys())\n",
    "# scaledX = scaler.fit_transform(X)\n",
    "# one_hot_encoded_data[columns] = scaledX\n",
    "# one_hot_encoded_data"
   ]
  },
  {
   "cell_type": "code",
   "execution_count": null,
   "id": "1cfba970",
   "metadata": {
    "papermill": {
     "duration": 0.004882,
     "end_time": "2022-10-02T10:08:17.201335",
     "exception": false,
     "start_time": "2022-10-02T10:08:17.196453",
     "status": "completed"
    },
    "tags": []
   },
   "outputs": [],
   "source": []
  },
  {
   "cell_type": "code",
   "execution_count": 10,
   "id": "1ffa47a7",
   "metadata": {
    "execution": {
     "iopub.execute_input": "2022-10-02T10:08:17.213220Z",
     "iopub.status.busy": "2022-10-02T10:08:17.212868Z",
     "iopub.status.idle": "2022-10-02T10:08:17.250586Z",
     "shell.execute_reply": "2022-10-02T10:08:17.248970Z"
    },
    "papermill": {
     "duration": 0.046428,
     "end_time": "2022-10-02T10:08:17.253023",
     "exception": false,
     "start_time": "2022-10-02T10:08:17.206595",
     "status": "completed"
    },
    "tags": []
   },
   "outputs": [],
   "source": [
    "scaler = MinMaxScaler()\n",
    "model=scaler.fit(one_hot_encoded_data)\n",
    "scaled_data=model.transform(one_hot_encoded_data)\n",
    "\n",
    "scaled_data = pd.DataFrame(scaled_data, index=one_hot_encoded_data.index, columns=one_hot_encoded_data.columns)\n"
   ]
  },
  {
   "cell_type": "code",
   "execution_count": 11,
   "id": "64a3a22c",
   "metadata": {
    "execution": {
     "iopub.execute_input": "2022-10-02T10:08:17.264546Z",
     "iopub.status.busy": "2022-10-02T10:08:17.264237Z",
     "iopub.status.idle": "2022-10-02T10:08:17.294500Z",
     "shell.execute_reply": "2022-10-02T10:08:17.293179Z"
    },
    "papermill": {
     "duration": 0.038681,
     "end_time": "2022-10-02T10:08:17.296793",
     "exception": false,
     "start_time": "2022-10-02T10:08:17.258112",
     "status": "completed"
    },
    "tags": []
   },
   "outputs": [
    {
     "data": {
      "text/plain": [
       "((3500, 480), (1500, 480), (3500,), (1500,))"
      ]
     },
     "execution_count": 11,
     "metadata": {},
     "output_type": "execute_result"
    }
   ],
   "source": [
    "X = scaled_data.drop('Personal Loan',axis=1)\n",
    "y = scaled_data['Personal Loan']\n",
    "X_train, X_test, y_train, y_test = train_test_split(X, y, test_size = 0.3, random_state = 14)\n",
    "X_train.shape, X_test.shape, y_train.shape, y_test.shape"
   ]
  },
  {
   "cell_type": "code",
   "execution_count": 12,
   "id": "d3286b27",
   "metadata": {
    "execution": {
     "iopub.execute_input": "2022-10-02T10:08:17.309361Z",
     "iopub.status.busy": "2022-10-02T10:08:17.309036Z",
     "iopub.status.idle": "2022-10-02T10:08:25.604523Z",
     "shell.execute_reply": "2022-10-02T10:08:25.603529Z"
    },
    "papermill": {
     "duration": 8.304688,
     "end_time": "2022-10-02T10:08:25.607402",
     "exception": false,
     "start_time": "2022-10-02T10:08:17.302714",
     "status": "completed"
    },
    "tags": []
   },
   "outputs": [
    {
     "name": "stdout",
     "output_type": "stream",
     "text": [
      "[[1338   25]\n",
      " [  67   70]]\n",
      "              precision    recall  f1-score   support\n",
      "\n",
      "         0.0       0.95      0.98      0.97      1363\n",
      "         1.0       0.74      0.51      0.60       137\n",
      "\n",
      "    accuracy                           0.94      1500\n",
      "   macro avg       0.84      0.75      0.79      1500\n",
      "weighted avg       0.93      0.94      0.93      1500\n",
      "\n"
     ]
    },
    {
     "name": "stderr",
     "output_type": "stream",
     "text": [
      "/opt/conda/lib/python3.7/site-packages/sklearn/neural_network/_multilayer_perceptron.py:696: ConvergenceWarning: Stochastic Optimizer: Maximum iterations (200) reached and the optimization hasn't converged yet.\n",
      "  ConvergenceWarning,\n"
     ]
    }
   ],
   "source": [
    "mlp_clf = MLPClassifier(hidden_layer_sizes=20,activation = 'logistic',solver = 'adam')\n",
    "\n",
    "mlp_clf.fit(X_train, y_train.astype('int'))\n",
    "\n",
    "pred = mlp_clf.predict(X_test)\n",
    "\n",
    "print(confusion_matrix(y_test,pred))\n",
    "print(classification_report(y_test,pred))"
   ]
  },
  {
   "cell_type": "code",
   "execution_count": null,
   "id": "b82ee8c6",
   "metadata": {
    "papermill": {
     "duration": 0.006664,
     "end_time": "2022-10-02T10:08:25.620996",
     "exception": false,
     "start_time": "2022-10-02T10:08:25.614332",
     "status": "completed"
    },
    "tags": []
   },
   "outputs": [],
   "source": []
  }
 ],
 "metadata": {
  "kernelspec": {
   "display_name": "Python 3",
   "language": "python",
   "name": "python3"
  },
  "language_info": {
   "codemirror_mode": {
    "name": "ipython",
    "version": 3
   },
   "file_extension": ".py",
   "mimetype": "text/x-python",
   "name": "python",
   "nbconvert_exporter": "python",
   "pygments_lexer": "ipython3",
   "version": "3.7.12"
  },
  "papermill": {
   "default_parameters": {},
   "duration": 18.392936,
   "end_time": "2022-10-02T10:08:26.348375",
   "environment_variables": {},
   "exception": null,
   "input_path": "__notebook__.ipynb",
   "output_path": "__notebook__.ipynb",
   "parameters": {},
   "start_time": "2022-10-02T10:08:07.955439",
   "version": "2.3.4"
  }
 },
 "nbformat": 4,
 "nbformat_minor": 5
}
