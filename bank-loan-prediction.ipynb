{
 "cells": [
  {
   "cell_type": "code",
   "execution_count": 1,
   "id": "d1ae3e6f",
   "metadata": {
    "_cell_guid": "b1076dfc-b9ad-4769-8c92-a6c4dae69d19",
    "_uuid": "8f2839f25d086af736a60e9eeb907d3b93b6e0e5",
    "execution": {
     "iopub.execute_input": "2022-10-02T17:05:41.313085Z",
     "iopub.status.busy": "2022-10-02T17:05:41.312481Z",
     "iopub.status.idle": "2022-10-02T17:05:42.524482Z",
     "shell.execute_reply": "2022-10-02T17:05:42.522755Z"
    },
    "papermill": {
     "duration": 1.224955,
     "end_time": "2022-10-02T17:05:42.527673",
     "exception": false,
     "start_time": "2022-10-02T17:05:41.302718",
     "status": "completed"
    },
    "tags": []
   },
   "outputs": [
    {
     "name": "stdout",
     "output_type": "stream",
     "text": [
      "/kaggle/input/bank-loan-classification/UniversalBank.csv\n"
     ]
    }
   ],
   "source": [
    "import numpy as np \n",
    "import pandas as pd \n",
    "import matplotlib.pyplot as plt \n",
    "import seaborn as sns\n",
    "from sklearn.preprocessing import StandardScaler\n",
    "from sklearn.model_selection import train_test_split\n",
    "from sklearn.neural_network import MLPClassifier\n",
    "from sklearn.metrics import confusion_matrix\n",
    "from sklearn.metrics import classification_report\n",
    "from sklearn.preprocessing import MinMaxScaler\n",
    "from sklearn.metrics import plot_confusion_matrix\n",
    "from sklearn.metrics import roc_auc_score\n",
    "from sklearn.model_selection import GridSearchCV\n",
    "from sklearn.model_selection import cross_val_score\n",
    "\n",
    "import os\n",
    "for dirname, _, filenames in os.walk('/kaggle/input'):\n",
    "    for filename in filenames:\n",
    "        print(os.path.join(dirname, filename))"
   ]
  },
  {
   "cell_type": "code",
   "execution_count": 2,
   "id": "871092f1",
   "metadata": {
    "execution": {
     "iopub.execute_input": "2022-10-02T17:05:42.542232Z",
     "iopub.status.busy": "2022-10-02T17:05:42.541353Z",
     "iopub.status.idle": "2022-10-02T17:05:42.596199Z",
     "shell.execute_reply": "2022-10-02T17:05:42.595177Z"
    },
    "papermill": {
     "duration": 0.064538,
     "end_time": "2022-10-02T17:05:42.598496",
     "exception": false,
     "start_time": "2022-10-02T17:05:42.533958",
     "status": "completed"
    },
    "tags": []
   },
   "outputs": [
    {
     "data": {
      "text/html": [
       "<div>\n",
       "<style scoped>\n",
       "    .dataframe tbody tr th:only-of-type {\n",
       "        vertical-align: middle;\n",
       "    }\n",
       "\n",
       "    .dataframe tbody tr th {\n",
       "        vertical-align: top;\n",
       "    }\n",
       "\n",
       "    .dataframe thead th {\n",
       "        text-align: right;\n",
       "    }\n",
       "</style>\n",
       "<table border=\"1\" class=\"dataframe\">\n",
       "  <thead>\n",
       "    <tr style=\"text-align: right;\">\n",
       "      <th></th>\n",
       "      <th>ID</th>\n",
       "      <th>Age</th>\n",
       "      <th>Experience</th>\n",
       "      <th>Income</th>\n",
       "      <th>ZIP Code</th>\n",
       "      <th>Family</th>\n",
       "      <th>CCAvg</th>\n",
       "      <th>Education</th>\n",
       "      <th>Mortgage</th>\n",
       "      <th>Personal Loan</th>\n",
       "      <th>Securities Account</th>\n",
       "      <th>CD Account</th>\n",
       "      <th>Online</th>\n",
       "      <th>CreditCard</th>\n",
       "    </tr>\n",
       "  </thead>\n",
       "  <tbody>\n",
       "    <tr>\n",
       "      <th>0</th>\n",
       "      <td>1</td>\n",
       "      <td>25</td>\n",
       "      <td>1</td>\n",
       "      <td>49</td>\n",
       "      <td>91107</td>\n",
       "      <td>4</td>\n",
       "      <td>1.6</td>\n",
       "      <td>1</td>\n",
       "      <td>0</td>\n",
       "      <td>0</td>\n",
       "      <td>1</td>\n",
       "      <td>0</td>\n",
       "      <td>0</td>\n",
       "      <td>0</td>\n",
       "    </tr>\n",
       "    <tr>\n",
       "      <th>1</th>\n",
       "      <td>2</td>\n",
       "      <td>45</td>\n",
       "      <td>19</td>\n",
       "      <td>34</td>\n",
       "      <td>90089</td>\n",
       "      <td>3</td>\n",
       "      <td>1.5</td>\n",
       "      <td>1</td>\n",
       "      <td>0</td>\n",
       "      <td>0</td>\n",
       "      <td>1</td>\n",
       "      <td>0</td>\n",
       "      <td>0</td>\n",
       "      <td>0</td>\n",
       "    </tr>\n",
       "    <tr>\n",
       "      <th>2</th>\n",
       "      <td>3</td>\n",
       "      <td>39</td>\n",
       "      <td>15</td>\n",
       "      <td>11</td>\n",
       "      <td>94720</td>\n",
       "      <td>1</td>\n",
       "      <td>1.0</td>\n",
       "      <td>1</td>\n",
       "      <td>0</td>\n",
       "      <td>0</td>\n",
       "      <td>0</td>\n",
       "      <td>0</td>\n",
       "      <td>0</td>\n",
       "      <td>0</td>\n",
       "    </tr>\n",
       "    <tr>\n",
       "      <th>3</th>\n",
       "      <td>4</td>\n",
       "      <td>35</td>\n",
       "      <td>9</td>\n",
       "      <td>100</td>\n",
       "      <td>94112</td>\n",
       "      <td>1</td>\n",
       "      <td>2.7</td>\n",
       "      <td>2</td>\n",
       "      <td>0</td>\n",
       "      <td>0</td>\n",
       "      <td>0</td>\n",
       "      <td>0</td>\n",
       "      <td>0</td>\n",
       "      <td>0</td>\n",
       "    </tr>\n",
       "    <tr>\n",
       "      <th>4</th>\n",
       "      <td>5</td>\n",
       "      <td>35</td>\n",
       "      <td>8</td>\n",
       "      <td>45</td>\n",
       "      <td>91330</td>\n",
       "      <td>4</td>\n",
       "      <td>1.0</td>\n",
       "      <td>2</td>\n",
       "      <td>0</td>\n",
       "      <td>0</td>\n",
       "      <td>0</td>\n",
       "      <td>0</td>\n",
       "      <td>0</td>\n",
       "      <td>1</td>\n",
       "    </tr>\n",
       "    <tr>\n",
       "      <th>...</th>\n",
       "      <td>...</td>\n",
       "      <td>...</td>\n",
       "      <td>...</td>\n",
       "      <td>...</td>\n",
       "      <td>...</td>\n",
       "      <td>...</td>\n",
       "      <td>...</td>\n",
       "      <td>...</td>\n",
       "      <td>...</td>\n",
       "      <td>...</td>\n",
       "      <td>...</td>\n",
       "      <td>...</td>\n",
       "      <td>...</td>\n",
       "      <td>...</td>\n",
       "    </tr>\n",
       "    <tr>\n",
       "      <th>4995</th>\n",
       "      <td>4996</td>\n",
       "      <td>29</td>\n",
       "      <td>3</td>\n",
       "      <td>40</td>\n",
       "      <td>92697</td>\n",
       "      <td>1</td>\n",
       "      <td>1.9</td>\n",
       "      <td>3</td>\n",
       "      <td>0</td>\n",
       "      <td>0</td>\n",
       "      <td>0</td>\n",
       "      <td>0</td>\n",
       "      <td>1</td>\n",
       "      <td>0</td>\n",
       "    </tr>\n",
       "    <tr>\n",
       "      <th>4996</th>\n",
       "      <td>4997</td>\n",
       "      <td>30</td>\n",
       "      <td>4</td>\n",
       "      <td>15</td>\n",
       "      <td>92037</td>\n",
       "      <td>4</td>\n",
       "      <td>0.4</td>\n",
       "      <td>1</td>\n",
       "      <td>85</td>\n",
       "      <td>0</td>\n",
       "      <td>0</td>\n",
       "      <td>0</td>\n",
       "      <td>1</td>\n",
       "      <td>0</td>\n",
       "    </tr>\n",
       "    <tr>\n",
       "      <th>4997</th>\n",
       "      <td>4998</td>\n",
       "      <td>63</td>\n",
       "      <td>39</td>\n",
       "      <td>24</td>\n",
       "      <td>93023</td>\n",
       "      <td>2</td>\n",
       "      <td>0.3</td>\n",
       "      <td>3</td>\n",
       "      <td>0</td>\n",
       "      <td>0</td>\n",
       "      <td>0</td>\n",
       "      <td>0</td>\n",
       "      <td>0</td>\n",
       "      <td>0</td>\n",
       "    </tr>\n",
       "    <tr>\n",
       "      <th>4998</th>\n",
       "      <td>4999</td>\n",
       "      <td>65</td>\n",
       "      <td>40</td>\n",
       "      <td>49</td>\n",
       "      <td>90034</td>\n",
       "      <td>3</td>\n",
       "      <td>0.5</td>\n",
       "      <td>2</td>\n",
       "      <td>0</td>\n",
       "      <td>0</td>\n",
       "      <td>0</td>\n",
       "      <td>0</td>\n",
       "      <td>1</td>\n",
       "      <td>0</td>\n",
       "    </tr>\n",
       "    <tr>\n",
       "      <th>4999</th>\n",
       "      <td>5000</td>\n",
       "      <td>28</td>\n",
       "      <td>4</td>\n",
       "      <td>83</td>\n",
       "      <td>92612</td>\n",
       "      <td>3</td>\n",
       "      <td>0.8</td>\n",
       "      <td>1</td>\n",
       "      <td>0</td>\n",
       "      <td>0</td>\n",
       "      <td>0</td>\n",
       "      <td>0</td>\n",
       "      <td>1</td>\n",
       "      <td>1</td>\n",
       "    </tr>\n",
       "  </tbody>\n",
       "</table>\n",
       "<p>5000 rows × 14 columns</p>\n",
       "</div>"
      ],
      "text/plain": [
       "        ID  Age  Experience  Income  ZIP Code  Family  CCAvg  Education  \\\n",
       "0        1   25           1      49     91107       4    1.6          1   \n",
       "1        2   45          19      34     90089       3    1.5          1   \n",
       "2        3   39          15      11     94720       1    1.0          1   \n",
       "3        4   35           9     100     94112       1    2.7          2   \n",
       "4        5   35           8      45     91330       4    1.0          2   \n",
       "...    ...  ...         ...     ...       ...     ...    ...        ...   \n",
       "4995  4996   29           3      40     92697       1    1.9          3   \n",
       "4996  4997   30           4      15     92037       4    0.4          1   \n",
       "4997  4998   63          39      24     93023       2    0.3          3   \n",
       "4998  4999   65          40      49     90034       3    0.5          2   \n",
       "4999  5000   28           4      83     92612       3    0.8          1   \n",
       "\n",
       "      Mortgage  Personal Loan  Securities Account  CD Account  Online  \\\n",
       "0            0              0                   1           0       0   \n",
       "1            0              0                   1           0       0   \n",
       "2            0              0                   0           0       0   \n",
       "3            0              0                   0           0       0   \n",
       "4            0              0                   0           0       0   \n",
       "...        ...            ...                 ...         ...     ...   \n",
       "4995         0              0                   0           0       1   \n",
       "4996        85              0                   0           0       1   \n",
       "4997         0              0                   0           0       0   \n",
       "4998         0              0                   0           0       1   \n",
       "4999         0              0                   0           0       1   \n",
       "\n",
       "      CreditCard  \n",
       "0              0  \n",
       "1              0  \n",
       "2              0  \n",
       "3              0  \n",
       "4              1  \n",
       "...          ...  \n",
       "4995           0  \n",
       "4996           0  \n",
       "4997           0  \n",
       "4998           0  \n",
       "4999           1  \n",
       "\n",
       "[5000 rows x 14 columns]"
      ]
     },
     "execution_count": 2,
     "metadata": {},
     "output_type": "execute_result"
    }
   ],
   "source": [
    "all_data = pd.read_csv('/kaggle/input/bank-loan-classification/UniversalBank.csv')\n",
    "all_data"
   ]
  },
  {
   "cell_type": "markdown",
   "id": "fe478805",
   "metadata": {
    "papermill": {
     "duration": 0.006134,
     "end_time": "2022-10-02T17:05:42.611359",
     "exception": false,
     "start_time": "2022-10-02T17:05:42.605225",
     "status": "completed"
    },
    "tags": []
   },
   "source": [
    "categorical features that need to be preprocessed:\n",
    "zipcode, education(ordinal)\n",
    "\n",
    "\n",
    "target variable:\n",
    "Personal Loan \n",
    "\n",
    "\n",
    "continuous variable:\n",
    "experiencet"
   ]
  },
  {
   "cell_type": "code",
   "execution_count": 3,
   "id": "64472872",
   "metadata": {
    "execution": {
     "iopub.execute_input": "2022-10-02T17:05:42.627067Z",
     "iopub.status.busy": "2022-10-02T17:05:42.626621Z",
     "iopub.status.idle": "2022-10-02T17:05:42.636545Z",
     "shell.execute_reply": "2022-10-02T17:05:42.635508Z"
    },
    "papermill": {
     "duration": 0.021037,
     "end_time": "2022-10-02T17:05:42.638837",
     "exception": false,
     "start_time": "2022-10-02T17:05:42.617800",
     "status": "completed"
    },
    "tags": []
   },
   "outputs": [
    {
     "data": {
      "text/plain": [
       "ID                    0\n",
       "Age                   0\n",
       "Experience            0\n",
       "Income                0\n",
       "ZIP Code              0\n",
       "Family                0\n",
       "CCAvg                 0\n",
       "Education             0\n",
       "Mortgage              0\n",
       "Personal Loan         0\n",
       "Securities Account    0\n",
       "CD Account            0\n",
       "Online                0\n",
       "CreditCard            0\n",
       "dtype: int64"
      ]
     },
     "execution_count": 3,
     "metadata": {},
     "output_type": "execute_result"
    }
   ],
   "source": [
    "# Examine missing values\n",
    "\n",
    "all_data.isna().sum()"
   ]
  },
  {
   "cell_type": "markdown",
   "id": "ff25614f",
   "metadata": {
    "papermill": {
     "duration": 0.006774,
     "end_time": "2022-10-02T17:05:42.652256",
     "exception": false,
     "start_time": "2022-10-02T17:05:42.645482",
     "status": "completed"
    },
    "tags": []
   },
   "source": [
    "There are no missing values in the data "
   ]
  },
  {
   "cell_type": "code",
   "execution_count": 4,
   "id": "ae5673f6",
   "metadata": {
    "execution": {
     "iopub.execute_input": "2022-10-02T17:05:42.667806Z",
     "iopub.status.busy": "2022-10-02T17:05:42.666933Z",
     "iopub.status.idle": "2022-10-02T17:05:42.681225Z",
     "shell.execute_reply": "2022-10-02T17:05:42.680195Z"
    },
    "papermill": {
     "duration": 0.024674,
     "end_time": "2022-10-02T17:05:42.683469",
     "exception": false,
     "start_time": "2022-10-02T17:05:42.658795",
     "status": "completed"
    },
    "tags": []
   },
   "outputs": [
    {
     "data": {
      "text/plain": [
       "0    4520\n",
       "1     480\n",
       "Name: Personal Loan, dtype: int64"
      ]
     },
     "execution_count": 4,
     "metadata": {},
     "output_type": "execute_result"
    }
   ],
   "source": [
    "all_data['Personal Loan'].value_counts()"
   ]
  },
  {
   "cell_type": "markdown",
   "id": "9ac55c2f",
   "metadata": {
    "papermill": {
     "duration": 0.00626,
     "end_time": "2022-10-02T17:05:42.696423",
     "exception": false,
     "start_time": "2022-10-02T17:05:42.690163",
     "status": "completed"
    },
    "tags": []
   },
   "source": [
    "Since the minority class is about 1% of the total data, handling "
   ]
  },
  {
   "cell_type": "code",
   "execution_count": 5,
   "id": "29309ccf",
   "metadata": {
    "execution": {
     "iopub.execute_input": "2022-10-02T17:05:42.711779Z",
     "iopub.status.busy": "2022-10-02T17:05:42.710977Z",
     "iopub.status.idle": "2022-10-02T17:05:42.899211Z",
     "shell.execute_reply": "2022-10-02T17:05:42.898068Z"
    },
    "papermill": {
     "duration": 0.199622,
     "end_time": "2022-10-02T17:05:42.902533",
     "exception": false,
     "start_time": "2022-10-02T17:05:42.702911",
     "status": "completed"
    },
    "tags": []
   },
   "outputs": [
    {
     "name": "stderr",
     "output_type": "stream",
     "text": [
      "/opt/conda/lib/python3.7/site-packages/seaborn/_decorators.py:43: FutureWarning: Pass the following variable as a keyword arg: x. From version 0.12, the only valid positional argument will be `data`, and passing other arguments without an explicit keyword will result in an error or misinterpretation.\n",
      "  FutureWarning\n"
     ]
    },
    {
     "data": {
      "image/png": "[encoded data removed]",
      "text/plain": [
       "<Figure size 720x432 with 1 Axes>"
      ]
     },
     "metadata": {
      "needs_background": "light"
     },
     "output_type": "display_data"
    }
   ],
   "source": [
    "plt.figure(figsize = (10,6))\n",
    "sns.countplot('Personal Loan',data=all_data).set_title('Distribution of Target Variable')\n",
    "plt.show()"
   ]
  },
  {
   "cell_type": "code",
   "execution_count": 6,
   "id": "09cedfb7",
   "metadata": {
    "execution": {
     "iopub.execute_input": "2022-10-02T17:05:42.918749Z",
     "iopub.status.busy": "2022-10-02T17:05:42.918181Z",
     "iopub.status.idle": "2022-10-02T17:05:42.925215Z",
     "shell.execute_reply": "2022-10-02T17:05:42.924285Z"
    },
    "papermill": {
     "duration": 0.017541,
     "end_time": "2022-10-02T17:05:42.927369",
     "exception": false,
     "start_time": "2022-10-02T17:05:42.909828",
     "status": "completed"
    },
    "tags": []
   },
   "outputs": [
    {
     "data": {
      "text/plain": [
       "1    2096\n",
       "3    1501\n",
       "2    1403\n",
       "Name: Education, dtype: int64"
      ]
     },
     "execution_count": 6,
     "metadata": {},
     "output_type": "execute_result"
    }
   ],
   "source": [
    "all_data['Education'].value_counts()"
   ]
  },
  {
   "cell_type": "code",
   "execution_count": 7,
   "id": "ebb6baa9",
   "metadata": {
    "execution": {
     "iopub.execute_input": "2022-10-02T17:05:42.943747Z",
     "iopub.status.busy": "2022-10-02T17:05:42.943158Z",
     "iopub.status.idle": "2022-10-02T17:05:42.988170Z",
     "shell.execute_reply": "2022-10-02T17:05:42.987105Z"
    },
    "papermill": {
     "duration": 0.055952,
     "end_time": "2022-10-02T17:05:42.990695",
     "exception": false,
     "start_time": "2022-10-02T17:05:42.934743",
     "status": "completed"
    },
    "tags": []
   },
   "outputs": [
    {
     "data": {
      "text/html": [
       "<div>\n",
       "<style scoped>\n",
       "    .dataframe tbody tr th:only-of-type {\n",
       "        vertical-align: middle;\n",
       "    }\n",
       "\n",
       "    .dataframe tbody tr th {\n",
       "        vertical-align: top;\n",
       "    }\n",
       "\n",
       "    .dataframe thead th {\n",
       "        text-align: right;\n",
       "    }\n",
       "</style>\n",
       "<table border=\"1\" class=\"dataframe\">\n",
       "  <thead>\n",
       "    <tr style=\"text-align: right;\">\n",
       "      <th></th>\n",
       "      <th>ID</th>\n",
       "      <th>Age</th>\n",
       "      <th>Experience</th>\n",
       "      <th>Income</th>\n",
       "      <th>Family</th>\n",
       "      <th>CCAvg</th>\n",
       "      <th>Mortgage</th>\n",
       "      <th>Personal Loan</th>\n",
       "      <th>Securities Account</th>\n",
       "      <th>CD Account</th>\n",
       "      <th>...</th>\n",
       "      <th>ZIP Code_95973</th>\n",
       "      <th>ZIP Code_96001</th>\n",
       "      <th>ZIP Code_96003</th>\n",
       "      <th>ZIP Code_96008</th>\n",
       "      <th>ZIP Code_96064</th>\n",
       "      <th>ZIP Code_96091</th>\n",
       "      <th>ZIP Code_96094</th>\n",
       "      <th>ZIP Code_96145</th>\n",
       "      <th>ZIP Code_96150</th>\n",
       "      <th>ZIP Code_96651</th>\n",
       "    </tr>\n",
       "  </thead>\n",
       "  <tbody>\n",
       "    <tr>\n",
       "      <th>0</th>\n",
       "      <td>1</td>\n",
       "      <td>25</td>\n",
       "      <td>1</td>\n",
       "      <td>49</td>\n",
       "      <td>4</td>\n",
       "      <td>1.6</td>\n",
       "      <td>0</td>\n",
       "      <td>0</td>\n",
       "      <td>1</td>\n",
       "      <td>0</td>\n",
       "      <td>...</td>\n",
       "      <td>0</td>\n",
       "      <td>0</td>\n",
       "      <td>0</td>\n",
       "      <td>0</td>\n",
       "      <td>0</td>\n",
       "      <td>0</td>\n",
       "      <td>0</td>\n",
       "      <td>0</td>\n",
       "      <td>0</td>\n",
       "      <td>0</td>\n",
       "    </tr>\n",
       "    <tr>\n",
       "      <th>1</th>\n",
       "      <td>2</td>\n",
       "      <td>45</td>\n",
       "      <td>19</td>\n",
       "      <td>34</td>\n",
       "      <td>3</td>\n",
       "      <td>1.5</td>\n",
       "      <td>0</td>\n",
       "      <td>0</td>\n",
       "      <td>1</td>\n",
       "      <td>0</td>\n",
       "      <td>...</td>\n",
       "      <td>0</td>\n",
       "      <td>0</td>\n",
       "      <td>0</td>\n",
       "      <td>0</td>\n",
       "      <td>0</td>\n",
       "      <td>0</td>\n",
       "      <td>0</td>\n",
       "      <td>0</td>\n",
       "      <td>0</td>\n",
       "      <td>0</td>\n",
       "    </tr>\n",
       "    <tr>\n",
       "      <th>2</th>\n",
       "      <td>3</td>\n",
       "      <td>39</td>\n",
       "      <td>15</td>\n",
       "      <td>11</td>\n",
       "      <td>1</td>\n",
       "      <td>1.0</td>\n",
       "      <td>0</td>\n",
       "      <td>0</td>\n",
       "      <td>0</td>\n",
       "      <td>0</td>\n",
       "      <td>...</td>\n",
       "      <td>0</td>\n",
       "      <td>0</td>\n",
       "      <td>0</td>\n",
       "      <td>0</td>\n",
       "      <td>0</td>\n",
       "      <td>0</td>\n",
       "      <td>0</td>\n",
       "      <td>0</td>\n",
       "      <td>0</td>\n",
       "      <td>0</td>\n",
       "    </tr>\n",
       "    <tr>\n",
       "      <th>3</th>\n",
       "      <td>4</td>\n",
       "      <td>35</td>\n",
       "      <td>9</td>\n",
       "      <td>100</td>\n",
       "      <td>1</td>\n",
       "      <td>2.7</td>\n",
       "      <td>0</td>\n",
       "      <td>0</td>\n",
       "      <td>0</td>\n",
       "      <td>0</td>\n",
       "      <td>...</td>\n",
       "      <td>0</td>\n",
       "      <td>0</td>\n",
       "      <td>0</td>\n",
       "      <td>0</td>\n",
       "      <td>0</td>\n",
       "      <td>0</td>\n",
       "      <td>0</td>\n",
       "      <td>0</td>\n",
       "      <td>0</td>\n",
       "      <td>0</td>\n",
       "    </tr>\n",
       "    <tr>\n",
       "      <th>4</th>\n",
       "      <td>5</td>\n",
       "      <td>35</td>\n",
       "      <td>8</td>\n",
       "      <td>45</td>\n",
       "      <td>4</td>\n",
       "      <td>1.0</td>\n",
       "      <td>0</td>\n",
       "      <td>0</td>\n",
       "      <td>0</td>\n",
       "      <td>0</td>\n",
       "      <td>...</td>\n",
       "      <td>0</td>\n",
       "      <td>0</td>\n",
       "      <td>0</td>\n",
       "      <td>0</td>\n",
       "      <td>0</td>\n",
       "      <td>0</td>\n",
       "      <td>0</td>\n",
       "      <td>0</td>\n",
       "      <td>0</td>\n",
       "      <td>0</td>\n",
       "    </tr>\n",
       "    <tr>\n",
       "      <th>...</th>\n",
       "      <td>...</td>\n",
       "      <td>...</td>\n",
       "      <td>...</td>\n",
       "      <td>...</td>\n",
       "      <td>...</td>\n",
       "      <td>...</td>\n",
       "      <td>...</td>\n",
       "      <td>...</td>\n",
       "      <td>...</td>\n",
       "      <td>...</td>\n",
       "      <td>...</td>\n",
       "      <td>...</td>\n",
       "      <td>...</td>\n",
       "      <td>...</td>\n",
       "      <td>...</td>\n",
       "      <td>...</td>\n",
       "      <td>...</td>\n",
       "      <td>...</td>\n",
       "      <td>...</td>\n",
       "      <td>...</td>\n",
       "      <td>...</td>\n",
       "    </tr>\n",
       "    <tr>\n",
       "      <th>4995</th>\n",
       "      <td>4996</td>\n",
       "      <td>29</td>\n",
       "      <td>3</td>\n",
       "      <td>40</td>\n",
       "      <td>1</td>\n",
       "      <td>1.9</td>\n",
       "      <td>0</td>\n",
       "      <td>0</td>\n",
       "      <td>0</td>\n",
       "      <td>0</td>\n",
       "      <td>...</td>\n",
       "      <td>0</td>\n",
       "      <td>0</td>\n",
       "      <td>0</td>\n",
       "      <td>0</td>\n",
       "      <td>0</td>\n",
       "      <td>0</td>\n",
       "      <td>0</td>\n",
       "      <td>0</td>\n",
       "      <td>0</td>\n",
       "      <td>0</td>\n",
       "    </tr>\n",
       "    <tr>\n",
       "      <th>4996</th>\n",
       "      <td>4997</td>\n",
       "      <td>30</td>\n",
       "      <td>4</td>\n",
       "      <td>15</td>\n",
       "      <td>4</td>\n",
       "      <td>0.4</td>\n",
       "      <td>85</td>\n",
       "      <td>0</td>\n",
       "      <td>0</td>\n",
       "      <td>0</td>\n",
       "      <td>...</td>\n",
       "      <td>0</td>\n",
       "      <td>0</td>\n",
       "      <td>0</td>\n",
       "      <td>0</td>\n",
       "      <td>0</td>\n",
       "      <td>0</td>\n",
       "      <td>0</td>\n",
       "      <td>0</td>\n",
       "      <td>0</td>\n",
       "      <td>0</td>\n",
       "    </tr>\n",
       "    <tr>\n",
       "      <th>4997</th>\n",
       "      <td>4998</td>\n",
       "      <td>63</td>\n",
       "      <td>39</td>\n",
       "      <td>24</td>\n",
       "      <td>2</td>\n",
       "      <td>0.3</td>\n",
       "      <td>0</td>\n",
       "      <td>0</td>\n",
       "      <td>0</td>\n",
       "      <td>0</td>\n",
       "      <td>...</td>\n",
       "      <td>0</td>\n",
       "      <td>0</td>\n",
       "      <td>0</td>\n",
       "      <td>0</td>\n",
       "      <td>0</td>\n",
       "      <td>0</td>\n",
       "      <td>0</td>\n",
       "      <td>0</td>\n",
       "      <td>0</td>\n",
       "      <td>0</td>\n",
       "    </tr>\n",
       "    <tr>\n",
       "      <th>4998</th>\n",
       "      <td>4999</td>\n",
       "      <td>65</td>\n",
       "      <td>40</td>\n",
       "      <td>49</td>\n",
       "      <td>3</td>\n",
       "      <td>0.5</td>\n",
       "      <td>0</td>\n",
       "      <td>0</td>\n",
       "      <td>0</td>\n",
       "      <td>0</td>\n",
       "      <td>...</td>\n",
       "      <td>0</td>\n",
       "      <td>0</td>\n",
       "      <td>0</td>\n",
       "      <td>0</td>\n",
       "      <td>0</td>\n",
       "      <td>0</td>\n",
       "      <td>0</td>\n",
       "      <td>0</td>\n",
       "      <td>0</td>\n",
       "      <td>0</td>\n",
       "    </tr>\n",
       "    <tr>\n",
       "      <th>4999</th>\n",
       "      <td>5000</td>\n",
       "      <td>28</td>\n",
       "      <td>4</td>\n",
       "      <td>83</td>\n",
       "      <td>3</td>\n",
       "      <td>0.8</td>\n",
       "      <td>0</td>\n",
       "      <td>0</td>\n",
       "      <td>0</td>\n",
       "      <td>0</td>\n",
       "      <td>...</td>\n",
       "      <td>0</td>\n",
       "      <td>0</td>\n",
       "      <td>0</td>\n",
       "      <td>0</td>\n",
       "      <td>0</td>\n",
       "      <td>0</td>\n",
       "      <td>0</td>\n",
       "      <td>0</td>\n",
       "      <td>0</td>\n",
       "      <td>0</td>\n",
       "    </tr>\n",
       "  </tbody>\n",
       "</table>\n",
       "<p>5000 rows × 482 columns</p>\n",
       "</div>"
      ],
      "text/plain": [
       "        ID  Age  Experience  Income  Family  CCAvg  Mortgage  Personal Loan  \\\n",
       "0        1   25           1      49       4    1.6         0              0   \n",
       "1        2   45          19      34       3    1.5         0              0   \n",
       "2        3   39          15      11       1    1.0         0              0   \n",
       "3        4   35           9     100       1    2.7         0              0   \n",
       "4        5   35           8      45       4    1.0         0              0   \n",
       "...    ...  ...         ...     ...     ...    ...       ...            ...   \n",
       "4995  4996   29           3      40       1    1.9         0              0   \n",
       "4996  4997   30           4      15       4    0.4        85              0   \n",
       "4997  4998   63          39      24       2    0.3         0              0   \n",
       "4998  4999   65          40      49       3    0.5         0              0   \n",
       "4999  5000   28           4      83       3    0.8         0              0   \n",
       "\n",
       "      Securities Account  CD Account  ...  ZIP Code_95973  ZIP Code_96001  \\\n",
       "0                      1           0  ...               0               0   \n",
       "1                      1           0  ...               0               0   \n",
       "2                      0           0  ...               0               0   \n",
       "3                      0           0  ...               0               0   \n",
       "4                      0           0  ...               0               0   \n",
       "...                  ...         ...  ...             ...             ...   \n",
       "4995                   0           0  ...               0               0   \n",
       "4996                   0           0  ...               0               0   \n",
       "4997                   0           0  ...               0               0   \n",
       "4998                   0           0  ...               0               0   \n",
       "4999                   0           0  ...               0               0   \n",
       "\n",
       "      ZIP Code_96003  ZIP Code_96008  ZIP Code_96064  ZIP Code_96091  \\\n",
       "0                  0               0               0               0   \n",
       "1                  0               0               0               0   \n",
       "2                  0               0               0               0   \n",
       "3                  0               0               0               0   \n",
       "4                  0               0               0               0   \n",
       "...              ...             ...             ...             ...   \n",
       "4995               0               0               0               0   \n",
       "4996               0               0               0               0   \n",
       "4997               0               0               0               0   \n",
       "4998               0               0               0               0   \n",
       "4999               0               0               0               0   \n",
       "\n",
       "      ZIP Code_96094  ZIP Code_96145  ZIP Code_96150  ZIP Code_96651  \n",
       "0                  0               0               0               0  \n",
       "1                  0               0               0               0  \n",
       "2                  0               0               0               0  \n",
       "3                  0               0               0               0  \n",
       "4                  0               0               0               0  \n",
       "...              ...             ...             ...             ...  \n",
       "4995               0               0               0               0  \n",
       "4996               0               0               0               0  \n",
       "4997               0               0               0               0  \n",
       "4998               0               0               0               0  \n",
       "4999               0               0               0               0  \n",
       "\n",
       "[5000 rows x 482 columns]"
      ]
     },
     "execution_count": 7,
     "metadata": {},
     "output_type": "execute_result"
    }
   ],
   "source": [
    "one_hot_encoded_data = pd.get_dummies(all_data, columns = ['Education','ZIP Code'])\n",
    "one_hot_encoded_data"
   ]
  },
  {
   "cell_type": "code",
   "execution_count": 8,
   "id": "a0e545af",
   "metadata": {
    "execution": {
     "iopub.execute_input": "2022-10-02T17:05:43.008393Z",
     "iopub.status.busy": "2022-10-02T17:05:43.007280Z",
     "iopub.status.idle": "2022-10-02T17:05:43.020182Z",
     "shell.execute_reply": "2022-10-02T17:05:43.019083Z"
    },
    "papermill": {
     "duration": 0.024247,
     "end_time": "2022-10-02T17:05:43.022639",
     "exception": false,
     "start_time": "2022-10-02T17:05:42.998392",
     "status": "completed"
    },
    "tags": []
   },
   "outputs": [],
   "source": [
    "one_hot_encoded_data = one_hot_encoded_data.drop('ID',axis=1)"
   ]
  },
  {
   "cell_type": "code",
   "execution_count": 9,
   "id": "e2b7b957",
   "metadata": {
    "execution": {
     "iopub.execute_input": "2022-10-02T17:05:43.040642Z",
     "iopub.status.busy": "2022-10-02T17:05:43.040273Z",
     "iopub.status.idle": "2022-10-02T17:05:43.044470Z",
     "shell.execute_reply": "2022-10-02T17:05:43.043384Z"
    },
    "papermill": {
     "duration": 0.015266,
     "end_time": "2022-10-02T17:05:43.046631",
     "exception": false,
     "start_time": "2022-10-02T17:05:43.031365",
     "status": "completed"
    },
    "tags": []
   },
   "outputs": [],
   "source": [
    "# X = one_hot_encoded_data.drop('Personal Loan',axis=1)\n",
    "# scaler = StandardScaler()\n",
    "\n",
    "# columns = np.array(one_hot_encoded_data.keys())\n",
    "# scaledX = scaler.fit_transform(X)\n",
    "# one_hot_encoded_data[columns] = scaledX\n",
    "# one_hot_encoded_data"
   ]
  },
  {
   "cell_type": "code",
   "execution_count": null,
   "id": "d7293158",
   "metadata": {
    "papermill": {
     "duration": 0.007234,
     "end_time": "2022-10-02T17:05:43.061478",
     "exception": false,
     "start_time": "2022-10-02T17:05:43.054244",
     "status": "completed"
    },
    "tags": []
   },
   "outputs": [],
   "source": []
  },
  {
   "cell_type": "code",
   "execution_count": 10,
   "id": "eafc1af8",
   "metadata": {
    "execution": {
     "iopub.execute_input": "2022-10-02T17:05:43.078584Z",
     "iopub.status.busy": "2022-10-02T17:05:43.077827Z",
     "iopub.status.idle": "2022-10-02T17:05:43.132928Z",
     "shell.execute_reply": "2022-10-02T17:05:43.131791Z"
    },
    "papermill": {
     "duration": 0.067356,
     "end_time": "2022-10-02T17:05:43.136448",
     "exception": false,
     "start_time": "2022-10-02T17:05:43.069092",
     "status": "completed"
    },
    "tags": []
   },
   "outputs": [],
   "source": [
    "scaler = MinMaxScaler()\n",
    "model=scaler.fit(one_hot_encoded_data)\n",
    "scaled_data=model.transform(one_hot_encoded_data)\n",
    "\n",
    "scaled_data = pd.DataFrame(scaled_data, index=one_hot_encoded_data.index, columns=one_hot_encoded_data.columns)\n"
   ]
  },
  {
   "cell_type": "code",
   "execution_count": 11,
   "id": "db29b767",
   "metadata": {
    "execution": {
     "iopub.execute_input": "2022-10-02T17:05:43.160386Z",
     "iopub.status.busy": "2022-10-02T17:05:43.159111Z",
     "iopub.status.idle": "2022-10-02T17:05:43.200350Z",
     "shell.execute_reply": "2022-10-02T17:05:43.199084Z"
    },
    "papermill": {
     "duration": 0.056172,
     "end_time": "2022-10-02T17:05:43.202945",
     "exception": false,
     "start_time": "2022-10-02T17:05:43.146773",
     "status": "completed"
    },
    "tags": []
   },
   "outputs": [
    {
     "data": {
      "text/plain": [
       "((3500, 480), (1500, 480), (3500,), (1500,))"
      ]
     },
     "execution_count": 11,
     "metadata": {},
     "output_type": "execute_result"
    }
   ],
   "source": [
    "X = scaled_data.drop('Personal Loan',axis=1)\n",
    "y = scaled_data['Personal Loan']\n",
    "X_train, X_test, y_train, y_test = train_test_split(X, y, test_size = 0.3, random_state = 14)\n",
    "X_train.shape, X_test.shape, y_train.shape, y_test.shape"
   ]
  },
  {
   "cell_type": "code",
   "execution_count": 12,
   "id": "ec69829a",
   "metadata": {
    "execution": {
     "iopub.execute_input": "2022-10-02T17:05:43.222039Z",
     "iopub.status.busy": "2022-10-02T17:05:43.220872Z",
     "iopub.status.idle": "2022-10-02T17:05:52.146699Z",
     "shell.execute_reply": "2022-10-02T17:05:52.145415Z"
    },
    "papermill": {
     "duration": 8.94121,
     "end_time": "2022-10-02T17:05:52.152074",
     "exception": false,
     "start_time": "2022-10-02T17:05:43.210864",
     "status": "completed"
    },
    "tags": []
   },
   "outputs": [
    {
     "name": "stdout",
     "output_type": "stream",
     "text": [
      "[[1337   26]\n",
      " [  65   72]]\n",
      "              precision    recall  f1-score   support\n",
      "\n",
      "         0.0       0.95      0.98      0.97      1363\n",
      "         1.0       0.73      0.53      0.61       137\n",
      "\n",
      "    accuracy                           0.94      1500\n",
      "   macro avg       0.84      0.75      0.79      1500\n",
      "weighted avg       0.93      0.94      0.93      1500\n",
      "\n"
     ]
    },
    {
     "name": "stderr",
     "output_type": "stream",
     "text": [
      "/opt/conda/lib/python3.7/site-packages/sklearn/neural_network/_multilayer_perceptron.py:696: ConvergenceWarning: Stochastic Optimizer: Maximum iterations (200) reached and the optimization hasn't converged yet.\n",
      "  ConvergenceWarning,\n"
     ]
    }
   ],
   "source": [
    "mlp_clf = MLPClassifier(hidden_layer_sizes=20,activation = 'logistic',solver = 'adam')\n",
    "\n",
    "mlp_clf.fit(X_train, y_train.astype('int'))\n",
    "\n",
    "pred = mlp_clf.predict(X_test)\n",
    "\n",
    "print(confusion_matrix(y_test,pred))\n",
    "print(classification_report(y_test,pred))"
   ]
  },
  {
   "cell_type": "code",
   "execution_count": 13,
   "id": "072d7d0f",
   "metadata": {
    "execution": {
     "iopub.execute_input": "2022-10-02T17:05:52.179683Z",
     "iopub.status.busy": "2022-10-02T17:05:52.179160Z",
     "iopub.status.idle": "2022-10-02T17:05:52.421457Z",
     "shell.execute_reply": "2022-10-02T17:05:52.420193Z"
    },
    "papermill": {
     "duration": 0.259071,
     "end_time": "2022-10-02T17:05:52.423818",
     "exception": false,
     "start_time": "2022-10-02T17:05:52.164747",
     "status": "completed"
    },
    "tags": []
   },
   "outputs": [
    {
     "name": "stderr",
     "output_type": "stream",
     "text": [
      "/opt/conda/lib/python3.7/site-packages/sklearn/utils/deprecation.py:87: FutureWarning: Function plot_confusion_matrix is deprecated; Function `plot_confusion_matrix` is deprecated in 1.0 and will be removed in 1.2. Use one of the class methods: ConfusionMatrixDisplay.from_predictions or ConfusionMatrixDisplay.from_estimator.\n",
      "  warnings.warn(msg, category=FutureWarning)\n"
     ]
    },
    {
     "data": {
      "image/png": "[encoded data removed]",
      "text/plain": [
       "<Figure size 432x288 with 2 Axes>"
      ]
     },
     "metadata": {
      "needs_background": "light"
     },
     "output_type": "display_data"
    }
   ],
   "source": [
    "fig = plot_confusion_matrix(mlp_clf, X_test, y_test, display_labels=mlp_clf.classes_)\n",
    "fig.figure_.suptitle(\"Confusion Matrix\")\n",
    "plt.show()"
   ]
  },
  {
   "cell_type": "code",
   "execution_count": 14,
   "id": "ccf606c8",
   "metadata": {
    "execution": {
     "iopub.execute_input": "2022-10-02T17:05:52.442506Z",
     "iopub.status.busy": "2022-10-02T17:05:52.442123Z",
     "iopub.status.idle": "2022-10-02T17:05:52.460281Z",
     "shell.execute_reply": "2022-10-02T17:05:52.458852Z"
    },
    "papermill": {
     "duration": 0.030931,
     "end_time": "2022-10-02T17:05:52.463501",
     "exception": false,
     "start_time": "2022-10-02T17:05:52.432570",
     "status": "completed"
    },
    "tags": []
   },
   "outputs": [
    {
     "name": "stdout",
     "output_type": "stream",
     "text": [
      "ROC AUC:  0.9203453095629542\n"
     ]
    }
   ],
   "source": [
    "print('ROC AUC: ', roc_auc_score(y_test,mlp_clf.predict_proba(X_test)[:,1]))"
   ]
  },
  {
   "cell_type": "code",
   "execution_count": 15,
   "id": "97acf7eb",
   "metadata": {
    "execution": {
     "iopub.execute_input": "2022-10-02T17:05:52.492351Z",
     "iopub.status.busy": "2022-10-02T17:05:52.491808Z",
     "iopub.status.idle": "2022-10-02T17:08:04.588819Z",
     "shell.execute_reply": "2022-10-02T17:08:04.587506Z"
    },
    "papermill": {
     "duration": 132.115361,
     "end_time": "2022-10-02T17:08:04.592259",
     "exception": false,
     "start_time": "2022-10-02T17:05:52.476898",
     "status": "completed"
    },
    "tags": []
   },
   "outputs": [],
   "source": [
    "cv_scores = [ ]\n",
    "\n",
    "for i in range(5,31):\n",
    "    MLPC_model = MLPClassifier(hidden_layer_sizes=i, activation='logistic', solver='lbfgs', random_state=14)\n",
    "    scores = cross_val_score(MLPC_model,X_train,y_train.values.ravel(),cv = 5,scoring = \"accuracy\")\n",
    "    cv_scores.append(scores.mean())"
   ]
  },
  {
   "cell_type": "code",
   "execution_count": 16,
   "id": "2f54ab94",
   "metadata": {
    "execution": {
     "iopub.execute_input": "2022-10-02T17:08:04.653818Z",
     "iopub.status.busy": "2022-10-02T17:08:04.653274Z",
     "iopub.status.idle": "2022-10-02T17:08:04.860618Z",
     "shell.execute_reply": "2022-10-02T17:08:04.859560Z"
    },
    "papermill": {
     "duration": 0.248173,
     "end_time": "2022-10-02T17:08:04.862967",
     "exception": false,
     "start_time": "2022-10-02T17:08:04.614794",
     "status": "completed"
    },
    "tags": []
   },
   "outputs": [
    {
     "data": {
      "text/plain": [
       "<AxesSubplot:>"
      ]
     },
     "execution_count": 16,
     "metadata": {},
     "output_type": "execute_result"
    },
    {
     "data": {
      "image/png": "[encoded data removed]",
      "text/plain": [
       "<Figure size 432x288 with 1 Axes>"
      ]
     },
     "metadata": {
      "needs_background": "light"
     },
     "output_type": "display_data"
    }
   ],
   "source": [
    "sns.lineplot(x=range(5,31), y=cv_scores)"
   ]
  },
  {
   "cell_type": "markdown",
   "id": "1dec720a",
   "metadata": {
    "papermill": {
     "duration": 0.008271,
     "end_time": "2022-10-02T17:08:04.880016",
     "exception": false,
     "start_time": "2022-10-02T17:08:04.871745",
     "status": "completed"
    },
    "tags": []
   },
   "source": []
  },
  {
   "cell_type": "code",
   "execution_count": 17,
   "id": "eea00084",
   "metadata": {
    "execution": {
     "iopub.execute_input": "2022-10-02T17:08:04.899301Z",
     "iopub.status.busy": "2022-10-02T17:08:04.898094Z",
     "iopub.status.idle": "2022-10-02T17:08:12.732625Z",
     "shell.execute_reply": "2022-10-02T17:08:12.731216Z"
    },
    "papermill": {
     "duration": 7.849198,
     "end_time": "2022-10-02T17:08:12.737595",
     "exception": false,
     "start_time": "2022-10-02T17:08:04.888397",
     "status": "completed"
    },
    "tags": []
   },
   "outputs": [
    {
     "name": "stdout",
     "output_type": "stream",
     "text": [
      "[[1340   23]\n",
      " [  68   69]]\n",
      "              precision    recall  f1-score   support\n",
      "\n",
      "         0.0       0.95      0.98      0.97      1363\n",
      "         1.0       0.75      0.50      0.60       137\n",
      "\n",
      "    accuracy                           0.94      1500\n",
      "   macro avg       0.85      0.74      0.78      1500\n",
      "weighted avg       0.93      0.94      0.93      1500\n",
      "\n"
     ]
    },
    {
     "name": "stderr",
     "output_type": "stream",
     "text": [
      "/opt/conda/lib/python3.7/site-packages/sklearn/neural_network/_multilayer_perceptron.py:696: ConvergenceWarning: Stochastic Optimizer: Maximum iterations (200) reached and the optimization hasn't converged yet.\n",
      "  ConvergenceWarning,\n"
     ]
    }
   ],
   "source": [
    "optimal_mlp = MLPClassifier(hidden_layer_sizes=19,activation = 'logistic',solver = 'adam')\n",
    "\n",
    "optimal_mlp.fit(X_train, y_train.astype('int'))\n",
    "\n",
    "pred_ = optimal_mlp.predict(X_test)\n",
    "\n",
    "print(confusion_matrix(y_test,pred_))\n",
    "print(classification_report(y_test,pred_))"
   ]
  },
  {
   "cell_type": "code",
   "execution_count": 18,
   "id": "1980fdb2",
   "metadata": {
    "execution": {
     "iopub.execute_input": "2022-10-02T17:08:12.768332Z",
     "iopub.status.busy": "2022-10-02T17:08:12.767697Z",
     "iopub.status.idle": "2022-10-02T17:08:13.007742Z",
     "shell.execute_reply": "2022-10-02T17:08:13.006627Z"
    },
    "papermill": {
     "duration": 0.258414,
     "end_time": "2022-10-02T17:08:13.010357",
     "exception": false,
     "start_time": "2022-10-02T17:08:12.751943",
     "status": "completed"
    },
    "tags": []
   },
   "outputs": [
    {
     "name": "stderr",
     "output_type": "stream",
     "text": [
      "/opt/conda/lib/python3.7/site-packages/sklearn/utils/deprecation.py:87: FutureWarning: Function plot_confusion_matrix is deprecated; Function `plot_confusion_matrix` is deprecated in 1.0 and will be removed in 1.2. Use one of the class methods: ConfusionMatrixDisplay.from_predictions or ConfusionMatrixDisplay.from_estimator.\n",
      "  warnings.warn(msg, category=FutureWarning)\n"
     ]
    },
    {
     "data": {
      "image/png": "[encoded data removed]",
      "text/plain": [
       "<Figure size 432x288 with 2 Axes>"
      ]
     },
     "metadata": {
      "needs_background": "light"
     },
     "output_type": "display_data"
    }
   ],
   "source": [
    "fig = plot_confusion_matrix(optimal_mlp, X_test, y_test, display_labels=optimal_mlp.classes_)\n",
    "fig.figure_.suptitle(\"Confusion Matrix\")\n",
    "plt.show()"
   ]
  },
  {
   "cell_type": "code",
   "execution_count": 19,
   "id": "75931b6c",
   "metadata": {
    "execution": {
     "iopub.execute_input": "2022-10-02T17:08:13.030233Z",
     "iopub.status.busy": "2022-10-02T17:08:13.029811Z",
     "iopub.status.idle": "2022-10-02T17:08:13.054712Z",
     "shell.execute_reply": "2022-10-02T17:08:13.053059Z"
    },
    "papermill": {
     "duration": 0.038324,
     "end_time": "2022-10-02T17:08:13.057860",
     "exception": false,
     "start_time": "2022-10-02T17:08:13.019536",
     "status": "completed"
    },
    "tags": []
   },
   "outputs": [
    {
     "name": "stdout",
     "output_type": "stream",
     "text": [
      "ROC AUC:  0.9203185330769932\n"
     ]
    }
   ],
   "source": [
    "print('ROC AUC: ', roc_auc_score(y_test,optimal_mlp.predict_proba(X_test)[:,1]))"
   ]
  },
  {
   "cell_type": "code",
   "execution_count": null,
   "id": "40a2bc54",
   "metadata": {
    "papermill": {
     "duration": 0.014257,
     "end_time": "2022-10-02T17:08:13.086899",
     "exception": false,
     "start_time": "2022-10-02T17:08:13.072642",
     "status": "completed"
    },
    "tags": []
   },
   "outputs": [],
   "source": []
  }
 ],
 "metadata": {
  "kernelspec": {
   "display_name": "Python 3",
   "language": "python",
   "name": "python3"
  },
  "language_info": {
   "codemirror_mode": {
    "name": "ipython",
    "version": 3
   },
   "file_extension": ".py",
   "mimetype": "text/x-python",
   "name": "python",
   "nbconvert_exporter": "python",
   "pygments_lexer": "ipython3",
   "version": "3.7.12"
  },
  "papermill": {
   "default_parameters": {},
   "duration": 161.427735,
   "end_time": "2022-10-02T17:08:13.828629",
   "environment_variables": {},
   "exception": null,
   "input_path": "__notebook__.ipynb",
   "output_path": "__notebook__.ipynb",
   "parameters": {},
   "start_time": "2022-10-02T17:05:32.400894",
   "version": "2.3.4"
  }
 },
 "nbformat": 4,
 "nbformat_minor": 5
}
