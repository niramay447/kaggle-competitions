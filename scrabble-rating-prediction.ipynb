{
 "cells": [
  {
   "cell_type": "code",
   "execution_count": 1,
   "id": "67c4d0ad",
   "metadata": {
    "_cell_guid": "b1076dfc-b9ad-4769-8c92-a6c4dae69d19",
    "_uuid": "8f2839f25d086af736a60e9eeb907d3b93b6e0e5",
    "execution": {
     "iopub.execute_input": "2022-11-03T18:28:10.605127Z",
     "iopub.status.busy": "2022-11-03T18:28:10.604661Z",
     "iopub.status.idle": "2022-11-03T18:28:10.617087Z",
     "shell.execute_reply": "2022-11-03T18:28:10.616264Z"
    },
    "papermill": {
     "duration": 0.018357,
     "end_time": "2022-11-03T18:28:10.619124",
     "exception": false,
     "start_time": "2022-11-03T18:28:10.600767",
     "status": "completed"
    },
    "tags": []
   },
   "outputs": [
    {
     "name": "stdout",
     "output_type": "stream",
     "text": [
      "/kaggle/input/scrabble-player-rating/sample_submission.csv\n",
      "/kaggle/input/scrabble-player-rating/games.csv\n",
      "/kaggle/input/scrabble-player-rating/turns.csv\n",
      "/kaggle/input/scrabble-player-rating/train.csv\n",
      "/kaggle/input/scrabble-player-rating/test.csv\n"
     ]
    }
   ],
   "source": [
    "# This Python 3 environment comes with many helpful analytics libraries installed\n",
    "# It is defined by the kaggle/python Docker image: https://github.com/kaggle/docker-python\n",
    "# For example, here's several helpful packages to load\n",
    "\n",
    "import numpy as np # linear algebra\n",
    "import pandas as pd # data processing, CSV file I/O (e.g. pd.read_csv)\n",
    "\n",
    "# Input data files are available in the read-only \"../input/\" directory\n",
    "# For example, running this (by clicking run or pressing Shift+Enter) will list all files under the input directory\n",
    "\n",
    "import os\n",
    "for dirname, _, filenames in os.walk('/kaggle/input'):\n",
    "    for filename in filenames:\n",
    "        print(os.path.join(dirname, filename))\n",
    "\n",
    "# You can write up to 20GB to the current directory (/kaggle/working/) that gets preserved as output when you create a version using \"Save & Run All\" \n",
    "# You can also write temporary files to /kaggle/temp/, but they won't be saved outside of the current session"
   ]
  },
  {
   "cell_type": "code",
   "execution_count": 2,
   "id": "2b187c08",
   "metadata": {
    "execution": {
     "iopub.execute_input": "2022-11-03T18:28:10.624671Z",
     "iopub.status.busy": "2022-11-03T18:28:10.623504Z",
     "iopub.status.idle": "2022-11-03T18:28:14.591779Z",
     "shell.execute_reply": "2022-11-03T18:28:14.590159Z"
    },
    "papermill": {
     "duration": 3.973365,
     "end_time": "2022-11-03T18:28:14.594294",
     "exception": false,
     "start_time": "2022-11-03T18:28:10.620929",
     "status": "completed"
    },
    "tags": []
   },
   "outputs": [],
   "source": [
    "games = pd.read_csv('/kaggle/input/scrabble-player-rating/games.csv')\n",
    "turns = pd.read_csv('/kaggle/input/scrabble-player-rating/turns.csv')\n",
    "train = pd.read_csv('/kaggle/input/scrabble-player-rating/train.csv')\n",
    "test = pd.read_csv('/kaggle/input/scrabble-player-rating/test.csv')"
   ]
  },
  {
   "cell_type": "code",
   "execution_count": null,
   "id": "8f6bdf97",
   "metadata": {
    "papermill": {
     "duration": 0.001313,
     "end_time": "2022-11-03T18:28:14.597439",
     "exception": false,
     "start_time": "2022-11-03T18:28:14.596126",
     "status": "completed"
    },
    "tags": []
   },
   "outputs": [],
   "source": []
  },
  {
   "cell_type": "code",
   "execution_count": null,
   "id": "acaf9b22",
   "metadata": {
    "papermill": {
     "duration": 0.001532,
     "end_time": "2022-11-03T18:28:14.600468",
     "exception": false,
     "start_time": "2022-11-03T18:28:14.598936",
     "status": "completed"
    },
    "tags": []
   },
   "outputs": [],
   "source": []
  }
 ],
 "metadata": {
  "kernelspec": {
   "display_name": "Python 3",
   "language": "python",
   "name": "python3"
  },
  "language_info": {
   "codemirror_mode": {
    "name": "ipython",
    "version": 3
   },
   "file_extension": ".py",
   "mimetype": "text/x-python",
   "name": "python",
   "nbconvert_exporter": "python",
   "pygments_lexer": "ipython3",
   "version": "3.7.12"
  },
  "papermill": {
   "default_parameters": {},
   "duration": 12.241288,
   "end_time": "2022-11-03T18:28:15.423869",
   "environment_variables": {},
   "exception": null,
   "input_path": "__notebook__.ipynb",
   "output_path": "__notebook__.ipynb",
   "parameters": {},
   "start_time": "2022-11-03T18:28:03.182581",
   "version": "2.3.4"
  }
 },
 "nbformat": 4,
 "nbformat_minor": 5
}
