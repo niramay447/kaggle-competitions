{
 "cells": [
  {
   "cell_type": "code",
   "execution_count": 1,
   "id": "caee9945",
   "metadata": {
    "_cell_guid": "b1076dfc-b9ad-4769-8c92-a6c4dae69d19",
    "_uuid": "8f2839f25d086af736a60e9eeb907d3b93b6e0e5",
    "execution": {
     "iopub.execute_input": "2022-07-30T19:36:24.228438Z",
     "iopub.status.busy": "2022-07-30T19:36:24.227958Z",
     "iopub.status.idle": "2022-07-30T19:36:24.248676Z",
     "shell.execute_reply": "2022-07-30T19:36:24.247441Z"
    },
    "papermill": {
     "duration": 0.029626,
     "end_time": "2022-07-30T19:36:24.251777",
     "exception": false,
     "start_time": "2022-07-30T19:36:24.222151",
     "status": "completed"
    },
    "tags": []
   },
   "outputs": [
    {
     "name": "stdout",
     "output_type": "stream",
     "text": [
      "/kaggle/input/english-converted-datasets/items.csv\n",
      "/kaggle/input/english-converted-datasets/sample_submission.csv\n",
      "/kaggle/input/english-converted-datasets/item_categories.csv\n",
      "/kaggle/input/english-converted-datasets/sales_train.csv\n",
      "/kaggle/input/english-converted-datasets/shops.csv\n",
      "/kaggle/input/english-converted-datasets/test.csv\n"
     ]
    }
   ],
   "source": [
    "# This Python 3 environment comes with many helpful analytics libraries installed\n",
    "# It is defined by the kaggle/python Docker image: https://github.com/kaggle/docker-python\n",
    "# For example, here's several helpful packages to load\n",
    "\n",
    "import numpy as np # linear algebra\n",
    "import pandas as pd # data processing, CSV file I/O (e.g. pd.read_csv)\n",
    "\n",
    "# Input data files are available in the read-only \"../input/\" directory\n",
    "# For example, running this (by clicking run or pressing Shift+Enter) will list all files under the input directory\n",
    "\n",
    "import os\n",
    "for dirname, _, filenames in os.walk('/kaggle/input'):\n",
    "    for filename in filenames:\n",
    "        print(os.path.join(dirname, filename))\n",
    "\n",
    "# You can write up to 20GB to the current directory (/kaggle/working/) that gets preserved as output when you create a version using \"Save & Run All\" \n",
    "# You can also write temporary files to /kaggle/temp/, but they won't be saved outside of the current session"
   ]
  },
  {
   "cell_type": "code",
   "execution_count": 2,
   "id": "55360221",
   "metadata": {
    "execution": {
     "iopub.execute_input": "2022-07-30T19:36:24.259087Z",
     "iopub.status.busy": "2022-07-30T19:36:24.258671Z",
     "iopub.status.idle": "2022-07-30T19:36:32.157525Z",
     "shell.execute_reply": "2022-07-30T19:36:32.156521Z"
    },
    "papermill": {
     "duration": 7.905394,
     "end_time": "2022-07-30T19:36:32.160270",
     "exception": false,
     "start_time": "2022-07-30T19:36:24.254876",
     "status": "completed"
    },
    "tags": []
   },
   "outputs": [],
   "source": [
    "import matplotlib.pyplot as plt\n",
    "import seaborn as sns\n",
    "import pandas as pd\n",
    "import numpy as np \n",
    "import tensorflow as tf\n",
    "%matplotlib inline\n",
    "from tensorflow import keras \n",
    "from sklearn.preprocessing import StandardScaler\n",
    "from tensorflow.keras.models import Sequential \n",
    "from tensorflow.keras.layers import LSTM, Dense"
   ]
  },
  {
   "cell_type": "code",
   "execution_count": 3,
   "id": "fe07e3e9",
   "metadata": {
    "execution": {
     "iopub.execute_input": "2022-07-30T19:36:32.167889Z",
     "iopub.status.busy": "2022-07-30T19:36:32.167229Z",
     "iopub.status.idle": "2022-07-30T19:36:34.474733Z",
     "shell.execute_reply": "2022-07-30T19:36:34.473554Z"
    },
    "papermill": {
     "duration": 2.314648,
     "end_time": "2022-07-30T19:36:34.477773",
     "exception": false,
     "start_time": "2022-07-30T19:36:32.163125",
     "status": "completed"
    },
    "tags": []
   },
   "outputs": [],
   "source": [
    "item_categories_df = pd.read_csv('/kaggle/input/english-converted-datasets/item_categories.csv')\n",
    "\n",
    "shops_df = pd.read_csv('/kaggle/input/english-converted-datasets/shops.csv')\n",
    "\n",
    "sales_train_df = pd.read_csv('/kaggle/input/english-converted-datasets/sales_train.csv')\n",
    "\n",
    "items_df = pd.read_csv('/kaggle/input/english-converted-datasets/items.csv')\n",
    "\n",
    "test_df = pd.read_csv('/kaggle/input/english-converted-datasets/test.csv')\n",
    "\n"
   ]
  },
  {
   "cell_type": "code",
   "execution_count": 4,
   "id": "af50951a",
   "metadata": {
    "execution": {
     "iopub.execute_input": "2022-07-30T19:36:34.484970Z",
     "iopub.status.busy": "2022-07-30T19:36:34.484529Z",
     "iopub.status.idle": "2022-07-30T19:36:34.507431Z",
     "shell.execute_reply": "2022-07-30T19:36:34.506317Z"
    },
    "papermill": {
     "duration": 0.029117,
     "end_time": "2022-07-30T19:36:34.509892",
     "exception": false,
     "start_time": "2022-07-30T19:36:34.480775",
     "status": "completed"
    },
    "tags": []
   },
   "outputs": [
    {
     "data": {
      "text/html": [
       "<div>\n",
       "<style scoped>\n",
       "    .dataframe tbody tr th:only-of-type {\n",
       "        vertical-align: middle;\n",
       "    }\n",
       "\n",
       "    .dataframe tbody tr th {\n",
       "        vertical-align: top;\n",
       "    }\n",
       "\n",
       "    .dataframe thead th {\n",
       "        text-align: right;\n",
       "    }\n",
       "</style>\n",
       "<table border=\"1\" class=\"dataframe\">\n",
       "  <thead>\n",
       "    <tr style=\"text-align: right;\">\n",
       "      <th></th>\n",
       "      <th>date</th>\n",
       "      <th>date_block_num</th>\n",
       "      <th>shop_id</th>\n",
       "      <th>item_id</th>\n",
       "      <th>item_price</th>\n",
       "      <th>item_cnt_day</th>\n",
       "    </tr>\n",
       "  </thead>\n",
       "  <tbody>\n",
       "    <tr>\n",
       "      <th>0</th>\n",
       "      <td>02.01.2013</td>\n",
       "      <td>0</td>\n",
       "      <td>59</td>\n",
       "      <td>22154</td>\n",
       "      <td>999.00</td>\n",
       "      <td>1.0</td>\n",
       "    </tr>\n",
       "    <tr>\n",
       "      <th>1</th>\n",
       "      <td>03.01.2013</td>\n",
       "      <td>0</td>\n",
       "      <td>25</td>\n",
       "      <td>2552</td>\n",
       "      <td>899.00</td>\n",
       "      <td>1.0</td>\n",
       "    </tr>\n",
       "    <tr>\n",
       "      <th>2</th>\n",
       "      <td>05.01.2013</td>\n",
       "      <td>0</td>\n",
       "      <td>25</td>\n",
       "      <td>2552</td>\n",
       "      <td>899.00</td>\n",
       "      <td>-1.0</td>\n",
       "    </tr>\n",
       "    <tr>\n",
       "      <th>3</th>\n",
       "      <td>06.01.2013</td>\n",
       "      <td>0</td>\n",
       "      <td>25</td>\n",
       "      <td>2554</td>\n",
       "      <td>1709.05</td>\n",
       "      <td>1.0</td>\n",
       "    </tr>\n",
       "    <tr>\n",
       "      <th>4</th>\n",
       "      <td>15.01.2013</td>\n",
       "      <td>0</td>\n",
       "      <td>25</td>\n",
       "      <td>2555</td>\n",
       "      <td>1099.00</td>\n",
       "      <td>1.0</td>\n",
       "    </tr>\n",
       "  </tbody>\n",
       "</table>\n",
       "</div>"
      ],
      "text/plain": [
       "         date  date_block_num  shop_id  item_id  item_price  item_cnt_day\n",
       "0  02.01.2013               0       59    22154      999.00           1.0\n",
       "1  03.01.2013               0       25     2552      899.00           1.0\n",
       "2  05.01.2013               0       25     2552      899.00          -1.0\n",
       "3  06.01.2013               0       25     2554     1709.05           1.0\n",
       "4  15.01.2013               0       25     2555     1099.00           1.0"
      ]
     },
     "execution_count": 4,
     "metadata": {},
     "output_type": "execute_result"
    }
   ],
   "source": [
    "sales_train_df.head()"
   ]
  },
  {
   "cell_type": "code",
   "execution_count": 5,
   "id": "4b10ebff",
   "metadata": {
    "execution": {
     "iopub.execute_input": "2022-07-30T19:36:34.517341Z",
     "iopub.status.busy": "2022-07-30T19:36:34.516950Z",
     "iopub.status.idle": "2022-07-30T19:36:34.523889Z",
     "shell.execute_reply": "2022-07-30T19:36:34.522743Z"
    },
    "papermill": {
     "duration": 0.013664,
     "end_time": "2022-07-30T19:36:34.526573",
     "exception": false,
     "start_time": "2022-07-30T19:36:34.512909",
     "status": "completed"
    },
    "tags": []
   },
   "outputs": [
    {
     "data": {
      "text/plain": [
       "(2935849, 6)"
      ]
     },
     "execution_count": 5,
     "metadata": {},
     "output_type": "execute_result"
    }
   ],
   "source": [
    "sales_train_df.shape"
   ]
  },
  {
   "cell_type": "code",
   "execution_count": 6,
   "id": "d2132054",
   "metadata": {
    "execution": {
     "iopub.execute_input": "2022-07-30T19:36:34.534907Z",
     "iopub.status.busy": "2022-07-30T19:36:34.534131Z",
     "iopub.status.idle": "2022-07-30T19:36:34.557460Z",
     "shell.execute_reply": "2022-07-30T19:36:34.556268Z"
    },
    "papermill": {
     "duration": 0.030035,
     "end_time": "2022-07-30T19:36:34.559820",
     "exception": false,
     "start_time": "2022-07-30T19:36:34.529785",
     "status": "completed"
    },
    "tags": []
   },
   "outputs": [
    {
     "name": "stdout",
     "output_type": "stream",
     "text": [
      "<class 'pandas.core.frame.DataFrame'>\n",
      "RangeIndex: 2935849 entries, 0 to 2935848\n",
      "Data columns (total 6 columns):\n",
      " #   Column          Dtype  \n",
      "---  ------          -----  \n",
      " 0   date            object \n",
      " 1   date_block_num  int64  \n",
      " 2   shop_id         int64  \n",
      " 3   item_id         int64  \n",
      " 4   item_price      float64\n",
      " 5   item_cnt_day    float64\n",
      "dtypes: float64(2), int64(3), object(1)\n",
      "memory usage: 134.4+ MB\n"
     ]
    }
   ],
   "source": [
    "sales_train_df.info()"
   ]
  },
  {
   "cell_type": "code",
   "execution_count": null,
   "id": "28f3d628",
   "metadata": {
    "papermill": {
     "duration": 0.00281,
     "end_time": "2022-07-30T19:36:34.565807",
     "exception": false,
     "start_time": "2022-07-30T19:36:34.562997",
     "status": "completed"
    },
    "tags": []
   },
   "outputs": [],
   "source": []
  }
 ],
 "metadata": {
  "kernelspec": {
   "display_name": "Python 3",
   "language": "python",
   "name": "python3"
  },
  "language_info": {
   "codemirror_mode": {
    "name": "ipython",
    "version": 3
   },
   "file_extension": ".py",
   "mimetype": "text/x-python",
   "name": "python",
   "nbconvert_exporter": "python",
   "pygments_lexer": "ipython3",
   "version": "3.7.12"
  },
  "papermill": {
   "default_parameters": {},
   "duration": 23.561244,
   "end_time": "2022-07-30T19:36:38.144995",
   "environment_variables": {},
   "exception": null,
   "input_path": "__notebook__.ipynb",
   "output_path": "__notebook__.ipynb",
   "parameters": {},
   "start_time": "2022-07-30T19:36:14.583751",
   "version": "2.3.4"
  }
 },
 "nbformat": 4,
 "nbformat_minor": 5
}
