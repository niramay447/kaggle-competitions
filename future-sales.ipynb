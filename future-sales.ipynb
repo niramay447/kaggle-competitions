{
 "cells": [
  {
   "cell_type": "code",
   "execution_count": 1,
   "id": "36d48130",
   "metadata": {
    "_cell_guid": "b1076dfc-b9ad-4769-8c92-a6c4dae69d19",
    "_uuid": "8f2839f25d086af736a60e9eeb907d3b93b6e0e5",
    "execution": {
     "iopub.execute_input": "2022-07-31T18:35:33.116920Z",
     "iopub.status.busy": "2022-07-31T18:35:33.116128Z",
     "iopub.status.idle": "2022-07-31T18:35:33.146536Z",
     "shell.execute_reply": "2022-07-31T18:35:33.145461Z"
    },
    "papermill": {
     "duration": 0.04318,
     "end_time": "2022-07-31T18:35:33.149818",
     "exception": false,
     "start_time": "2022-07-31T18:35:33.106638",
     "status": "completed"
    },
    "tags": []
   },
   "outputs": [
    {
     "name": "stdout",
     "output_type": "stream",
     "text": [
      "/kaggle/input/english-converted-datasets/items.csv\n",
      "/kaggle/input/english-converted-datasets/sample_submission.csv\n",
      "/kaggle/input/english-converted-datasets/item_categories.csv\n",
      "/kaggle/input/english-converted-datasets/sales_train.csv\n",
      "/kaggle/input/english-converted-datasets/shops.csv\n",
      "/kaggle/input/english-converted-datasets/test.csv\n"
     ]
    }
   ],
   "source": [
    "# This Python 3 environment comes with many helpful analytics libraries installed\n",
    "# It is defined by the kaggle/python Docker image: https://github.com/kaggle/docker-python\n",
    "# For example, here's several helpful packages to load\n",
    "\n",
    "import numpy as np # linear algebra\n",
    "import pandas as pd # data processing, CSV file I/O (e.g. pd.read_csv)\n",
    "\n",
    "# Input data files are available in the read-only \"../input/\" directory\n",
    "# For example, running this (by clicking run or pressing Shift+Enter) will list all files under the input directory\n",
    "\n",
    "import os\n",
    "for dirname, _, filenames in os.walk('/kaggle/input'):\n",
    "    for filename in filenames:\n",
    "        print(os.path.join(dirname, filename))\n",
    "\n",
    "# You can write up to 20GB to the current directory (/kaggle/working/) that gets preserved as output when you create a version using \"Save & Run All\" \n",
    "# You can also write temporary files to /kaggle/temp/, but they won't be saved outside of the current session"
   ]
  },
  {
   "cell_type": "code",
   "execution_count": 2,
   "id": "0f4e40fd",
   "metadata": {
    "execution": {
     "iopub.execute_input": "2022-07-31T18:35:33.164183Z",
     "iopub.status.busy": "2022-07-31T18:35:33.162852Z",
     "iopub.status.idle": "2022-07-31T18:35:41.194800Z",
     "shell.execute_reply": "2022-07-31T18:35:41.193265Z"
    },
    "papermill": {
     "duration": 8.042476,
     "end_time": "2022-07-31T18:35:41.198254",
     "exception": false,
     "start_time": "2022-07-31T18:35:33.155778",
     "status": "completed"
    },
    "tags": []
   },
   "outputs": [],
   "source": [
    "import matplotlib.pyplot as plt\n",
    "import seaborn as sns\n",
    "import pandas as pd\n",
    "import numpy as np \n",
    "import tensorflow as tf\n",
    "%matplotlib inline\n",
    "from tensorflow import keras \n",
    "from sklearn.preprocessing import StandardScaler\n",
    "from tensorflow.keras.models import Sequential \n",
    "from tensorflow.keras.layers import LSTM, Dense"
   ]
  },
  {
   "cell_type": "code",
   "execution_count": 3,
   "id": "eab83a18",
   "metadata": {
    "execution": {
     "iopub.execute_input": "2022-07-31T18:35:41.212010Z",
     "iopub.status.busy": "2022-07-31T18:35:41.211237Z",
     "iopub.status.idle": "2022-07-31T18:35:44.670687Z",
     "shell.execute_reply": "2022-07-31T18:35:44.669136Z"
    },
    "papermill": {
     "duration": 3.47022,
     "end_time": "2022-07-31T18:35:44.674268",
     "exception": false,
     "start_time": "2022-07-31T18:35:41.204048",
     "status": "completed"
    },
    "tags": []
   },
   "outputs": [],
   "source": [
    "item_categories_df = pd.read_csv('/kaggle/input/english-converted-datasets/item_categories.csv')\n",
    "\n",
    "shops_df = pd.read_csv('/kaggle/input/english-converted-datasets/shops.csv')\n",
    "\n",
    "sales_train_df = pd.read_csv('/kaggle/input/english-converted-datasets/sales_train.csv')\n",
    "\n",
    "items_df = pd.read_csv('/kaggle/input/english-converted-datasets/items.csv')\n",
    "\n",
    "test_df = pd.read_csv('/kaggle/input/english-converted-datasets/test.csv')\n",
    "\n"
   ]
  },
  {
   "cell_type": "code",
   "execution_count": 4,
   "id": "cab509df",
   "metadata": {
    "execution": {
     "iopub.execute_input": "2022-07-31T18:35:44.687513Z",
     "iopub.status.busy": "2022-07-31T18:35:44.686960Z",
     "iopub.status.idle": "2022-07-31T18:35:44.716617Z",
     "shell.execute_reply": "2022-07-31T18:35:44.715230Z"
    },
    "papermill": {
     "duration": 0.039459,
     "end_time": "2022-07-31T18:35:44.719372",
     "exception": false,
     "start_time": "2022-07-31T18:35:44.679913",
     "status": "completed"
    },
    "tags": []
   },
   "outputs": [
    {
     "data": {
      "text/html": [
       "<div>\n",
       "<style scoped>\n",
       "    .dataframe tbody tr th:only-of-type {\n",
       "        vertical-align: middle;\n",
       "    }\n",
       "\n",
       "    .dataframe tbody tr th {\n",
       "        vertical-align: top;\n",
       "    }\n",
       "\n",
       "    .dataframe thead th {\n",
       "        text-align: right;\n",
       "    }\n",
       "</style>\n",
       "<table border=\"1\" class=\"dataframe\">\n",
       "  <thead>\n",
       "    <tr style=\"text-align: right;\">\n",
       "      <th></th>\n",
       "      <th>date</th>\n",
       "      <th>date_block_num</th>\n",
       "      <th>shop_id</th>\n",
       "      <th>item_id</th>\n",
       "      <th>item_price</th>\n",
       "      <th>item_cnt_day</th>\n",
       "    </tr>\n",
       "  </thead>\n",
       "  <tbody>\n",
       "    <tr>\n",
       "      <th>0</th>\n",
       "      <td>02.01.2013</td>\n",
       "      <td>0</td>\n",
       "      <td>59</td>\n",
       "      <td>22154</td>\n",
       "      <td>999.00</td>\n",
       "      <td>1.0</td>\n",
       "    </tr>\n",
       "    <tr>\n",
       "      <th>1</th>\n",
       "      <td>03.01.2013</td>\n",
       "      <td>0</td>\n",
       "      <td>25</td>\n",
       "      <td>2552</td>\n",
       "      <td>899.00</td>\n",
       "      <td>1.0</td>\n",
       "    </tr>\n",
       "    <tr>\n",
       "      <th>2</th>\n",
       "      <td>05.01.2013</td>\n",
       "      <td>0</td>\n",
       "      <td>25</td>\n",
       "      <td>2552</td>\n",
       "      <td>899.00</td>\n",
       "      <td>-1.0</td>\n",
       "    </tr>\n",
       "    <tr>\n",
       "      <th>3</th>\n",
       "      <td>06.01.2013</td>\n",
       "      <td>0</td>\n",
       "      <td>25</td>\n",
       "      <td>2554</td>\n",
       "      <td>1709.05</td>\n",
       "      <td>1.0</td>\n",
       "    </tr>\n",
       "    <tr>\n",
       "      <th>4</th>\n",
       "      <td>15.01.2013</td>\n",
       "      <td>0</td>\n",
       "      <td>25</td>\n",
       "      <td>2555</td>\n",
       "      <td>1099.00</td>\n",
       "      <td>1.0</td>\n",
       "    </tr>\n",
       "  </tbody>\n",
       "</table>\n",
       "</div>"
      ],
      "text/plain": [
       "         date  date_block_num  shop_id  item_id  item_price  item_cnt_day\n",
       "0  02.01.2013               0       59    22154      999.00           1.0\n",
       "1  03.01.2013               0       25     2552      899.00           1.0\n",
       "2  05.01.2013               0       25     2552      899.00          -1.0\n",
       "3  06.01.2013               0       25     2554     1709.05           1.0\n",
       "4  15.01.2013               0       25     2555     1099.00           1.0"
      ]
     },
     "execution_count": 4,
     "metadata": {},
     "output_type": "execute_result"
    }
   ],
   "source": [
    "sales_train_df.head()"
   ]
  },
  {
   "cell_type": "code",
   "execution_count": 5,
   "id": "9325d65c",
   "metadata": {
    "execution": {
     "iopub.execute_input": "2022-07-31T18:35:44.732911Z",
     "iopub.status.busy": "2022-07-31T18:35:44.732347Z",
     "iopub.status.idle": "2022-07-31T18:35:44.741259Z",
     "shell.execute_reply": "2022-07-31T18:35:44.739968Z"
    },
    "papermill": {
     "duration": 0.018775,
     "end_time": "2022-07-31T18:35:44.743818",
     "exception": false,
     "start_time": "2022-07-31T18:35:44.725043",
     "status": "completed"
    },
    "tags": []
   },
   "outputs": [
    {
     "data": {
      "text/plain": [
       "(2935849, 6)"
      ]
     },
     "execution_count": 5,
     "metadata": {},
     "output_type": "execute_result"
    }
   ],
   "source": [
    "sales_train_df.shape"
   ]
  },
  {
   "cell_type": "code",
   "execution_count": 6,
   "id": "7ae50e2d",
   "metadata": {
    "execution": {
     "iopub.execute_input": "2022-07-31T18:35:44.758155Z",
     "iopub.status.busy": "2022-07-31T18:35:44.757579Z",
     "iopub.status.idle": "2022-07-31T18:35:44.785373Z",
     "shell.execute_reply": "2022-07-31T18:35:44.783577Z"
    },
    "papermill": {
     "duration": 0.039781,
     "end_time": "2022-07-31T18:35:44.789336",
     "exception": false,
     "start_time": "2022-07-31T18:35:44.749555",
     "status": "completed"
    },
    "tags": []
   },
   "outputs": [
    {
     "name": "stdout",
     "output_type": "stream",
     "text": [
      "<class 'pandas.core.frame.DataFrame'>\n",
      "RangeIndex: 2935849 entries, 0 to 2935848\n",
      "Data columns (total 6 columns):\n",
      " #   Column          Dtype  \n",
      "---  ------          -----  \n",
      " 0   date            object \n",
      " 1   date_block_num  int64  \n",
      " 2   shop_id         int64  \n",
      " 3   item_id         int64  \n",
      " 4   item_price      float64\n",
      " 5   item_cnt_day    float64\n",
      "dtypes: float64(2), int64(3), object(1)\n",
      "memory usage: 134.4+ MB\n"
     ]
    }
   ],
   "source": [
    "sales_train_df.info()"
   ]
  },
  {
   "cell_type": "code",
   "execution_count": 7,
   "id": "948d3a52",
   "metadata": {
    "execution": {
     "iopub.execute_input": "2022-07-31T18:35:44.804409Z",
     "iopub.status.busy": "2022-07-31T18:35:44.803893Z",
     "iopub.status.idle": "2022-07-31T18:35:45.585989Z",
     "shell.execute_reply": "2022-07-31T18:35:45.584602Z"
    },
    "papermill": {
     "duration": 0.793866,
     "end_time": "2022-07-31T18:35:45.589460",
     "exception": false,
     "start_time": "2022-07-31T18:35:44.795594",
     "status": "completed"
    },
    "tags": []
   },
   "outputs": [
    {
     "data": {
      "text/html": [
       "<div>\n",
       "<style scoped>\n",
       "    .dataframe tbody tr th:only-of-type {\n",
       "        vertical-align: middle;\n",
       "    }\n",
       "\n",
       "    .dataframe tbody tr th {\n",
       "        vertical-align: top;\n",
       "    }\n",
       "\n",
       "    .dataframe thead th {\n",
       "        text-align: right;\n",
       "    }\n",
       "</style>\n",
       "<table border=\"1\" class=\"dataframe\">\n",
       "  <thead>\n",
       "    <tr style=\"text-align: right;\">\n",
       "      <th></th>\n",
       "      <th>date_block_num</th>\n",
       "      <th>shop_id</th>\n",
       "      <th>item_id</th>\n",
       "      <th>item_price</th>\n",
       "      <th>item_cnt_day</th>\n",
       "    </tr>\n",
       "  </thead>\n",
       "  <tbody>\n",
       "    <tr>\n",
       "      <th>count</th>\n",
       "      <td>2.935849e+06</td>\n",
       "      <td>2.935849e+06</td>\n",
       "      <td>2.935849e+06</td>\n",
       "      <td>2.935849e+06</td>\n",
       "      <td>2.935849e+06</td>\n",
       "    </tr>\n",
       "    <tr>\n",
       "      <th>mean</th>\n",
       "      <td>1.456991e+01</td>\n",
       "      <td>3.300173e+01</td>\n",
       "      <td>1.019723e+04</td>\n",
       "      <td>8.908532e+02</td>\n",
       "      <td>1.242641e+00</td>\n",
       "    </tr>\n",
       "    <tr>\n",
       "      <th>std</th>\n",
       "      <td>9.422988e+00</td>\n",
       "      <td>1.622697e+01</td>\n",
       "      <td>6.324297e+03</td>\n",
       "      <td>1.729800e+03</td>\n",
       "      <td>2.618834e+00</td>\n",
       "    </tr>\n",
       "    <tr>\n",
       "      <th>min</th>\n",
       "      <td>0.000000e+00</td>\n",
       "      <td>0.000000e+00</td>\n",
       "      <td>0.000000e+00</td>\n",
       "      <td>-1.000000e+00</td>\n",
       "      <td>-2.200000e+01</td>\n",
       "    </tr>\n",
       "    <tr>\n",
       "      <th>25%</th>\n",
       "      <td>7.000000e+00</td>\n",
       "      <td>2.200000e+01</td>\n",
       "      <td>4.476000e+03</td>\n",
       "      <td>2.490000e+02</td>\n",
       "      <td>1.000000e+00</td>\n",
       "    </tr>\n",
       "    <tr>\n",
       "      <th>50%</th>\n",
       "      <td>1.400000e+01</td>\n",
       "      <td>3.100000e+01</td>\n",
       "      <td>9.343000e+03</td>\n",
       "      <td>3.990000e+02</td>\n",
       "      <td>1.000000e+00</td>\n",
       "    </tr>\n",
       "    <tr>\n",
       "      <th>75%</th>\n",
       "      <td>2.300000e+01</td>\n",
       "      <td>4.700000e+01</td>\n",
       "      <td>1.568400e+04</td>\n",
       "      <td>9.990000e+02</td>\n",
       "      <td>1.000000e+00</td>\n",
       "    </tr>\n",
       "    <tr>\n",
       "      <th>max</th>\n",
       "      <td>3.300000e+01</td>\n",
       "      <td>5.900000e+01</td>\n",
       "      <td>2.216900e+04</td>\n",
       "      <td>3.079800e+05</td>\n",
       "      <td>2.169000e+03</td>\n",
       "    </tr>\n",
       "  </tbody>\n",
       "</table>\n",
       "</div>"
      ],
      "text/plain": [
       "       date_block_num       shop_id       item_id    item_price  item_cnt_day\n",
       "count    2.935849e+06  2.935849e+06  2.935849e+06  2.935849e+06  2.935849e+06\n",
       "mean     1.456991e+01  3.300173e+01  1.019723e+04  8.908532e+02  1.242641e+00\n",
       "std      9.422988e+00  1.622697e+01  6.324297e+03  1.729800e+03  2.618834e+00\n",
       "min      0.000000e+00  0.000000e+00  0.000000e+00 -1.000000e+00 -2.200000e+01\n",
       "25%      7.000000e+00  2.200000e+01  4.476000e+03  2.490000e+02  1.000000e+00\n",
       "50%      1.400000e+01  3.100000e+01  9.343000e+03  3.990000e+02  1.000000e+00\n",
       "75%      2.300000e+01  4.700000e+01  1.568400e+04  9.990000e+02  1.000000e+00\n",
       "max      3.300000e+01  5.900000e+01  2.216900e+04  3.079800e+05  2.169000e+03"
      ]
     },
     "execution_count": 7,
     "metadata": {},
     "output_type": "execute_result"
    }
   ],
   "source": [
    "sales_train_df.describe()"
   ]
  },
  {
   "cell_type": "code",
   "execution_count": 8,
   "id": "9dd8a52a",
   "metadata": {
    "execution": {
     "iopub.execute_input": "2022-07-31T18:35:45.605837Z",
     "iopub.status.busy": "2022-07-31T18:35:45.605280Z",
     "iopub.status.idle": "2022-07-31T18:35:45.962352Z",
     "shell.execute_reply": "2022-07-31T18:35:45.960960Z"
    },
    "papermill": {
     "duration": 0.36877,
     "end_time": "2022-07-31T18:35:45.965421",
     "exception": false,
     "start_time": "2022-07-31T18:35:45.596651",
     "status": "completed"
    },
    "tags": []
   },
   "outputs": [
    {
     "data": {
      "text/plain": [
       "date              0\n",
       "date_block_num    0\n",
       "shop_id           0\n",
       "item_id           0\n",
       "item_price        0\n",
       "item_cnt_day      0\n",
       "dtype: int64"
      ]
     },
     "execution_count": 8,
     "metadata": {},
     "output_type": "execute_result"
    }
   ],
   "source": [
    "sales_train_df.isnull().sum()"
   ]
  },
  {
   "cell_type": "code",
   "execution_count": 9,
   "id": "aaacc317",
   "metadata": {
    "execution": {
     "iopub.execute_input": "2022-07-31T18:35:45.980865Z",
     "iopub.status.busy": "2022-07-31T18:35:45.980309Z",
     "iopub.status.idle": "2022-07-31T18:35:46.611108Z",
     "shell.execute_reply": "2022-07-31T18:35:46.609682Z"
    },
    "papermill": {
     "duration": 0.642105,
     "end_time": "2022-07-31T18:35:46.614257",
     "exception": false,
     "start_time": "2022-07-31T18:35:45.972152",
     "status": "completed"
    },
    "tags": []
   },
   "outputs": [
    {
     "data": {
      "text/plain": [
       "0         2013-02-01\n",
       "1         2013-03-01\n",
       "2         2013-05-01\n",
       "3         2013-06-01\n",
       "4         2013-01-15\n",
       "             ...    \n",
       "2935844   2015-10-10\n",
       "2935845   2015-09-10\n",
       "2935846   2015-10-14\n",
       "2935847   2015-10-22\n",
       "2935848   2015-03-10\n",
       "Name: date, Length: 2935849, dtype: datetime64[ns]"
      ]
     },
     "execution_count": 9,
     "metadata": {},
     "output_type": "execute_result"
    }
   ],
   "source": [
    "sales_train_df['date']=pd.to_datetime(sales_train_df['date'])\n",
    "sales_train_df['date']"
   ]
  },
  {
   "cell_type": "code",
   "execution_count": 10,
   "id": "600fe87e",
   "metadata": {
    "execution": {
     "iopub.execute_input": "2022-07-31T18:35:46.630937Z",
     "iopub.status.busy": "2022-07-31T18:35:46.629991Z",
     "iopub.status.idle": "2022-07-31T18:35:46.978627Z",
     "shell.execute_reply": "2022-07-31T18:35:46.977237Z"
    },
    "papermill": {
     "duration": 0.360456,
     "end_time": "2022-07-31T18:35:46.981633",
     "exception": false,
     "start_time": "2022-07-31T18:35:46.621177",
     "status": "completed"
    },
    "tags": []
   },
   "outputs": [
    {
     "data": {
      "text/plain": [
       "0          2013-02\n",
       "1          2013-03\n",
       "2          2013-05\n",
       "3          2013-06\n",
       "4          2013-01\n",
       "            ...   \n",
       "2935844    2015-10\n",
       "2935845    2015-09\n",
       "2935846    2015-10\n",
       "2935847    2015-10\n",
       "2935848    2015-03\n",
       "Name: month_year, Length: 2935849, dtype: period[M]"
      ]
     },
     "execution_count": 10,
     "metadata": {},
     "output_type": "execute_result"
    }
   ],
   "source": [
    "sales_train_df['month_year'] = sales_train_df['date'].dt.to_period('M')\n",
    "sales_train_df['month_year']"
   ]
  },
  {
   "cell_type": "code",
   "execution_count": null,
   "id": "acb6deb2",
   "metadata": {
    "papermill": {
     "duration": 0.006503,
     "end_time": "2022-07-31T18:35:46.995245",
     "exception": false,
     "start_time": "2022-07-31T18:35:46.988742",
     "status": "completed"
    },
    "tags": []
   },
   "outputs": [],
   "source": []
  },
  {
   "cell_type": "code",
   "execution_count": null,
   "id": "b0cf6f89",
   "metadata": {
    "papermill": {
     "duration": 0.006175,
     "end_time": "2022-07-31T18:35:47.008082",
     "exception": false,
     "start_time": "2022-07-31T18:35:47.001907",
     "status": "completed"
    },
    "tags": []
   },
   "outputs": [],
   "source": []
  }
 ],
 "metadata": {
  "kernelspec": {
   "display_name": "Python 3",
   "language": "python",
   "name": "python3"
  },
  "language_info": {
   "codemirror_mode": {
    "name": "ipython",
    "version": 3
   },
   "file_extension": ".py",
   "mimetype": "text/x-python",
   "name": "python",
   "nbconvert_exporter": "python",
   "pygments_lexer": "ipython3",
   "version": "3.7.12"
  },
  "papermill": {
   "default_parameters": {},
   "duration": 30.352347,
   "end_time": "2022-07-31T18:35:50.364070",
   "environment_variables": {},
   "exception": null,
   "input_path": "__notebook__.ipynb",
   "output_path": "__notebook__.ipynb",
   "parameters": {},
   "start_time": "2022-07-31T18:35:20.011723",
   "version": "2.3.4"
  }
 },
 "nbformat": 4,
 "nbformat_minor": 5
}
