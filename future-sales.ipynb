{
 "cells": [
  {
   "cell_type": "code",
   "execution_count": 1,
   "id": "bb02caad",
   "metadata": {
    "_cell_guid": "b1076dfc-b9ad-4769-8c92-a6c4dae69d19",
    "_uuid": "8f2839f25d086af736a60e9eeb907d3b93b6e0e5",
    "execution": {
     "iopub.execute_input": "2022-07-31T18:36:39.225521Z",
     "iopub.status.busy": "2022-07-31T18:36:39.225023Z",
     "iopub.status.idle": "2022-07-31T18:36:39.250030Z",
     "shell.execute_reply": "2022-07-31T18:36:39.249073Z"
    },
    "papermill": {
     "duration": 0.034202,
     "end_time": "2022-07-31T18:36:39.252501",
     "exception": false,
     "start_time": "2022-07-31T18:36:39.218299",
     "status": "completed"
    },
    "tags": []
   },
   "outputs": [
    {
     "name": "stdout",
     "output_type": "stream",
     "text": [
      "/kaggle/input/english-converted-datasets/items.csv\n",
      "/kaggle/input/english-converted-datasets/sample_submission.csv\n",
      "/kaggle/input/english-converted-datasets/item_categories.csv\n",
      "/kaggle/input/english-converted-datasets/sales_train.csv\n",
      "/kaggle/input/english-converted-datasets/shops.csv\n",
      "/kaggle/input/english-converted-datasets/test.csv\n"
     ]
    }
   ],
   "source": [
    "# This Python 3 environment comes with many helpful analytics libraries installed\n",
    "# It is defined by the kaggle/python Docker image: https://github.com/kaggle/docker-python\n",
    "# For example, here's several helpful packages to load\n",
    "\n",
    "import numpy as np # linear algebra\n",
    "import pandas as pd # data processing, CSV file I/O (e.g. pd.read_csv)\n",
    "\n",
    "# Input data files are available in the read-only \"../input/\" directory\n",
    "# For example, running this (by clicking run or pressing Shift+Enter) will list all files under the input directory\n",
    "\n",
    "import os\n",
    "for dirname, _, filenames in os.walk('/kaggle/input'):\n",
    "    for filename in filenames:\n",
    "        print(os.path.join(dirname, filename))\n",
    "\n",
    "# You can write up to 20GB to the current directory (/kaggle/working/) that gets preserved as output when you create a version using \"Save & Run All\" \n",
    "# You can also write temporary files to /kaggle/temp/, but they won't be saved outside of the current session"
   ]
  },
  {
   "cell_type": "code",
   "execution_count": 2,
   "id": "c99db0d0",
   "metadata": {
    "execution": {
     "iopub.execute_input": "2022-07-31T18:36:39.263316Z",
     "iopub.status.busy": "2022-07-31T18:36:39.262973Z",
     "iopub.status.idle": "2022-07-31T18:36:46.031740Z",
     "shell.execute_reply": "2022-07-31T18:36:46.030827Z"
    },
    "papermill": {
     "duration": 6.776801,
     "end_time": "2022-07-31T18:36:46.034149",
     "exception": false,
     "start_time": "2022-07-31T18:36:39.257348",
     "status": "completed"
    },
    "tags": []
   },
   "outputs": [],
   "source": [
    "import matplotlib.pyplot as plt\n",
    "import seaborn as sns\n",
    "import pandas as pd\n",
    "import numpy as np \n",
    "import tensorflow as tf\n",
    "%matplotlib inline\n",
    "from tensorflow import keras \n",
    "from sklearn.preprocessing import StandardScaler\n",
    "from tensorflow.keras.models import Sequential \n",
    "from tensorflow.keras.layers import LSTM, Dense"
   ]
  },
  {
   "cell_type": "code",
   "execution_count": 3,
   "id": "be4589b0",
   "metadata": {
    "execution": {
     "iopub.execute_input": "2022-07-31T18:36:46.044510Z",
     "iopub.status.busy": "2022-07-31T18:36:46.044029Z",
     "iopub.status.idle": "2022-07-31T18:36:48.923175Z",
     "shell.execute_reply": "2022-07-31T18:36:48.922059Z"
    },
    "papermill": {
     "duration": 2.886795,
     "end_time": "2022-07-31T18:36:48.925614",
     "exception": false,
     "start_time": "2022-07-31T18:36:46.038819",
     "status": "completed"
    },
    "tags": []
   },
   "outputs": [],
   "source": [
    "item_categories_df = pd.read_csv('/kaggle/input/english-converted-datasets/item_categories.csv')\n",
    "\n",
    "shops_df = pd.read_csv('/kaggle/input/english-converted-datasets/shops.csv')\n",
    "\n",
    "sales_train_df = pd.read_csv('/kaggle/input/english-converted-datasets/sales_train.csv')\n",
    "\n",
    "items_df = pd.read_csv('/kaggle/input/english-converted-datasets/items.csv')\n",
    "\n",
    "test_df = pd.read_csv('/kaggle/input/english-converted-datasets/test.csv')\n",
    "\n"
   ]
  },
  {
   "cell_type": "code",
   "execution_count": 4,
   "id": "f05438e4",
   "metadata": {
    "execution": {
     "iopub.execute_input": "2022-07-31T18:36:48.933055Z",
     "iopub.status.busy": "2022-07-31T18:36:48.932690Z",
     "iopub.status.idle": "2022-07-31T18:36:48.951484Z",
     "shell.execute_reply": "2022-07-31T18:36:48.950603Z"
    },
    "papermill": {
     "duration": 0.024433,
     "end_time": "2022-07-31T18:36:48.953190",
     "exception": false,
     "start_time": "2022-07-31T18:36:48.928757",
     "status": "completed"
    },
    "tags": []
   },
   "outputs": [
    {
     "data": {
      "text/html": [
       "<div>\n",
       "<style scoped>\n",
       "    .dataframe tbody tr th:only-of-type {\n",
       "        vertical-align: middle;\n",
       "    }\n",
       "\n",
       "    .dataframe tbody tr th {\n",
       "        vertical-align: top;\n",
       "    }\n",
       "\n",
       "    .dataframe thead th {\n",
       "        text-align: right;\n",
       "    }\n",
       "</style>\n",
       "<table border=\"1\" class=\"dataframe\">\n",
       "  <thead>\n",
       "    <tr style=\"text-align: right;\">\n",
       "      <th></th>\n",
       "      <th>date</th>\n",
       "      <th>date_block_num</th>\n",
       "      <th>shop_id</th>\n",
       "      <th>item_id</th>\n",
       "      <th>item_price</th>\n",
       "      <th>item_cnt_day</th>\n",
       "    </tr>\n",
       "  </thead>\n",
       "  <tbody>\n",
       "    <tr>\n",
       "      <th>0</th>\n",
       "      <td>02.01.2013</td>\n",
       "      <td>0</td>\n",
       "      <td>59</td>\n",
       "      <td>22154</td>\n",
       "      <td>999.00</td>\n",
       "      <td>1.0</td>\n",
       "    </tr>\n",
       "    <tr>\n",
       "      <th>1</th>\n",
       "      <td>03.01.2013</td>\n",
       "      <td>0</td>\n",
       "      <td>25</td>\n",
       "      <td>2552</td>\n",
       "      <td>899.00</td>\n",
       "      <td>1.0</td>\n",
       "    </tr>\n",
       "    <tr>\n",
       "      <th>2</th>\n",
       "      <td>05.01.2013</td>\n",
       "      <td>0</td>\n",
       "      <td>25</td>\n",
       "      <td>2552</td>\n",
       "      <td>899.00</td>\n",
       "      <td>-1.0</td>\n",
       "    </tr>\n",
       "    <tr>\n",
       "      <th>3</th>\n",
       "      <td>06.01.2013</td>\n",
       "      <td>0</td>\n",
       "      <td>25</td>\n",
       "      <td>2554</td>\n",
       "      <td>1709.05</td>\n",
       "      <td>1.0</td>\n",
       "    </tr>\n",
       "    <tr>\n",
       "      <th>4</th>\n",
       "      <td>15.01.2013</td>\n",
       "      <td>0</td>\n",
       "      <td>25</td>\n",
       "      <td>2555</td>\n",
       "      <td>1099.00</td>\n",
       "      <td>1.0</td>\n",
       "    </tr>\n",
       "  </tbody>\n",
       "</table>\n",
       "</div>"
      ],
      "text/plain": [
       "         date  date_block_num  shop_id  item_id  item_price  item_cnt_day\n",
       "0  02.01.2013               0       59    22154      999.00           1.0\n",
       "1  03.01.2013               0       25     2552      899.00           1.0\n",
       "2  05.01.2013               0       25     2552      899.00          -1.0\n",
       "3  06.01.2013               0       25     2554     1709.05           1.0\n",
       "4  15.01.2013               0       25     2555     1099.00           1.0"
      ]
     },
     "execution_count": 4,
     "metadata": {},
     "output_type": "execute_result"
    }
   ],
   "source": [
    "sales_train_df.head()"
   ]
  },
  {
   "cell_type": "code",
   "execution_count": 5,
   "id": "1873a342",
   "metadata": {
    "execution": {
     "iopub.execute_input": "2022-07-31T18:36:48.960888Z",
     "iopub.status.busy": "2022-07-31T18:36:48.960427Z",
     "iopub.status.idle": "2022-07-31T18:36:48.970465Z",
     "shell.execute_reply": "2022-07-31T18:36:48.969598Z"
    },
    "papermill": {
     "duration": 0.016149,
     "end_time": "2022-07-31T18:36:48.972438",
     "exception": false,
     "start_time": "2022-07-31T18:36:48.956289",
     "status": "completed"
    },
    "tags": []
   },
   "outputs": [
    {
     "data": {
      "text/plain": [
       "(2935849, 6)"
      ]
     },
     "execution_count": 5,
     "metadata": {},
     "output_type": "execute_result"
    }
   ],
   "source": [
    "sales_train_df.shape"
   ]
  },
  {
   "cell_type": "code",
   "execution_count": 6,
   "id": "09d9257e",
   "metadata": {
    "execution": {
     "iopub.execute_input": "2022-07-31T18:36:48.983377Z",
     "iopub.status.busy": "2022-07-31T18:36:48.983122Z",
     "iopub.status.idle": "2022-07-31T18:36:49.001459Z",
     "shell.execute_reply": "2022-07-31T18:36:49.000580Z"
    },
    "papermill": {
     "duration": 0.02574,
     "end_time": "2022-07-31T18:36:49.003196",
     "exception": false,
     "start_time": "2022-07-31T18:36:48.977456",
     "status": "completed"
    },
    "tags": []
   },
   "outputs": [
    {
     "name": "stdout",
     "output_type": "stream",
     "text": [
      "<class 'pandas.core.frame.DataFrame'>\n",
      "RangeIndex: 2935849 entries, 0 to 2935848\n",
      "Data columns (total 6 columns):\n",
      " #   Column          Dtype  \n",
      "---  ------          -----  \n",
      " 0   date            object \n",
      " 1   date_block_num  int64  \n",
      " 2   shop_id         int64  \n",
      " 3   item_id         int64  \n",
      " 4   item_price      float64\n",
      " 5   item_cnt_day    float64\n",
      "dtypes: float64(2), int64(3), object(1)\n",
      "memory usage: 134.4+ MB\n"
     ]
    }
   ],
   "source": [
    "sales_train_df.info()"
   ]
  },
  {
   "cell_type": "code",
   "execution_count": 7,
   "id": "e0a99bf3",
   "metadata": {
    "execution": {
     "iopub.execute_input": "2022-07-31T18:36:49.011559Z",
     "iopub.status.busy": "2022-07-31T18:36:49.010723Z",
     "iopub.status.idle": "2022-07-31T18:36:49.370048Z",
     "shell.execute_reply": "2022-07-31T18:36:49.369091Z"
    },
    "papermill": {
     "duration": 0.365128,
     "end_time": "2022-07-31T18:36:49.371708",
     "exception": false,
     "start_time": "2022-07-31T18:36:49.006580",
     "status": "completed"
    },
    "tags": []
   },
   "outputs": [
    {
     "data": {
      "text/html": [
       "<div>\n",
       "<style scoped>\n",
       "    .dataframe tbody tr th:only-of-type {\n",
       "        vertical-align: middle;\n",
       "    }\n",
       "\n",
       "    .dataframe tbody tr th {\n",
       "        vertical-align: top;\n",
       "    }\n",
       "\n",
       "    .dataframe thead th {\n",
       "        text-align: right;\n",
       "    }\n",
       "</style>\n",
       "<table border=\"1\" class=\"dataframe\">\n",
       "  <thead>\n",
       "    <tr style=\"text-align: right;\">\n",
       "      <th></th>\n",
       "      <th>date_block_num</th>\n",
       "      <th>shop_id</th>\n",
       "      <th>item_id</th>\n",
       "      <th>item_price</th>\n",
       "      <th>item_cnt_day</th>\n",
       "    </tr>\n",
       "  </thead>\n",
       "  <tbody>\n",
       "    <tr>\n",
       "      <th>count</th>\n",
       "      <td>2.935849e+06</td>\n",
       "      <td>2.935849e+06</td>\n",
       "      <td>2.935849e+06</td>\n",
       "      <td>2.935849e+06</td>\n",
       "      <td>2.935849e+06</td>\n",
       "    </tr>\n",
       "    <tr>\n",
       "      <th>mean</th>\n",
       "      <td>1.456991e+01</td>\n",
       "      <td>3.300173e+01</td>\n",
       "      <td>1.019723e+04</td>\n",
       "      <td>8.908532e+02</td>\n",
       "      <td>1.242641e+00</td>\n",
       "    </tr>\n",
       "    <tr>\n",
       "      <th>std</th>\n",
       "      <td>9.422988e+00</td>\n",
       "      <td>1.622697e+01</td>\n",
       "      <td>6.324297e+03</td>\n",
       "      <td>1.729800e+03</td>\n",
       "      <td>2.618834e+00</td>\n",
       "    </tr>\n",
       "    <tr>\n",
       "      <th>min</th>\n",
       "      <td>0.000000e+00</td>\n",
       "      <td>0.000000e+00</td>\n",
       "      <td>0.000000e+00</td>\n",
       "      <td>-1.000000e+00</td>\n",
       "      <td>-2.200000e+01</td>\n",
       "    </tr>\n",
       "    <tr>\n",
       "      <th>25%</th>\n",
       "      <td>7.000000e+00</td>\n",
       "      <td>2.200000e+01</td>\n",
       "      <td>4.476000e+03</td>\n",
       "      <td>2.490000e+02</td>\n",
       "      <td>1.000000e+00</td>\n",
       "    </tr>\n",
       "    <tr>\n",
       "      <th>50%</th>\n",
       "      <td>1.400000e+01</td>\n",
       "      <td>3.100000e+01</td>\n",
       "      <td>9.343000e+03</td>\n",
       "      <td>3.990000e+02</td>\n",
       "      <td>1.000000e+00</td>\n",
       "    </tr>\n",
       "    <tr>\n",
       "      <th>75%</th>\n",
       "      <td>2.300000e+01</td>\n",
       "      <td>4.700000e+01</td>\n",
       "      <td>1.568400e+04</td>\n",
       "      <td>9.990000e+02</td>\n",
       "      <td>1.000000e+00</td>\n",
       "    </tr>\n",
       "    <tr>\n",
       "      <th>max</th>\n",
       "      <td>3.300000e+01</td>\n",
       "      <td>5.900000e+01</td>\n",
       "      <td>2.216900e+04</td>\n",
       "      <td>3.079800e+05</td>\n",
       "      <td>2.169000e+03</td>\n",
       "    </tr>\n",
       "  </tbody>\n",
       "</table>\n",
       "</div>"
      ],
      "text/plain": [
       "       date_block_num       shop_id       item_id    item_price  item_cnt_day\n",
       "count    2.935849e+06  2.935849e+06  2.935849e+06  2.935849e+06  2.935849e+06\n",
       "mean     1.456991e+01  3.300173e+01  1.019723e+04  8.908532e+02  1.242641e+00\n",
       "std      9.422988e+00  1.622697e+01  6.324297e+03  1.729800e+03  2.618834e+00\n",
       "min      0.000000e+00  0.000000e+00  0.000000e+00 -1.000000e+00 -2.200000e+01\n",
       "25%      7.000000e+00  2.200000e+01  4.476000e+03  2.490000e+02  1.000000e+00\n",
       "50%      1.400000e+01  3.100000e+01  9.343000e+03  3.990000e+02  1.000000e+00\n",
       "75%      2.300000e+01  4.700000e+01  1.568400e+04  9.990000e+02  1.000000e+00\n",
       "max      3.300000e+01  5.900000e+01  2.216900e+04  3.079800e+05  2.169000e+03"
      ]
     },
     "execution_count": 7,
     "metadata": {},
     "output_type": "execute_result"
    }
   ],
   "source": [
    "sales_train_df.describe()"
   ]
  },
  {
   "cell_type": "code",
   "execution_count": 8,
   "id": "abea3c34",
   "metadata": {
    "execution": {
     "iopub.execute_input": "2022-07-31T18:36:49.379998Z",
     "iopub.status.busy": "2022-07-31T18:36:49.379339Z",
     "iopub.status.idle": "2022-07-31T18:36:49.499505Z",
     "shell.execute_reply": "2022-07-31T18:36:49.498495Z"
    },
    "papermill": {
     "duration": 0.127015,
     "end_time": "2022-07-31T18:36:49.502184",
     "exception": false,
     "start_time": "2022-07-31T18:36:49.375169",
     "status": "completed"
    },
    "tags": []
   },
   "outputs": [
    {
     "data": {
      "text/plain": [
       "date              0\n",
       "date_block_num    0\n",
       "shop_id           0\n",
       "item_id           0\n",
       "item_price        0\n",
       "item_cnt_day      0\n",
       "dtype: int64"
      ]
     },
     "execution_count": 8,
     "metadata": {},
     "output_type": "execute_result"
    }
   ],
   "source": [
    "sales_train_df.isnull().sum()"
   ]
  },
  {
   "cell_type": "code",
   "execution_count": 9,
   "id": "2700df5f",
   "metadata": {
    "execution": {
     "iopub.execute_input": "2022-07-31T18:36:49.514211Z",
     "iopub.status.busy": "2022-07-31T18:36:49.513942Z",
     "iopub.status.idle": "2022-07-31T18:36:49.840299Z",
     "shell.execute_reply": "2022-07-31T18:36:49.839316Z"
    },
    "papermill": {
     "duration": 0.334064,
     "end_time": "2022-07-31T18:36:49.841877",
     "exception": false,
     "start_time": "2022-07-31T18:36:49.507813",
     "status": "completed"
    },
    "tags": []
   },
   "outputs": [
    {
     "data": {
      "text/plain": [
       "0         2013-02-01\n",
       "1         2013-03-01\n",
       "2         2013-05-01\n",
       "3         2013-06-01\n",
       "4         2013-01-15\n",
       "             ...    \n",
       "2935844   2015-10-10\n",
       "2935845   2015-09-10\n",
       "2935846   2015-10-14\n",
       "2935847   2015-10-22\n",
       "2935848   2015-03-10\n",
       "Name: date, Length: 2935849, dtype: datetime64[ns]"
      ]
     },
     "execution_count": 9,
     "metadata": {},
     "output_type": "execute_result"
    }
   ],
   "source": [
    "sales_train_df['date']=pd.to_datetime(sales_train_df['date'])\n",
    "sales_train_df['date']"
   ]
  },
  {
   "cell_type": "code",
   "execution_count": 10,
   "id": "8e238299",
   "metadata": {
    "execution": {
     "iopub.execute_input": "2022-07-31T18:36:49.850489Z",
     "iopub.status.busy": "2022-07-31T18:36:49.850211Z",
     "iopub.status.idle": "2022-07-31T18:36:50.013398Z",
     "shell.execute_reply": "2022-07-31T18:36:50.011019Z"
    },
    "papermill": {
     "duration": 0.16972,
     "end_time": "2022-07-31T18:36:50.015472",
     "exception": false,
     "start_time": "2022-07-31T18:36:49.845752",
     "status": "completed"
    },
    "tags": []
   },
   "outputs": [
    {
     "data": {
      "text/plain": [
       "0          2013-02\n",
       "1          2013-03\n",
       "2          2013-05\n",
       "3          2013-06\n",
       "4          2013-01\n",
       "            ...   \n",
       "2935844    2015-10\n",
       "2935845    2015-09\n",
       "2935846    2015-10\n",
       "2935847    2015-10\n",
       "2935848    2015-03\n",
       "Name: month_year, Length: 2935849, dtype: period[M]"
      ]
     },
     "execution_count": 10,
     "metadata": {},
     "output_type": "execute_result"
    }
   ],
   "source": [
    "sales_train_df['month_year'] = sales_train_df['date'].dt.to_period('M')\n",
    "sales_train_df['month_year']"
   ]
  },
  {
   "cell_type": "code",
   "execution_count": 11,
   "id": "248a02d2",
   "metadata": {
    "execution": {
     "iopub.execute_input": "2022-07-31T18:36:50.026526Z",
     "iopub.status.busy": "2022-07-31T18:36:50.026242Z",
     "iopub.status.idle": "2022-07-31T18:36:50.280115Z",
     "shell.execute_reply": "2022-07-31T18:36:50.279102Z"
    },
    "papermill": {
     "duration": 0.260778,
     "end_time": "2022-07-31T18:36:50.281972",
     "exception": false,
     "start_time": "2022-07-31T18:36:50.021194",
     "status": "completed"
    },
    "tags": []
   },
   "outputs": [
    {
     "data": {
      "text/html": [
       "<div>\n",
       "<style scoped>\n",
       "    .dataframe tbody tr th:only-of-type {\n",
       "        vertical-align: middle;\n",
       "    }\n",
       "\n",
       "    .dataframe tbody tr th {\n",
       "        vertical-align: top;\n",
       "    }\n",
       "\n",
       "    .dataframe thead th {\n",
       "        text-align: right;\n",
       "    }\n",
       "</style>\n",
       "<table border=\"1\" class=\"dataframe\">\n",
       "  <thead>\n",
       "    <tr style=\"text-align: right;\">\n",
       "      <th></th>\n",
       "      <th>date</th>\n",
       "      <th>date_block_num</th>\n",
       "      <th>shop_id</th>\n",
       "      <th>item_id</th>\n",
       "      <th>item_price</th>\n",
       "      <th>item_cnt_day</th>\n",
       "      <th>month_year</th>\n",
       "    </tr>\n",
       "  </thead>\n",
       "  <tbody>\n",
       "    <tr>\n",
       "      <th>0</th>\n",
       "      <td>2013-02-01</td>\n",
       "      <td>0</td>\n",
       "      <td>59</td>\n",
       "      <td>22154</td>\n",
       "      <td>999.00</td>\n",
       "      <td>1.0</td>\n",
       "      <td>2013-02</td>\n",
       "    </tr>\n",
       "    <tr>\n",
       "      <th>1</th>\n",
       "      <td>2013-03-01</td>\n",
       "      <td>0</td>\n",
       "      <td>25</td>\n",
       "      <td>2552</td>\n",
       "      <td>899.00</td>\n",
       "      <td>1.0</td>\n",
       "      <td>2013-03</td>\n",
       "    </tr>\n",
       "    <tr>\n",
       "      <th>3</th>\n",
       "      <td>2013-06-01</td>\n",
       "      <td>0</td>\n",
       "      <td>25</td>\n",
       "      <td>2554</td>\n",
       "      <td>1709.05</td>\n",
       "      <td>1.0</td>\n",
       "      <td>2013-06</td>\n",
       "    </tr>\n",
       "    <tr>\n",
       "      <th>4</th>\n",
       "      <td>2013-01-15</td>\n",
       "      <td>0</td>\n",
       "      <td>25</td>\n",
       "      <td>2555</td>\n",
       "      <td>1099.00</td>\n",
       "      <td>1.0</td>\n",
       "      <td>2013-01</td>\n",
       "    </tr>\n",
       "    <tr>\n",
       "      <th>5</th>\n",
       "      <td>2013-10-01</td>\n",
       "      <td>0</td>\n",
       "      <td>25</td>\n",
       "      <td>2564</td>\n",
       "      <td>349.00</td>\n",
       "      <td>1.0</td>\n",
       "      <td>2013-10</td>\n",
       "    </tr>\n",
       "    <tr>\n",
       "      <th>...</th>\n",
       "      <td>...</td>\n",
       "      <td>...</td>\n",
       "      <td>...</td>\n",
       "      <td>...</td>\n",
       "      <td>...</td>\n",
       "      <td>...</td>\n",
       "      <td>...</td>\n",
       "    </tr>\n",
       "    <tr>\n",
       "      <th>2935844</th>\n",
       "      <td>2015-10-10</td>\n",
       "      <td>33</td>\n",
       "      <td>25</td>\n",
       "      <td>7409</td>\n",
       "      <td>299.00</td>\n",
       "      <td>1.0</td>\n",
       "      <td>2015-10</td>\n",
       "    </tr>\n",
       "    <tr>\n",
       "      <th>2935845</th>\n",
       "      <td>2015-09-10</td>\n",
       "      <td>33</td>\n",
       "      <td>25</td>\n",
       "      <td>7460</td>\n",
       "      <td>299.00</td>\n",
       "      <td>1.0</td>\n",
       "      <td>2015-09</td>\n",
       "    </tr>\n",
       "    <tr>\n",
       "      <th>2935846</th>\n",
       "      <td>2015-10-14</td>\n",
       "      <td>33</td>\n",
       "      <td>25</td>\n",
       "      <td>7459</td>\n",
       "      <td>349.00</td>\n",
       "      <td>1.0</td>\n",
       "      <td>2015-10</td>\n",
       "    </tr>\n",
       "    <tr>\n",
       "      <th>2935847</th>\n",
       "      <td>2015-10-22</td>\n",
       "      <td>33</td>\n",
       "      <td>25</td>\n",
       "      <td>7440</td>\n",
       "      <td>299.00</td>\n",
       "      <td>1.0</td>\n",
       "      <td>2015-10</td>\n",
       "    </tr>\n",
       "    <tr>\n",
       "      <th>2935848</th>\n",
       "      <td>2015-03-10</td>\n",
       "      <td>33</td>\n",
       "      <td>25</td>\n",
       "      <td>7460</td>\n",
       "      <td>299.00</td>\n",
       "      <td>1.0</td>\n",
       "      <td>2015-03</td>\n",
       "    </tr>\n",
       "  </tbody>\n",
       "</table>\n",
       "<p>2928492 rows × 7 columns</p>\n",
       "</div>"
      ],
      "text/plain": [
       "              date  date_block_num  shop_id  item_id  item_price  \\\n",
       "0       2013-02-01               0       59    22154      999.00   \n",
       "1       2013-03-01               0       25     2552      899.00   \n",
       "3       2013-06-01               0       25     2554     1709.05   \n",
       "4       2013-01-15               0       25     2555     1099.00   \n",
       "5       2013-10-01               0       25     2564      349.00   \n",
       "...            ...             ...      ...      ...         ...   \n",
       "2935844 2015-10-10              33       25     7409      299.00   \n",
       "2935845 2015-09-10              33       25     7460      299.00   \n",
       "2935846 2015-10-14              33       25     7459      349.00   \n",
       "2935847 2015-10-22              33       25     7440      299.00   \n",
       "2935848 2015-03-10              33       25     7460      299.00   \n",
       "\n",
       "         item_cnt_day month_year  \n",
       "0                 1.0    2013-02  \n",
       "1                 1.0    2013-03  \n",
       "3                 1.0    2013-06  \n",
       "4                 1.0    2013-01  \n",
       "5                 1.0    2013-10  \n",
       "...               ...        ...  \n",
       "2935844           1.0    2015-10  \n",
       "2935845           1.0    2015-09  \n",
       "2935846           1.0    2015-10  \n",
       "2935847           1.0    2015-10  \n",
       "2935848           1.0    2015-03  \n",
       "\n",
       "[2928492 rows x 7 columns]"
      ]
     },
     "execution_count": 11,
     "metadata": {},
     "output_type": "execute_result"
    }
   ],
   "source": [
    "sales_train_df = sales_train_df[sales_train_df['item_price']>0]\n",
    "sales_train_df = sales_train_df[sales_train_df['item_cnt_day']>0]\n",
    "sales_train_df"
   ]
  },
  {
   "cell_type": "code",
   "execution_count": null,
   "id": "4551d9e4",
   "metadata": {
    "papermill": {
     "duration": 0.00359,
     "end_time": "2022-07-31T18:36:50.289661",
     "exception": false,
     "start_time": "2022-07-31T18:36:50.286071",
     "status": "completed"
    },
    "tags": []
   },
   "outputs": [],
   "source": []
  }
 ],
 "metadata": {
  "kernelspec": {
   "display_name": "Python 3",
   "language": "python",
   "name": "python3"
  },
  "language_info": {
   "codemirror_mode": {
    "name": "ipython",
    "version": 3
   },
   "file_extension": ".py",
   "mimetype": "text/x-python",
   "name": "python",
   "nbconvert_exporter": "python",
   "pygments_lexer": "ipython3",
   "version": "3.7.12"
  },
  "papermill": {
   "default_parameters": {},
   "duration": 21.323336,
   "end_time": "2022-07-31T18:36:53.080075",
   "environment_variables": {},
   "exception": null,
   "input_path": "__notebook__.ipynb",
   "output_path": "__notebook__.ipynb",
   "parameters": {},
   "start_time": "2022-07-31T18:36:31.756739",
   "version": "2.3.4"
  }
 },
 "nbformat": 4,
 "nbformat_minor": 5
}
